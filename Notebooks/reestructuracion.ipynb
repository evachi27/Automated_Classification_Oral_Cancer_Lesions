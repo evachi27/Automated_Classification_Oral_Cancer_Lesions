{
  "cells": [
    {
      "cell_type": "markdown",
      "id": "d68e5551-b92c-4bd8-ae05-1f1df3b14ff6",
      "metadata": {
        "id": "d68e5551-b92c-4bd8-ae05-1f1df3b14ff6"
      },
      "source": [
        "# **Data reorganization and pre-processing**\n",
        "\n",
        "In this phase, with the raw directories located and created we should make an anonymization and separation in training, test and validation. Once already we will proceed to make data augmentation.\n",
        "\n",
        "In our work environment we have two subdirectories with raw data. Each case is made up of 2 pairs of images {photo, mask}:\n",
        "\n",
        "* 4 folders control cases (202 cases)\n",
        "* 1 folder of cancer cases (120 cases)\n",
        "\n",
        "This data should be rearranged to get the following structure:\n",
        "\n",
        "- **Procesado**\n",
        "\n",
        "  * Cancer\n",
        "    - Case 1C\n",
        "      + Original\n",
        "      + Mask\n",
        "    - ...\n",
        "    - Case 120C\n",
        "\n",
        "  * Controles\n",
        "    - Case 1\n",
        "      + Original\n",
        "      + Mask\n",
        "    - ...\n",
        "    - Case 202\n",
        "\n",
        "  * test\n",
        "    - images\n",
        "    - masks\n",
        "    - bboxes*\n",
        "    - DETR**\n",
        "  * train\n",
        "    - images\n",
        "    - masks\n",
        "    - bboxes\n",
        "    - DETR\n",
        "  * valid\n",
        "    - images\n",
        "    - masks\n",
        "    - bboxes\n",
        "    - DETR\n",
        "\n",
        "   *bboxes contains the gold standard bounding box we could obtain by using the gold mask.\n",
        "   \n",
        "   ** DETR contains the bounding boxes we have obtained by our DETR model.\n",
        "\n",
        "- **Data**\n",
        "\n",
        "  * Gold_Standard (Original data, detections(d) and segmentations(s))\n",
        "    - train, dtrain, strain\n",
        "    - test, dtest, stest\n",
        "    - valid, dvalid, svalid\n",
        "  * SAM\n",
        "  * DETR\n",
        "  * SAM+DETR\n",
        "  *These three last directories will be generated in subsequent phases automathicaly.*"
      ]
    },
    {
      "cell_type": "markdown",
      "id": "1fa4524f-2000-4b24-9e5d-7b48f445ce0d",
      "metadata": {
        "jp-MarkdownHeadingCollapsed": true,
        "id": "1fa4524f-2000-4b24-9e5d-7b48f445ce0d"
      },
      "source": [
        "## Library"
      ]
    },
    {
      "cell_type": "code",
      "execution_count": null,
      "id": "0d3a02f0",
      "metadata": {
        "id": "0d3a02f0"
      },
      "outputs": [],
      "source": [
        "#Directories & base\n",
        "import os\n",
        "import errno\n",
        "from distutils.dir_util import copy_tree\n",
        "import shutil\n",
        "import time\n",
        "import numpy as np\n",
        "import csv\n",
        "import json\n",
        "import random\n",
        "from tqdm import tqdm\n",
        "\n",
        "#Augmentation\n",
        "from skimage.io import imread, imshow\n",
        "from skimage.transform import resize\n",
        "import matplotlib.pyplot as plt\n",
        "from skimage import color\n",
        "import cv2\n",
        "import pandas as pd\n",
        "import albumentations as A\n",
        "\n",
        "#Bounding_boxes\n",
        "import torch\n",
        "from torchvision.ops import masks_to_boxes"
      ]
    },
    {
      "cell_type": "code",
      "execution_count": null,
      "id": "44ed1f1b",
      "metadata": {
        "id": "44ed1f1b",
        "outputId": "2afcf960-23ee-4ae2-c342-7a186f6324ec"
      },
      "outputs": [
        {
          "data": {
            "text/plain": [
              "['/home/eva/01. Primeros_casos controles',\n",
              " '/home/eva/03. Tercera seleccion_controles',\n",
              " '/home/eva/04. Cuarta seleccion-controles',\n",
              " '/home/eva/02. Segundo envio casos controles']"
            ]
          },
          "execution_count": 2,
          "metadata": {},
          "output_type": "execute_result"
        }
      ],
      "source": [
        "['/home/eva/'+data for data in os.listdir('/home/eva/') if 'control' in data]"
      ]
    },
    {
      "cell_type": "markdown",
      "id": "fda7e1c2-a848-42c1-858d-6c2d93ff4ee5",
      "metadata": {
        "id": "fda7e1c2-a848-42c1-858d-6c2d93ff4ee5"
      },
      "source": [
        "- TYPE=\"Balanced\", to treat augmentation in a way that reduces the imbalance\n",
        "    \n",
        "- TYPE=\"\", it means to process the data by increasing both classes equally\n",
        "\n",
        "Just comment or uncomment the corresponding option."
      ]
    },
    {
      "cell_type": "code",
      "execution_count": null,
      "id": "835e70da-e51f-47d3-927f-19a7c18bffbc",
      "metadata": {
        "id": "835e70da-e51f-47d3-927f-19a7c18bffbc"
      },
      "outputs": [],
      "source": [
        "TYPE=\"_Balanced\"\n",
        "#TYPE=\"\""
      ]
    },
    {
      "cell_type": "markdown",
      "id": "8c98c745",
      "metadata": {
        "jp-MarkdownHeadingCollapsed": true,
        "id": "8c98c745"
      },
      "source": [
        "## Raw Directories"
      ]
    },
    {
      "cell_type": "code",
      "execution_count": null,
      "id": "023d8ab7",
      "metadata": {
        "id": "023d8ab7"
      },
      "outputs": [],
      "source": [
        "#Paths\n",
        "raw_controles = ['/home/eva/'+data for data in os.listdir('/home/eva/') if 'control' in data]\n",
        "raw_cancer = '/home/eva/Cancer'"
      ]
    },
    {
      "cell_type": "markdown",
      "id": "5dbc06d1",
      "metadata": {
        "id": "5dbc06d1"
      },
      "source": [
        "We’ll need to create the directories so ViT can quickly read them."
      ]
    },
    {
      "cell_type": "code",
      "execution_count": null,
      "id": "2df8bfc5",
      "metadata": {
        "id": "2df8bfc5",
        "outputId": "137e2cd5-1607-4a85-c908-987c1d839a4b"
      },
      "outputs": [
        {
          "name": "stdout",
          "output_type": "stream",
          "text": [
            "Directorio creado\n",
            "Directorio train creado\n",
            "Directorio valid creado\n",
            "Directorio test creado\n",
            "Directorio dtrain creado\n",
            "Directorio dvalid creado\n",
            "Directorio dtest creado\n",
            "Directorio strain creado\n",
            "Directorio svalid creado\n",
            "Directorio stest creado\n"
          ]
        }
      ],
      "source": [
        "#We create directories by class within data\n",
        "try:\n",
        "    os.makedirs(\"./data\"+TYPE)\n",
        "    os.makedirs(\"./data\"+TYPE+\"/Gold_Standard\")\n",
        "    print(\"Directorio creado\")\n",
        "except OSError as e:\n",
        "    if e.errno != errno.EEXIST:\n",
        "        raise\n",
        "\n",
        "names=['train','valid','test','dtrain','dvalid','dtest','strain','svalid','stest']\n",
        "\n",
        "for name in names:\n",
        "\n",
        "    try:\n",
        "        os.makedirs(\"./data\"+TYPE+\"/Gold_Standard/\"+name)\n",
        "        os.makedirs(\"./data\"+TYPE+\"/Gold_Standard/\"+name+\"/Cáncer\")\n",
        "        os.makedirs(\"./data\"+TYPE+\"/Gold_Standard/\"+name+\"/Control\")\n",
        "        print(\"Directorio\", name, \"creado\")\n",
        "    except OSError as e:\n",
        "        if e.errno != errno.EEXIST:\n",
        "            raise"
      ]
    },
    {
      "cell_type": "markdown",
      "id": "d58249ba",
      "metadata": {
        "jp-MarkdownHeadingCollapsed": true,
        "id": "d58249ba"
      },
      "source": [
        "## Anonymization"
      ]
    },
    {
      "cell_type": "code",
      "execution_count": null,
      "id": "dfb394d7",
      "metadata": {
        "id": "dfb394d7",
        "outputId": "d5082659-9f94-4a17-c4da-7e4b790d8d86"
      },
      "outputs": [
        {
          "name": "stdout",
          "output_type": "stream",
          "text": [
            "['01. Primeros_casos controles', '03. Tercera seleccion_controles', '04. Cuarta seleccion-controles', '02. Segundo envio casos controles']\n"
          ]
        }
      ],
      "source": [
        "files_names = [data for data in os.listdir('/home/eva/') if 'control' in data]\n",
        "print(files_names)"
      ]
    },
    {
      "cell_type": "code",
      "execution_count": null,
      "id": "ee7392f5",
      "metadata": {
        "id": "ee7392f5",
        "outputId": "18f8babe-b98c-4199-98ac-893d7b715fda"
      },
      "outputs": [
        {
          "name": "stdout",
          "output_type": "stream",
          "text": [
            "Directorio creado\n",
            "Directorio creado\n",
            "['Controles', 'Cancer']\n"
          ]
        }
      ],
      "source": [
        "#We create the folder for anonymization control cases\n",
        "try:\n",
        "    os.makedirs(\"./Procesado\"+TYPE+\"/Controles\")\n",
        "    print(\"Directorio creado\")\n",
        "except OSError as e:\n",
        "    if e.errno != errno.EEXIST:\n",
        "        raise\n",
        "\n",
        "#We created the folder for cancer cases\n",
        "try:\n",
        "    os.makedirs(\"./Procesado\"+TYPE+\"/Cancer\")\n",
        "    print(\"Directorio creado\")\n",
        "except OSError as e:\n",
        "    if e.errno != errno.EEXIST:\n",
        "        raise\n",
        "\n",
        "print(os.listdir(\"./Procesado\"+TYPE))"
      ]
    },
    {
      "cell_type": "markdown",
      "id": "2b2914f7",
      "metadata": {
        "id": "2b2914f7"
      },
      "source": [
        "* **Controls**"
      ]
    },
    {
      "cell_type": "code",
      "execution_count": null,
      "id": "a127ec5f",
      "metadata": {
        "id": "a127ec5f",
        "outputId": "a047b9a5-c8d7-4dc5-d73e-f191bea38740"
      },
      "outputs": [
        {
          "data": {
            "text/plain": [
              "'01. Primeros_casos controles'"
            ]
          },
          "execution_count": 9,
          "metadata": {},
          "output_type": "execute_result"
        }
      ],
      "source": [
        "raw_controles[0].split('eva/')[1]"
      ]
    },
    {
      "cell_type": "code",
      "execution_count": null,
      "id": "31a3c33c",
      "metadata": {
        "id": "31a3c33c",
        "outputId": "e576f163-4f6c-4657-861c-b15e6d4caad3"
      },
      "outputs": [
        {
          "name": "stdout",
          "output_type": "stream",
          "text": [
            "****01. Primeros_casos controles****\n",
            "****NEXT*****\n",
            "****03. Tercera seleccion_controles****\n",
            "****NEXT*****\n",
            "****04. Cuarta seleccion-controles****\n",
            "****NEXT*****\n",
            "****02. Segundo envio casos controles****\n",
            "****NEXT*****\n",
            "*****END*****\n",
            "Tiempo requerido: 14.0\n"
          ]
        }
      ],
      "source": [
        "inicio = time.time() #Time taken\n",
        "\n",
        "ruta_imgC=\"./Procesado\"+TYPE+\"/Controles/\"\n",
        "\n",
        "width_shape, height_shape = 250, 250\n",
        "top_len=5 #00000\n",
        "j=1\n",
        "jj=1\n",
        "towritedics=[] #list of new allocations\n",
        "n=0\n",
        "for f in raw_controles:\n",
        "    print('****'+f.split('eva/')[1]+'****')\n",
        "    input_images_path=raw_controles[n]\n",
        "\n",
        "    '''\n",
        "    We load the images into a list and rearrange them to have the originals first\n",
        "    and then the corresponding mask\n",
        "    '''\n",
        "    imgs_names = os.listdir(input_images_path)\n",
        "    imgs_names.sort(reverse=True)\n",
        "    for i in range(len(imgs_names)):\n",
        "        img_name= imgs_names[i]\n",
        "        img_rute=input_images_path+\"/\"+img_name\n",
        "\n",
        "        #For the original images\n",
        "        if(')' not in img_name):\n",
        "            ceros=top_len-len(str(j))\n",
        "            paciente_name=('0'*ceros)+str(j)\n",
        "            real_name=img_name\n",
        "\n",
        "            towritedics.append({'original_field': str(f.split('eva/')[1]),\n",
        "                                'real_name': real_name,\n",
        "                                'assigned_name': str(paciente_name)+'.jpg'})\n",
        "\n",
        "            #With the new name we create the directory\n",
        "            try:\n",
        "                os.makedirs(ruta_imgC+str(paciente_name))\n",
        "                os.makedirs(ruta_imgC+str(paciente_name)+'/Original')\n",
        "                os.makedirs(ruta_imgC+str(paciente_name)+'/Mask')\n",
        "            except OSError as e:\n",
        "                if e.errno != errno.EEXIST:\n",
        "                    raise\n",
        "\n",
        "            #Preprocess the original image (resize) and save it\n",
        "            img = cv2.imread(img_rute,cv2.COLOR_BGR2RGB)\n",
        "            img = cv2.resize(img,(height_shape, width_shape))\n",
        "            #Save image to desired folder with your name\n",
        "            cv2.imwrite(ruta_imgC+str(paciente_name)+\"/Original/\"+str(paciente_name)+'.jpg', img)\n",
        "            j=j+1\n",
        "\n",
        "        else:\n",
        "            real_name=img_name\n",
        "            ceros=top_len-len(str(jj))\n",
        "            paciente_name=('0'*ceros)+str(jj)\n",
        "            towritedics.append({'original_field': str(f.split('eva/')[1]),\n",
        "                                'real_name': real_name,\n",
        "                                'assigned_name': str(paciente_name)+'(1).jpg'})\n",
        "\n",
        "            #With the new name we create the directory\n",
        "            try:\n",
        "                os.makedirs(ruta_imgC+str(paciente_name))\n",
        "                os.makedirs(ruta_imgC+str(paciente_name)+'/Original')\n",
        "                os.makedirs(ruta_imgC+str(paciente_name)+'/Mask')\n",
        "            except OSError as e:\n",
        "                if e.errno != errno.EEXIST:\n",
        "                    raise\n",
        "\n",
        "            #Resize the mask and save it\n",
        "            img = cv2.imread(img_rute,cv2.COLOR_BGR2RGB)\n",
        "            img = cv2.resize(img,(height_shape, width_shape))\n",
        "            #Save image to desired folder with your name\n",
        "            cv2.imwrite(ruta_imgC+str(paciente_name)+\"/Mask/\"+str(paciente_name)+'(1).jpg',img)\n",
        "            jj=jj+1\n",
        "        time.sleep(2)\n",
        "    print('****NEXT*****')\n",
        "    n=n+1\n",
        "\n",
        "#We write the file with the new assignments made\n",
        "with open(ruta_imgC+'assigned_names.csv', 'w', newline='') as csvfile:\n",
        "    fieldnames = ['original_field', 'real_name', 'assigned_name']\n",
        "    writer = csv.DictWriter(csvfile, fieldnames=fieldnames)\n",
        "    writer.writeheader()\n",
        "    for d in towritedics:\n",
        "        writer.writerow(d)\n",
        "\n",
        "print('*****END*****')\n",
        "print('Tiempo requerido:',round((time.time()-inicio)/60,0))"
      ]
    },
    {
      "cell_type": "markdown",
      "id": "4054e073",
      "metadata": {
        "id": "4054e073"
      },
      "source": [
        "* **Cancer**"
      ]
    },
    {
      "cell_type": "code",
      "execution_count": null,
      "id": "40e52839",
      "metadata": {
        "id": "40e52839",
        "outputId": "44243e77-fa1f-4e77-8776-45f3777a6052"
      },
      "outputs": [
        {
          "name": "stdout",
          "output_type": "stream",
          "text": [
            "****FIN*****\n",
            "*****END*****\n",
            "Tiempo requerido: 22.0\n"
          ]
        }
      ],
      "source": [
        "inici = time.time()\n",
        "ruta_imgC=\"./Procesado\"+TYPE+\"/Cancer/\" #Processed Data\n",
        "width_shape, height_shape = 250, 250\n",
        "top_len=5 #00000\n",
        "j=1\n",
        "jj=1\n",
        "towritedics=[] #list of new allocations\n",
        "\n",
        "input_images_path=raw_cancer\n",
        "# We load the images into a list and reorder it to have them first\n",
        "# original and then the corresponding mask\n",
        "imgs_names = os.listdir(input_images_path)\n",
        "imgs_names.sort(reverse=True)\n",
        "\n",
        "for i in range(len(imgs_names)):\n",
        "    img_name= imgs_names[i]\n",
        "    img_rute=input_images_path+\"/\"+img_name\n",
        "\n",
        "    #For the original images\n",
        "    if('_seg' not in img_name):\n",
        "        ceros=top_len-len(str(j))\n",
        "        #To differentiate them by adding them to the subjcontos we put a C\n",
        "        paciente_name=('0'*ceros)+str(j)+'C'\n",
        "        real_name=img_name\n",
        "        towritedics.append({'original_field': \"Cancer\",\n",
        "                            'real_name': real_name,\n",
        "                            'assigned_name': str(paciente_name)+'.jpg'})\n",
        "\n",
        "        #With the new name we create the directory\n",
        "        try:\n",
        "            os.makedirs(ruta_imgC+str(paciente_name))\n",
        "            os.makedirs(ruta_imgC+str(paciente_name)+'/Original')\n",
        "            os.makedirs(ruta_imgC+str(paciente_name)+'/Mask')\n",
        "        except OSError as e:\n",
        "            if e.errno != errno.EEXIST:\n",
        "                raise\n",
        "\n",
        "        #Preprocess the original image (resize) and save it\n",
        "        img = cv2.imread(img_rute,cv2.COLOR_BGR2RGB)\n",
        "        img = cv2.resize(img,(height_shape, width_shape))\n",
        "        #Save image to desired folder with your name\n",
        "        cv2.imwrite(ruta_imgC+str(paciente_name)+\"/Original/\"+str(paciente_name)+'.jpg', img)\n",
        "        j=j+1\n",
        "    else:\n",
        "        real_name=img_name\n",
        "        ceros=top_len-len(str(jj))\n",
        "        paciente_name=('0'*ceros)+str(jj)+'C'\n",
        "        towritedics.append({'original_field':\"Cancer\",\n",
        "                            'real_name': real_name,\n",
        "                            'assigned_name': str(paciente_name)+'(1).jpg'})\n",
        "\n",
        "        #With the new name we create the directory\n",
        "        try:\n",
        "            os.makedirs(ruta_imgC+str(paciente_name))\n",
        "            os.makedirs(ruta_imgC+str(paciente_name)+'/Original')\n",
        "            os.makedirs(ruta_imgC+str(paciente_name)+'/Mask')\n",
        "        except OSError as e:\n",
        "            if e.errno != errno.EEXIST:\n",
        "                raise\n",
        "\n",
        "        #Resize the mask and save it\n",
        "        img = cv2.imread(img_rute,cv2.COLOR_BGR2RGB)\n",
        "        img = cv2.resize(img,(height_shape, width_shape))\n",
        "        #Save image to desired folder with your name\n",
        "        cv2.imwrite(ruta_imgC+str(paciente_name)+\"/Mask/\"+str(paciente_name)+'(1).jpg',img)\n",
        "        jj=jj+1\n",
        "    time.sleep(2)\n",
        "print('****FIN*****')\n",
        "\n",
        "#We write the file with the new assignments made\n",
        "with open(ruta_imgC+'assigned_names.csv', 'w', newline='') as csvfile:\n",
        "    fieldnames = ['original_field', 'real_name', 'assigned_name']\n",
        "    writer = csv.DictWriter(csvfile, fieldnames=fieldnames)\n",
        "    writer.writeheader()\n",
        "    for d in towritedics:\n",
        "        writer.writerow(d)\n",
        "\n",
        "print('*****END*****')\n",
        "print('Tiempo requerido:',round((time.time()-inicio)/60,0))"
      ]
    },
    {
      "cell_type": "markdown",
      "id": "53a7aa2e",
      "metadata": {
        "jp-MarkdownHeadingCollapsed": true,
        "id": "53a7aa2e"
      },
      "source": [
        "## Sets division"
      ]
    },
    {
      "cell_type": "code",
      "execution_count": null,
      "id": "99382b88",
      "metadata": {
        "id": "99382b88"
      },
      "outputs": [],
      "source": [
        "DIR_INPUT = \"./Procesado\"+TYPE+\"/Cancer/\"\n",
        "cancer_img_ids = os.listdir(DIR_INPUT)\n",
        "cancer_img_ids.remove(\"assigned_names.csv\")\n",
        "cancer_img_ids.sort(reverse=True)\n",
        "DIR_INPUT = \"./Procesado\"+TYPE+\"/Controles/\"\n",
        "lesion_img_ids = os.listdir(DIR_INPUT)\n",
        "lesion_img_ids.remove(\"assigned_names.csv\")\n",
        "lesion_img_ids.sort(reverse=True)"
      ]
    },
    {
      "cell_type": "code",
      "execution_count": null,
      "id": "b1b81262",
      "metadata": {
        "id": "b1b81262",
        "outputId": "8f8b782d-e99e-474b-8fdc-66419e6a16c2"
      },
      "outputs": [
        {
          "name": "stdout",
          "output_type": "stream",
          "text": [
            "107\n"
          ]
        }
      ],
      "source": [
        "random.seed(123)\n",
        "nsplit= int(len(cancer_img_ids)*1/3) #nº cancer test\n",
        "nnsplit = int(len(lesion_img_ids)*1/3) #nº control test\n",
        "ts1 = random.sample([elemento for elemento in cancer_img_ids],k=nsplit)\n",
        "ts2 = random.sample([elemento for elemento in lesion_img_ids],k=nnsplit)\n",
        "test_ids = [ts1,ts2]\n",
        "test_ids = [item for sublist in test_ids for item in sublist]\n",
        "print(len(np.unique(test_ids)))"
      ]
    },
    {
      "cell_type": "code",
      "execution_count": null,
      "id": "df138c7c",
      "metadata": {
        "id": "df138c7c"
      },
      "outputs": [],
      "source": [
        "random.seed(123)\n",
        "image_idsL = [elemento for elemento in lesion_img_ids if elemento not in test_ids]\n",
        "image_idsC =  [elemento for elemento in cancer_img_ids if elemento not in test_ids]\n",
        "# It would be 2/3 of the total for train and the rest (1/3) for validation\n",
        "L_bound=round(len(image_idsL)*2/3)\n",
        "C_bound=round(len(image_idsC)*2/3)\n",
        "#print(L_bound,C_bound)\n",
        "\n",
        "trainL_ids = image_idsL[-L_bound:]\n",
        "validL_ids = image_idsL[:-L_bound]\n",
        "\n",
        "trainC_ids = image_idsC[-C_bound:]\n",
        "validC_ids = image_idsC[:-C_bound]\n",
        "\n",
        "train_ids = trainL_ids+trainC_ids\n",
        "valid_ids = validL_ids+validC_ids"
      ]
    },
    {
      "cell_type": "code",
      "execution_count": null,
      "id": "7008bec3",
      "metadata": {
        "id": "7008bec3",
        "outputId": "cf38c2af-b4f3-40a6-a03f-93163fc7af19"
      },
      "outputs": [
        {
          "name": "stdout",
          "output_type": "stream",
          "text": [
            "143\n",
            "72\n"
          ]
        }
      ],
      "source": [
        "print(len(np.unique(train_ids)))\n",
        "print(len(np.unique(valid_ids)))"
      ]
    },
    {
      "cell_type": "code",
      "execution_count": null,
      "id": "1de12349",
      "metadata": {
        "id": "1de12349",
        "outputId": "9d46e9c1-aa46-46e3-ef34-689ba1c3818b"
      },
      "outputs": [
        {
          "name": "stdout",
          "output_type": "stream",
          "text": [
            "Directorio creado\n",
            "Directorio creado\n",
            "Directorio creado\n",
            "['valid', 'Controles', 'train', 'test', 'Cancer']\n"
          ]
        }
      ],
      "source": [
        "try:\n",
        "    os.makedirs(\"./Procesado\"+TYPE+\"/train\")\n",
        "    os.makedirs(\"./Procesado\"+TYPE+\"/train/images\")\n",
        "    os.makedirs(\"./Procesado\"+TYPE+\"/train/masks\")\n",
        "    os.makedirs(\"./Procesado\"+TYPE+\"/train/bboxes\")\n",
        "    print(\"Directorio creado\")\n",
        "except OSError as e:\n",
        "    if e.errno != errno.EEXIST:\n",
        "        raise\n",
        "\n",
        "try:\n",
        "    os.makedirs(\"./Procesado\"+TYPE+\"/valid\")\n",
        "    os.makedirs(\"./Procesado\"+TYPE+\"/valid/images\")\n",
        "    os.makedirs(\"./Procesado\"+TYPE+\"/valid/masks\")\n",
        "    os.makedirs(\"./Procesado\"+TYPE+\"/valid/bboxes\")\n",
        "    print(\"Directorio creado\")\n",
        "except OSError as e:\n",
        "    if e.errno != errno.EEXIST:\n",
        "        raise\n",
        "\n",
        "try:\n",
        "    os.makedirs(\"./Procesado\"+TYPE+\"/test\")\n",
        "    os.makedirs(\"./Procesado\"+TYPE+\"/test/images\")\n",
        "    os.makedirs(\"./Procesado\"+TYPE+\"/test/masks\")\n",
        "    os.makedirs(\"./Procesado\"+TYPE+\"/test/bboxes\")\n",
        "    print(\"Directorio creado\")\n",
        "except OSError as e:\n",
        "    if e.errno != errno.EEXIST:\n",
        "        raise\n",
        "\n",
        "print(os.listdir(\"./Procesado\"+TYPE))"
      ]
    },
    {
      "cell_type": "markdown",
      "id": "8b67c97a",
      "metadata": {
        "id": "8b67c97a"
      },
      "source": [
        "+ **TEST**"
      ]
    },
    {
      "cell_type": "code",
      "execution_count": null,
      "id": "dbe42065",
      "metadata": {
        "id": "dbe42065",
        "outputId": "5122835c-f2ee-4824-9807-09ee81105dee"
      },
      "outputs": [
        {
          "name": "stdout",
          "output_type": "stream",
          "text": [
            "Copiando a Test...\n",
            "Copiado en:  7.0\n"
          ]
        }
      ],
      "source": [
        "inicio = time.time()\n",
        "print(\"Copiando a Test...\")\n",
        "for fid in test_ids:\n",
        "    if 'C' in fid:\n",
        "        DIRECTORIO_ORIGEN = \"./Procesado\"+TYPE+\"/Cancer/\"+fid\n",
        "    else:\n",
        "        DIRECTORIO_ORIGEN = \"./Procesado\"+TYPE+\"/Controles/\"+fid\n",
        "    #Image\n",
        "    src=DIRECTORIO_ORIGEN+'/Original/'+fid+'.jpg'\n",
        "    DIRECTORIO_DESTINO = \"./Procesado\"+TYPE+\"/test/images/\"\n",
        "    shutil.copy(src,DIRECTORIO_DESTINO)\n",
        "    time.sleep(2)\n",
        "    #Mask\n",
        "    src=DIRECTORIO_ORIGEN+'/Mask/'+fid+'(1).jpg'\n",
        "    DIRECTORIO_DESTINO = \"./Procesado\"+TYPE+\"/test/masks/\"\n",
        "    shutil.copy(src,DIRECTORIO_DESTINO)\n",
        "    time.sleep(2)\n",
        "\n",
        "print(\"Copiado en: \",  round((time.time()-inicio)/60,0))"
      ]
    },
    {
      "cell_type": "markdown",
      "id": "6443d220",
      "metadata": {
        "id": "6443d220"
      },
      "source": [
        "+ **TRAIN**"
      ]
    },
    {
      "cell_type": "code",
      "execution_count": null,
      "id": "ae5c0fe8",
      "metadata": {
        "id": "ae5c0fe8",
        "outputId": "18b5e6ae-dbe8-47b5-9eb0-64fd460d260d"
      },
      "outputs": [
        {
          "name": "stdout",
          "output_type": "stream",
          "text": [
            "Copiando a Train...\n",
            "Copiado en:  10.0\n"
          ]
        }
      ],
      "source": [
        "inicio = time.time()\n",
        "print(\"Copiando a Train...\")\n",
        "for fid in train_ids:\n",
        "    if 'C' in fid:\n",
        "        DIRECTORIO_ORIGEN = \"./Procesado\"+TYPE+\"/Cancer/\"+fid\n",
        "    else:\n",
        "        DIRECTORIO_ORIGEN = \"./Procesado\"+TYPE+\"/Controles/\"+fid\n",
        "\n",
        "    #Image\n",
        "    src=DIRECTORIO_ORIGEN+'/Original/'+fid+'.jpg'\n",
        "    DIRECTORIO_DESTINO = \"./Procesado\"+TYPE+\"/train/images/\"\n",
        "    shutil.copy(src,DIRECTORIO_DESTINO)\n",
        "    time.sleep(2)\n",
        "    #Mask\n",
        "    src=DIRECTORIO_ORIGEN+'/Mask/'+fid+'(1).jpg'\n",
        "    DIRECTORIO_DESTINO = \"./Procesado\"+TYPE+\"/train/masks/\"\n",
        "    shutil.copy(src,DIRECTORIO_DESTINO)\n",
        "    time.sleep(2)\n",
        "print(\"Copiado en: \", round((time.time()-inicio)/60,0))"
      ]
    },
    {
      "cell_type": "markdown",
      "id": "44584707",
      "metadata": {
        "id": "44584707"
      },
      "source": [
        "+ **VALIDATION**"
      ]
    },
    {
      "cell_type": "code",
      "execution_count": null,
      "id": "059918ed",
      "metadata": {
        "id": "059918ed",
        "outputId": "5c139c8f-92e4-400d-aa57-21880f835df8"
      },
      "outputs": [
        {
          "name": "stdout",
          "output_type": "stream",
          "text": [
            "Copiando a Valid...\n",
            "Copiado en:  5.0\n"
          ]
        }
      ],
      "source": [
        "inicio = time.time()\n",
        "print(\"Copiando a Valid...\")\n",
        "for fid in valid_ids:\n",
        "    if 'C' in fid:\n",
        "        DIRECTORIO_ORIGEN = \"./Procesado\"+TYPE+\"/Cancer/\"+fid\n",
        "    else:\n",
        "        DIRECTORIO_ORIGEN = \"./Procesado\"+TYPE+\"/Controles/\"+fid\n",
        "\n",
        "    #Image\n",
        "    src=DIRECTORIO_ORIGEN+'/Original/'+fid+'.jpg'\n",
        "    DIRECTORIO_DESTINO = \"./Procesado\"+TYPE+\"/valid/images/\"\n",
        "    shutil.copy(src,DIRECTORIO_DESTINO)\n",
        "    time.sleep(2)\n",
        "    #Mask\n",
        "    src=DIRECTORIO_ORIGEN+'/Mask/'+fid+'(1).jpg'\n",
        "    DIRECTORIO_DESTINO = \"./Procesado\"+TYPE+\"/valid/masks/\"\n",
        "    shutil.copy(src,DIRECTORIO_DESTINO)\n",
        "    time.sleep(2)\n",
        "print(\"Copiado en: \", round((time.time()-inicio)/60,0))"
      ]
    },
    {
      "cell_type": "markdown",
      "id": "1c3d0a4d",
      "metadata": {
        "jp-MarkdownHeadingCollapsed": true,
        "id": "1c3d0a4d"
      },
      "source": [
        "## Augmentation"
      ]
    },
    {
      "cell_type": "code",
      "execution_count": null,
      "id": "afacd96e",
      "metadata": {
        "id": "afacd96e"
      },
      "outputs": [],
      "source": [
        "def OralDataset(image_dir):\n",
        "    '''prepocesado'''\n",
        "    #Name of each directory item\n",
        "    dir_list = [os.path.splitext(nombre)[0] for nombre in os.listdir(image_dir+'/images/')]\n",
        "    dir_list.sort(reverse=True)\n",
        "\n",
        "    #Results\n",
        "    images=[]\n",
        "    masks=[]\n",
        "\n",
        "    #We store the images to apply the transformations\n",
        "    #We go through the patient directory\n",
        "    for pid in dir_list:\n",
        "        Ximg_rute = image_dir+'/images/'+pid+'.jpg'\n",
        "        Yimg_rute = image_dir+'/masks/'+pid+'(1).jpg'\n",
        "\n",
        "        '''Image'''\n",
        "        norm_img = np.zeros((250,250))\n",
        "        Ximg = cv2.imread(Ximg_rute,cv2.COLOR_BGR2RGB)\n",
        "        image = cv2.normalize(Ximg,norm_img,0,255,cv2.NORM_MINMAX)\n",
        "        images.append(image)\n",
        "        '''Mask'''\n",
        "        Yimg = cv2.imread(Yimg_rute,cv2.COLOR_BGR2RGB)\n",
        "        masks.append(Yimg)\n",
        "    return dir_list,images,masks"
      ]
    },
    {
      "cell_type": "code",
      "execution_count": null,
      "id": "b3995df5",
      "metadata": {
        "id": "b3995df5"
      },
      "outputs": [],
      "source": [
        "def auto_augmentation(directorio,names,images,masks,n_aug=10,nn_aug=10):\n",
        "    #n_aug: Augmentation rate for control data\n",
        "    #nn_aug: Augmentation rate for cancer data\n",
        "    #For imbalance will be the same value to increase equally\n",
        "    #To balance we increase by 2 nn_aug\n",
        "\n",
        "    \"\"\"Dimension global\"\"\"\n",
        "    H=250\n",
        "    W=250\n",
        "\n",
        "    for n,x,y in zip(names,images,masks):\n",
        "        # Setting a random seed for reproducibility\n",
        "        random.seed(42)\n",
        "        imgs=[x]\n",
        "        maks=[y]\n",
        "        nams=[n]\n",
        "        # Define augmentation transformations\n",
        "        transform = A.Compose([\n",
        "            A.HorizontalFlip(p=0.5),\n",
        "            A.RandomBrightnessContrast(p=0.3),\n",
        "            A.GaussNoise(p=0.3),\n",
        "            A.VerticalFlip(p=0.5)\n",
        "        ])\n",
        "\n",
        "        # Generate multiple pairs of images and similar augmented masks\n",
        "        if 'C' in n:\n",
        "            num_augmented_pairs = nn_aug\n",
        "        else:\n",
        "            num_augmented_pairs = n_aug\n",
        "\n",
        "        for i in range(num_augmented_pairs):\n",
        "            augmented = transform(image=x, mask=y)\n",
        "            x1 = augmented['image']\n",
        "            y1 = augmented['mask']\n",
        "            n1 = n+'_aug0'+str(i)\n",
        "            #Resize to keep sizes\n",
        "            x1=cv2.resize(x1, (W, H))\n",
        "            y1=cv2.resize(y1, (W, H))\n",
        "\n",
        "            cv2.imwrite(directorio+\"/images/\"+n1+'.jpg', x1)\n",
        "            cv2.imwrite(directorio+\"/masks/\"+n1+'(1).jpg',y1)\n",
        "            time.sleep(4)\n",
        "\n",
        "            imgs.append(x1)\n",
        "            maks.append(y1)\n",
        "            nams.append(n1)\n",
        "    print('*****END*****')\n",
        "    return imgs,maks,nams"
      ]
    },
    {
      "cell_type": "code",
      "execution_count": null,
      "id": "1f5e44b7",
      "metadata": {
        "id": "1f5e44b7"
      },
      "outputs": [],
      "source": [
        "DIR_INPUT = \"./Procesado\"+TYPE+\"/train\"\n",
        "n, x, y = OralDataset(DIR_INPUT)"
      ]
    },
    {
      "cell_type": "code",
      "execution_count": null,
      "id": "6e765953",
      "metadata": {
        "id": "6e765953",
        "outputId": "9a1bfca0-d600-4361-bfe6-a293eb4f6e8e"
      },
      "outputs": [
        {
          "name": "stdout",
          "output_type": "stream",
          "text": [
            "Inicio Aumentación Desbalanceo\n",
            "*****END*****\n",
            "Tiempo requerrido: 96.0\n"
          ]
        }
      ],
      "source": [
        "inicio = time.time()\n",
        "\n",
        "if TYPE == \"\":\n",
        "    #Desbalanced\n",
        "    print(\"Inicio Aumentación Desbalanceo\")\n",
        "    imgs,masks,nams=auto_augmentation(DIR_INPUT, n, x, y)\n",
        "else:\n",
        "    #Balanced\n",
        "    print(\"Inicio Aumentación Balanceo\")\n",
        "    imgs,masks,nams=auto_augmentation(DIR_INPUT, n, x, y,8,14)\n",
        "\n",
        "print('Tiempo requerrido:',round((time.time()-inicio)/60,0))"
      ]
    },
    {
      "cell_type": "code",
      "execution_count": null,
      "id": "1f3fd503",
      "metadata": {
        "id": "1f3fd503",
        "outputId": "16a1d1b0-51ce-426a-9b32-49ba4aa782ab"
      },
      "outputs": [
        {
          "name": "stdout",
          "output_type": "stream",
          "text": [
            "Inicio Aumentación Desbalanceo\n",
            "*****END*****\n",
            "Tiempo requerrido: 48.0\n"
          ]
        }
      ],
      "source": [
        "DIR_INPUT = \"./Procesado\"+TYPE+\"/valid\"\n",
        "n, x, y = OralDataset(DIR_INPUT)\n",
        "\n",
        "inicio = time.time()\n",
        "\n",
        "if TYPE == \"\":\n",
        "    #Desbalanced\n",
        "    print(\"Inicio Aumentación Desbalanceo\")\n",
        "    imgs,masks,nams=auto_augmentation(DIR_INPUT, n, x, y)\n",
        "else:\n",
        "    #Balanced\n",
        "    print(\"Inicio Aumentación Balanceo\")\n",
        "    imgs,masks,nams=auto_augmentation(DIR_INPUT, n, x, y,8,14)\n",
        "\n",
        "print('Tiempo requerrido:',round((time.time()-inicio)/60,0))"
      ]
    },
    {
      "cell_type": "markdown",
      "id": "0e6ac92b",
      "metadata": {
        "id": "0e6ac92b"
      },
      "source": [
        "## Gold Standar dump\n",
        "\n",
        "This subphase consists in dumping already generated data and obtaining the bboxes, as well as the necessary annotation files for used transformers (SAM and DETR)."
      ]
    },
    {
      "cell_type": "code",
      "execution_count": null,
      "id": "480c6f78",
      "metadata": {
        "id": "480c6f78"
      },
      "outputs": [],
      "source": [
        "#To generate the annotations as we need\n",
        "def generate_dict(a_id,img_id,cat_id,bbox):\n",
        "\n",
        "    xmin, ymin, xmax, ymax = bbox\n",
        "    ancho = xmax - xmin\n",
        "    alto = ymax - ymin\n",
        "    area = ancho * alto\n",
        "\n",
        "    annotation={\n",
        "        \"id\": a_id,\n",
        "        \"image_id\": img_id,\n",
        "        \"category_id\": cat_id,\n",
        "        \"bbox\": [int(xmin),int(ymin),int(ancho),int(alto)],\n",
        "        \"area\": int(area),\n",
        "        \"segmentation\":[],\n",
        "        \"iscrowd\": 0\n",
        "    }\n",
        "    return annotation"
      ]
    },
    {
      "cell_type": "markdown",
      "id": "97927ae1",
      "metadata": {
        "id": "97927ae1"
      },
      "source": [
        "+ *Test*"
      ]
    },
    {
      "cell_type": "code",
      "execution_count": null,
      "id": "c1064323",
      "metadata": {
        "id": "c1064323",
        "outputId": "11bbfb55-9f32-4c2a-a4f4-a5d7def7250f"
      },
      "outputs": [
        {
          "name": "stdout",
          "output_type": "stream",
          "text": [
            "Copiando a test...\n"
          ]
        },
        {
          "name": "stderr",
          "output_type": "stream",
          "text": [
            "107it [14:18,  8.02s/it]"
          ]
        },
        {
          "name": "stdout",
          "output_type": "stream",
          "text": [
            "Copiado en:  14.0\n"
          ]
        },
        {
          "name": "stderr",
          "output_type": "stream",
          "text": [
            "\n"
          ]
        }
      ],
      "source": [
        "#From each mask take out cropped boundbox and store the resulting image in d(set)\n",
        "#If possible to save the coordinates to a file\n",
        "\n",
        "inicio = time.time()\n",
        "\n",
        "ruta_test='./Procesado'+TYPE+'/test'\n",
        "test_elems=[os.path.splitext(nombre)[0] for nombre in os.listdir(ruta_test+'/images/')]\n",
        "\n",
        "images=[]\n",
        "annotations=[]\n",
        "uniannotations=[]\n",
        "\n",
        "print(\"Copiando a test...\")\n",
        "for n, fid in tqdm(enumerate(test_elems)):\n",
        "\n",
        "    #We copy the originals to test\n",
        "    ORIGEN = ruta_test+'/images/'+fid+'.jpg'\n",
        "    if 'C' in fid:\n",
        "        DIRECTORIO_DESTINO = \"./data\"+TYPE+\"/Gold_Standard/test/Cáncer\"\n",
        "    else:\n",
        "        DIRECTORIO_DESTINO = \"./data\"+TYPE+\"/Gold_Standard/test/Control\"\n",
        "    shutil.copy(ORIGEN,DIRECTORIO_DESTINO)\n",
        "    time.sleep(2)\n",
        "\n",
        "    #We copy the masks to stest\n",
        "    ORIGEN = ruta_test+'/masks/'+fid+'(1).jpg'\n",
        "    if 'C' in fid:\n",
        "        DIRECTORIO_DESTINO = \"./data\"+TYPE+\"/Gold_Standard/stest/Cáncer\"\n",
        "    else:\n",
        "        DIRECTORIO_DESTINO = \"./data\"+TYPE+\"/Gold_Standard/stest/Control\"\n",
        "    shutil.copy(ORIGEN,DIRECTORIO_DESTINO)\n",
        "    time.sleep(2)\n",
        "\n",
        "    #We read the mask and transform to bbox\n",
        "    ruta_orig = ruta_test+'/images/'+fid+'.jpg'\n",
        "    orig_image = imread(ruta_orig)\n",
        "    Yimg = imread(ORIGEN,as_gray=True)\n",
        "    mask=np.zeros([250, 250])\n",
        "    ind =(Yimg>0.1)\n",
        "    mask[ind]=1\n",
        "    mask_tmp = torch.tensor(mask,dtype=torch.uint8)\n",
        "    obj_ids = torch.unique(mask_tmp)\n",
        "    obj_ids = obj_ids[1:]\n",
        "    masks_tmp = mask_tmp == obj_ids[:, None, None]\n",
        "    boxes = masks_to_boxes(masks_tmp)\n",
        "    bbox=boxes[0]\n",
        "    my_mask=np.zeros((orig_image.shape[0],orig_image.shape[1]),dtype=np.uint8)\n",
        "    my_mask[int(bbox[1]):int(bbox[3]),int(bbox[0]):int(bbox[2])]=255\n",
        "    my_mask=cv2.cvtColor(my_mask, cv2.COLOR_GRAY2RGB)\n",
        "    # Apply the mask to the image\n",
        "    result = cv2.bitwise_and(orig_image, my_mask)\n",
        "    result = cv2.cvtColor(result, cv2.COLOR_BGR2RGB)\n",
        "\n",
        "    if 'C' in fid:\n",
        "        new_dir='./data'+TYPE+'/Gold_Standard/dtest/Cáncer/'\n",
        "        label=0\n",
        "    else:\n",
        "        new_dir='./data'+TYPE+'/Gold_Standard/dtest/Control/'\n",
        "        label=1\n",
        "\n",
        "    im_data={\"id\": n,\"file_name\": str(fid)+\".jpg\",\"heigth\" : 250,\"width\" : 250}\n",
        "    images.append(im_data)\n",
        "    annotations.append(generate_dict(n,n,label,bbox))\n",
        "    uniannotations.append(generate_dict(n,n,0,bbox))\n",
        "\n",
        "    cv2.imwrite(new_dir+fid+'.jpg', result)\n",
        "    time.sleep(2)\n",
        "    cv2.imwrite('./Procesado'+TYPE+'/test/bboxes/'+fid+'.jpg',result)\n",
        "    time.sleep(2)\n",
        "\n",
        "print(\"Copiado en: \", round((time.time()-inicio)/60,0))"
      ]
    },
    {
      "cell_type": "code",
      "execution_count": null,
      "id": "b26bc95d",
      "metadata": {
        "id": "b26bc95d",
        "outputId": "d724ae78-ce06-4dc3-a116-a9da8e7c31c0"
      },
      "outputs": [
        {
          "name": "stdout",
          "output_type": "stream",
          "text": [
            "Archivos JSON creado exitosamente.\n"
          ]
        }
      ],
      "source": [
        "#We define the two immutable elements of annotations\n",
        "\n",
        "info={\"year\" : \"2023\"}\n",
        "\n",
        "categories=[{\"id\": 0,\"name\": \"cancer\",\"supercategory\": \"none\"},\n",
        "            {\"id\": 1,\"name\": \"control\",\"supercategory\": \"none\"}]\n",
        "cat=[{\"id\": 0,\"name\": \"lesion\",\"supercategory\": \"none\"}]\n",
        "\n",
        "data={\"info\":info,\"categories\":categories,\"images\":images,\"annotations\":annotations}\n",
        "unidata={\"info\":info,\"categories\":cat,\"images\":images,\"annotations\":uniannotations}\n",
        "\n",
        "nombre_archivo = ruta_test+\"/images/annotation.json\"\n",
        "with open(nombre_archivo, 'w') as archivo_json:\n",
        "    json.dump(data, archivo_json, indent=4)  # indent=4 readable output\n",
        "\n",
        "nombre_archivo = ruta_test+\"/images/annotation_uniclass.json\"\n",
        "with open(nombre_archivo, 'w') as archivo_json:\n",
        "    json.dump(unidata, archivo_json, indent=4)\n",
        "\n",
        "print(\"Archivos JSON creado exitosamente.\")"
      ]
    },
    {
      "cell_type": "markdown",
      "id": "9688ef88",
      "metadata": {
        "id": "9688ef88"
      },
      "source": [
        "+ *Train*"
      ]
    },
    {
      "cell_type": "code",
      "execution_count": null,
      "id": "97bf0dce",
      "metadata": {
        "id": "97bf0dce",
        "outputId": "365d1bca-7296-4d7a-9b9c-317f81aeda07"
      },
      "outputs": [
        {
          "name": "stdout",
          "output_type": "stream",
          "text": [
            "Copiando a Train...\n"
          ]
        },
        {
          "name": "stderr",
          "output_type": "stream",
          "text": [
            "1573it [3:32:22,  8.10s/it]"
          ]
        },
        {
          "name": "stdout",
          "output_type": "stream",
          "text": [
            "Copiado en:  212.0\n"
          ]
        },
        {
          "name": "stderr",
          "output_type": "stream",
          "text": [
            "\n"
          ]
        }
      ],
      "source": [
        "#Take all the originals of each folder and put in train\n",
        "#Masks to strain and bbox to dtrain\n",
        "inicio = time.time()\n",
        "\n",
        "ruta_train='./Procesado'+TYPE+'/train'\n",
        "train_elems= [os.path.splitext(nombre)[0] for nombre in os.listdir(ruta_train+'/images/')]\n",
        "\n",
        "images=[]\n",
        "annotations=[]\n",
        "uniannotations=[]\n",
        "\n",
        "print(\"Copiando a Train...\")\n",
        "for n, fid in tqdm(enumerate(train_elems)):\n",
        "\n",
        "    #We copy the originals to train\n",
        "    ORIGEN = ruta_train+'/images/'+fid+'.jpg'\n",
        "    if 'C' in fid:\n",
        "        DIRECTORIO_DESTINO = \"./data\"+TYPE+\"/Gold_Standard/train/Cáncer\"\n",
        "    else:\n",
        "        DIRECTORIO_DESTINO = \"./data\"+TYPE+\"/Gold_Standard/train/Control\"\n",
        "    shutil.copy(ORIGEN,DIRECTORIO_DESTINO)\n",
        "    time.sleep(2)\n",
        "\n",
        "    #We copy the masks to strain\n",
        "    ORIGEN = ruta_train+'/masks/'+fid+'(1).jpg'\n",
        "    if 'C' in fid:\n",
        "        DIRECTORIO_DESTINO = \"./data\"+TYPE+\"/Gold_Standard/strain/Cáncer\"\n",
        "    else:\n",
        "        DIRECTORIO_DESTINO = \"./data\"+TYPE+\"/Gold_Standard/strain/Control\"\n",
        "    shutil.copy(ORIGEN,DIRECTORIO_DESTINO)\n",
        "    time.sleep(2)\n",
        "\n",
        "    #We read the mask and transform to bbox\n",
        "    ruta_orig = ruta_train+'/images/'+fid+'.jpg'\n",
        "    orig_image = imread(ruta_orig)\n",
        "    Yimg = imread(ORIGEN,as_gray=True)\n",
        "    mask=np.zeros([250, 250])\n",
        "    ind =(Yimg>0.1)\n",
        "    mask[ind]=1\n",
        "    mask_tmp = torch.tensor(mask,dtype=torch.uint8)\n",
        "    obj_ids = torch.unique(mask_tmp)\n",
        "    obj_ids = obj_ids[1:]\n",
        "    masks_tmp = mask_tmp == obj_ids[:, None, None]\n",
        "    boxes = masks_to_boxes(masks_tmp)\n",
        "    bbox=boxes[0]\n",
        "    my_mask=np.zeros((orig_image.shape[0],orig_image.shape[1]),dtype=np.uint8)\n",
        "    my_mask[int(bbox[1]):int(bbox[3]),int(bbox[0]):int(bbox[2])]=255\n",
        "    my_mask=cv2.cvtColor(my_mask, cv2.COLOR_GRAY2RGB)\n",
        "    # Apply the mask to the image\n",
        "    result = cv2.bitwise_and(orig_image, my_mask)\n",
        "    result = cv2.cvtColor(result, cv2.COLOR_BGR2RGB)\n",
        "\n",
        "    if 'C' in fid:\n",
        "        new_dir='./data'+TYPE+'/Gold_Standard/dtrain/Cáncer/'\n",
        "        label=0\n",
        "    else:\n",
        "        new_dir='./data'+TYPE+'/Gold_Standard/dtrain/Control/'\n",
        "        label=1\n",
        "\n",
        "    im_data={\"id\": n,\"file_name\": str(fid)+\".jpg\",\"heigth\" : 250,\"width\" : 250}\n",
        "    images.append(im_data)\n",
        "    annotations.append(generate_dict(n,n,label,bbox))\n",
        "    uniannotations.append(generate_dict(n,n,0,bbox))\n",
        "\n",
        "    cv2.imwrite(new_dir+fid+'.jpg', result)\n",
        "    time.sleep(2)\n",
        "    cv2.imwrite('./Procesado'+TYPE+'/train/bboxes/'+fid+'.jpg',result)\n",
        "    time.sleep(2)\n",
        "\n",
        "print(\"Copiado en: \", round((time.time()-inicio)/60,0))"
      ]
    },
    {
      "cell_type": "code",
      "execution_count": null,
      "id": "b57a4e7e",
      "metadata": {
        "id": "b57a4e7e",
        "outputId": "d05480ab-c947-4a68-cb42-8c39ef3f78d4"
      },
      "outputs": [
        {
          "name": "stdout",
          "output_type": "stream",
          "text": [
            "Archivo JSON creado exitosamente.\n"
          ]
        }
      ],
      "source": [
        "data={\"info\":info,\"categories\":categories,\"images\":images,\"annotations\":annotations}\n",
        "unidata={\"info\":info,\"categories\":cat,\"images\":images,\"annotations\":uniannotations}\n",
        "\n",
        "nombre_archivo = ruta_train+\"/images/annotation.json\"\n",
        "with open(nombre_archivo, 'w') as archivo_json:\n",
        "    json.dump(data, archivo_json, indent=4)\n",
        "nombre_archivo = ruta_train+\"/images/annotation_uniclass.json\"\n",
        "with open(nombre_archivo, 'w') as archivo_json:\n",
        "    json.dump(unidata, archivo_json, indent=4)\n",
        "print(\"Archivo JSON creado exitosamente.\")"
      ]
    },
    {
      "cell_type": "markdown",
      "id": "5e936796",
      "metadata": {
        "id": "5e936796"
      },
      "source": [
        "+ *Validation*"
      ]
    },
    {
      "cell_type": "code",
      "execution_count": null,
      "id": "035b2c39",
      "metadata": {
        "id": "035b2c39",
        "outputId": "d80b0943-1dc1-4db0-c3eb-cc6074432084"
      },
      "outputs": [
        {
          "name": "stdout",
          "output_type": "stream",
          "text": [
            "Copiando a valid...\n"
          ]
        },
        {
          "name": "stderr",
          "output_type": "stream",
          "text": [
            "792it [1:45:50,  8.02s/it]"
          ]
        },
        {
          "name": "stdout",
          "output_type": "stream",
          "text": [
            "Copiado en:  106.0\n"
          ]
        },
        {
          "name": "stderr",
          "output_type": "stream",
          "text": [
            "\n"
          ]
        }
      ],
      "source": [
        "#Validation\n",
        "inicio = time.time()\n",
        "\n",
        "ruta_val='./Procesado'+TYPE+'/valid'\n",
        "valid_elems=[os.path.splitext(nombre)[0] for nombre in os.listdir(ruta_val+'/images/')]\n",
        "\n",
        "images=[]\n",
        "annotations=[]\n",
        "uniannotations=[]\n",
        "\n",
        "print(\"Copiando a valid...\")\n",
        "for n, fid in tqdm(enumerate(valid_elems)):\n",
        "\n",
        "    #We copy the originals to test\n",
        "    ORIGEN = ruta_val+'/images/'+fid+'.jpg'\n",
        "    if 'C' in fid:\n",
        "        DIRECTORIO_DESTINO = \"./data\"+TYPE+\"/Gold_Standard/valid/Cáncer\"\n",
        "    else:\n",
        "        DIRECTORIO_DESTINO = \"./data\"+TYPE+\"/Gold_Standard/valid/Control\"\n",
        "    shutil.copy(ORIGEN,DIRECTORIO_DESTINO)\n",
        "    time.sleep(2)\n",
        "\n",
        "    #We copy the masks to stest\n",
        "    ORIGEN = ruta_val+'/masks/'+fid+'(1).jpg'\n",
        "    if 'C' in fid:\n",
        "        DIRECTORIO_DESTINO = \"./data\"+TYPE+\"/Gold_Standard/svalid/Cáncer\"\n",
        "    else:\n",
        "        DIRECTORIO_DESTINO = \"./data\"+TYPE+\"/Gold_Standard/svalid/Control\"\n",
        "    shutil.copy(ORIGEN,DIRECTORIO_DESTINO)\n",
        "    time.sleep(2)\n",
        "\n",
        "    #We read the mask and transform to bbox\n",
        "    ruta_orig = ruta_val+'/images/'+fid+'.jpg'\n",
        "    orig_image = imread(ruta_orig)\n",
        "    Yimg = imread(ORIGEN,as_gray=True)\n",
        "    mask=np.zeros([250, 250])\n",
        "    ind =(Yimg>0.1)\n",
        "    mask[ind]=1\n",
        "    mask_tmp = torch.tensor(mask,dtype=torch.uint8)\n",
        "    obj_ids = torch.unique(mask_tmp)\n",
        "    obj_ids = obj_ids[1:]\n",
        "    masks_tmp = mask_tmp == obj_ids[:, None, None]\n",
        "    boxes = masks_to_boxes(masks_tmp)\n",
        "    bbox=boxes[0]\n",
        "    my_mask=np.zeros((orig_image.shape[0],orig_image.shape[1]),dtype=np.uint8)\n",
        "    my_mask[int(bbox[1]):int(bbox[3]),int(bbox[0]):int(bbox[2])]=255\n",
        "    my_mask=cv2.cvtColor(my_mask, cv2.COLOR_GRAY2RGB)\n",
        "    # Apply the mask to the image\n",
        "    result = cv2.bitwise_and(orig_image, my_mask)\n",
        "    result = cv2.cvtColor(result, cv2.COLOR_BGR2RGB)\n",
        "\n",
        "    if 'C' in fid:\n",
        "        new_dir='./data'+TYPE+'/Gold_Standard/dvalid/Cáncer/'\n",
        "        label=0\n",
        "    else:\n",
        "        new_dir='./data'+TYPE+'/Gold_Standard/dvalid/Control/'\n",
        "        label=1\n",
        "\n",
        "    im_data={\"id\": n,\"file_name\": str(fid)+\".jpg\",\"heigth\" : 250,\"width\" : 250}\n",
        "    images.append(im_data)\n",
        "    annotations.append(generate_dict(n,n,label,bbox))\n",
        "    uniannotations.append(generate_dict(n,n,0,bbox))\n",
        "\n",
        "    cv2.imwrite(new_dir+fid+'.jpg', result)\n",
        "    time.sleep(2)\n",
        "    cv2.imwrite('./Procesado'+TYPE+'/valid/bboxes/'+fid+'.jpg', result)\n",
        "    time.sleep(2)\n",
        "print(\"Copiado en: \", round((time.time()-inicio)/60,0))"
      ]
    },
    {
      "cell_type": "code",
      "execution_count": null,
      "id": "8becb6f8",
      "metadata": {
        "id": "8becb6f8",
        "outputId": "dbc79a0f-36fb-4ff4-a62e-c4dd3129d938"
      },
      "outputs": [
        {
          "name": "stdout",
          "output_type": "stream",
          "text": [
            "Archivo JSON creado exitosamente.\n"
          ]
        }
      ],
      "source": [
        "data={\"info\":info,\"categories\":categories,\"images\":images,\"annotations\":annotations}\n",
        "unidata={\"info\":info,\"categories\":cat,\"images\":images,\"annotations\":uniannotations}\n",
        "\n",
        "nombre_archivo = ruta_val+\"/images/annotation.json\"\n",
        "with open(nombre_archivo, 'w') as archivo_json:\n",
        "    json.dump(data, archivo_json, indent=4)\n",
        "nombre_archivo = ruta_val+\"/images/annotation_uniclass.json\"\n",
        "with open(nombre_archivo, 'w') as archivo_json:\n",
        "    json.dump(unidata, archivo_json, indent=4)\n",
        "print(\"Archivo JSON creado exitosamente.\")"
      ]
    },
    {
      "cell_type": "markdown",
      "id": "138a273e",
      "metadata": {
        "id": "138a273e"
      },
      "source": [
        "## Final Data Review"
      ]
    },
    {
      "cell_type": "markdown",
      "id": "76efd1a0-a08d-47f2-8c90-f94e08461dba",
      "metadata": {
        "id": "76efd1a0-a08d-47f2-8c90-f94e08461dba"
      },
      "source": [
        "### **Unbalanced**"
      ]
    },
    {
      "cell_type": "code",
      "execution_count": null,
      "id": "604cc0d5",
      "metadata": {
        "id": "604cc0d5",
        "outputId": "6943f5e4-3566-4715-c025-7352116864ff"
      },
      "outputs": [
        {
          "data": {
            "text/html": [
              "<div>\n",
              "<style scoped>\n",
              "    .dataframe tbody tr th:only-of-type {\n",
              "        vertical-align: middle;\n",
              "    }\n",
              "\n",
              "    .dataframe tbody tr th {\n",
              "        vertical-align: top;\n",
              "    }\n",
              "\n",
              "    .dataframe thead th {\n",
              "        text-align: right;\n",
              "    }\n",
              "</style>\n",
              "<table border=\"1\" class=\"dataframe\">\n",
              "  <thead>\n",
              "    <tr style=\"text-align: right;\">\n",
              "      <th></th>\n",
              "      <th></th>\n",
              "      <th>Train (original)</th>\n",
              "      <th>Test(original)</th>\n",
              "      <th>Valid(original)</th>\n",
              "      <th>Train (aumentado)</th>\n",
              "      <th>Test (aumentado)</th>\n",
              "      <th>Valid (aumentado)</th>\n",
              "    </tr>\n",
              "  </thead>\n",
              "  <tbody>\n",
              "    <tr>\n",
              "      <th>0</th>\n",
              "      <td>Cáncer</td>\n",
              "      <td>53</td>\n",
              "      <td>40</td>\n",
              "      <td>27</td>\n",
              "      <td>583</td>\n",
              "      <td>40</td>\n",
              "      <td>297</td>\n",
              "    </tr>\n",
              "    <tr>\n",
              "      <th>1</th>\n",
              "      <td>Control</td>\n",
              "      <td>90</td>\n",
              "      <td>67</td>\n",
              "      <td>45</td>\n",
              "      <td>990</td>\n",
              "      <td>67</td>\n",
              "      <td>495</td>\n",
              "    </tr>\n",
              "    <tr>\n",
              "      <th>2</th>\n",
              "      <td>Total</td>\n",
              "      <td>143</td>\n",
              "      <td>107</td>\n",
              "      <td>72</td>\n",
              "      <td>1573</td>\n",
              "      <td>107</td>\n",
              "      <td>792</td>\n",
              "    </tr>\n",
              "  </tbody>\n",
              "</table>\n",
              "</div>"
            ],
            "text/plain": [
              "            Train (original)  Test(original)  Valid(original)  \\\n",
              "0   Cáncer                53              40               27   \n",
              "1  Control                90              67               45   \n",
              "2    Total               143             107               72   \n",
              "\n",
              "   Train (aumentado)  Test (aumentado)  Valid (aumentado)  \n",
              "0                583                40                297  \n",
              "1                990                67                495  \n",
              "2               1573               107                792  "
            ]
          },
          "execution_count": 54,
          "metadata": {},
          "output_type": "execute_result"
        }
      ],
      "source": [
        "num_can0 = sum(1 for fid in train_elems if \"C\" in fid and 'aug' not in fid)\n",
        "num_con0 = sum(1 for fid in train_elems if \"C\" not in fid and 'aug' not in fid)\n",
        "num_can1 = sum(1 for fid in train_elems if \"C\" in fid)\n",
        "num_con1 = sum(1 for fid in train_elems if \"C\" not in fid)\n",
        "\n",
        "numm_can0 = sum(1 for fid in test_elems if \"C\" in fid and 'aug' not in fid)\n",
        "numm_con0 = sum(1 for fid in test_elems if \"C\" not in fid and 'aug' not in fid)\n",
        "numm_can1 = sum(1 for fid in test_elems if \"C\" in fid)\n",
        "numm_con1 = sum(1 for fid in test_elems if \"C\" not in fid)\n",
        "\n",
        "nummm_can0 = sum(1 for fid in valid_elems if \"C\" in fid and 'aug' not in fid)\n",
        "nummm_con0 = sum(1 for fid in valid_elems if \"C\" not in fid and 'aug' not in fid)\n",
        "nummm_can1 = sum(1 for fid in valid_elems if \"C\" in fid)\n",
        "nummm_con1 = sum(1 for fid in valid_elems if \"C\" not in fid)\n",
        "# Create DataFrame with data\n",
        "data = {\n",
        "    \" \": [\"Cáncer\", \"Control\", \"Total\"],\n",
        "    \"Train (original)\": [num_can0, num_con0, num_can0+num_con0],\n",
        "    \"Test(original)\": [numm_can0, numm_con0, numm_can0+numm_con0],\n",
        "    \"Valid(original)\": [nummm_can0, nummm_con0, nummm_can0+nummm_con0],\n",
        "    \"Train (aumentado)\": [num_can1,num_con1,num_can1+num_con1],\n",
        "    \"Test (aumentado)\": [numm_can1,numm_con1,numm_can1+numm_con1],\n",
        "    \"Valid (aumentado)\": [nummm_can1,nummm_con1,nummm_can1+nummm_con1]\n",
        "}\n",
        "\n",
        "df = pd.DataFrame(data)\n",
        "\n",
        "# Show DataFrame with similar format to kable\n",
        "df"
      ]
    },
    {
      "cell_type": "markdown",
      "id": "ab452607-de63-4722-a443-52c36fb2beef",
      "metadata": {
        "id": "ab452607-de63-4722-a443-52c36fb2beef"
      },
      "source": [
        "### **Balanced**"
      ]
    },
    {
      "cell_type": "code",
      "execution_count": null,
      "id": "5267aeae-9e7b-4339-be10-28b15307f05f",
      "metadata": {
        "id": "5267aeae-9e7b-4339-be10-28b15307f05f",
        "outputId": "8491b674-81c4-4e16-ecfc-34e14d92a607"
      },
      "outputs": [
        {
          "data": {
            "text/html": [
              "<div>\n",
              "<style scoped>\n",
              "    .dataframe tbody tr th:only-of-type {\n",
              "        vertical-align: middle;\n",
              "    }\n",
              "\n",
              "    .dataframe tbody tr th {\n",
              "        vertical-align: top;\n",
              "    }\n",
              "\n",
              "    .dataframe thead th {\n",
              "        text-align: right;\n",
              "    }\n",
              "</style>\n",
              "<table border=\"1\" class=\"dataframe\">\n",
              "  <thead>\n",
              "    <tr style=\"text-align: right;\">\n",
              "      <th></th>\n",
              "      <th></th>\n",
              "      <th>Train (original)</th>\n",
              "      <th>Test(original)</th>\n",
              "      <th>Valid(original)</th>\n",
              "      <th>Train (aumentado)</th>\n",
              "      <th>Test (aumentado)</th>\n",
              "      <th>Valid (aumentado)</th>\n",
              "    </tr>\n",
              "  </thead>\n",
              "  <tbody>\n",
              "    <tr>\n",
              "      <th>0</th>\n",
              "      <td>Cáncer</td>\n",
              "      <td>53</td>\n",
              "      <td>40</td>\n",
              "      <td>27</td>\n",
              "      <td>795</td>\n",
              "      <td>40</td>\n",
              "      <td>405</td>\n",
              "    </tr>\n",
              "    <tr>\n",
              "      <th>1</th>\n",
              "      <td>Control</td>\n",
              "      <td>90</td>\n",
              "      <td>67</td>\n",
              "      <td>45</td>\n",
              "      <td>810</td>\n",
              "      <td>67</td>\n",
              "      <td>405</td>\n",
              "    </tr>\n",
              "    <tr>\n",
              "      <th>2</th>\n",
              "      <td>Total</td>\n",
              "      <td>143</td>\n",
              "      <td>107</td>\n",
              "      <td>72</td>\n",
              "      <td>1605</td>\n",
              "      <td>107</td>\n",
              "      <td>810</td>\n",
              "    </tr>\n",
              "  </tbody>\n",
              "</table>\n",
              "</div>"
            ],
            "text/plain": [
              "            Train (original)  Test(original)  Valid(original)  \\\n",
              "0   Cáncer                53              40               27   \n",
              "1  Control                90              67               45   \n",
              "2    Total               143             107               72   \n",
              "\n",
              "   Train (aumentado)  Test (aumentado)  Valid (aumentado)  \n",
              "0                795                40                405  \n",
              "1                810                67                405  \n",
              "2               1605               107                810  "
            ]
          },
          "execution_count": 36,
          "metadata": {},
          "output_type": "execute_result"
        }
      ],
      "source": [
        "num_can0 = sum(1 for fid in train_elems if \"C\" in fid and 'aug' not in fid)\n",
        "num_con0 = sum(1 for fid in train_elems if \"C\" not in fid and 'aug' not in fid)\n",
        "num_can1 = sum(1 for fid in train_elems if \"C\" in fid)\n",
        "num_con1 = sum(1 for fid in train_elems if \"C\" not in fid)\n",
        "\n",
        "numm_can0 = sum(1 for fid in test_elems if \"C\" in fid and 'aug' not in fid)\n",
        "numm_con0 = sum(1 for fid in test_elems if \"C\" not in fid and 'aug' not in fid)\n",
        "numm_can1 = sum(1 for fid in test_elems if \"C\" in fid)\n",
        "numm_con1 = sum(1 for fid in test_elems if \"C\" not in fid)\n",
        "\n",
        "nummm_can0 = sum(1 for fid in valid_elems if \"C\" in fid and 'aug' not in fid)\n",
        "nummm_con0 = sum(1 for fid in valid_elems if \"C\" not in fid and 'aug' not in fid)\n",
        "nummm_can1 = sum(1 for fid in valid_elems if \"C\" in fid)\n",
        "nummm_con1 = sum(1 for fid in valid_elems if \"C\" not in fid)\n",
        "# Create DataFrame with data\n",
        "data = {\n",
        "    \" \": [\"Cáncer\", \"Control\", \"Total\"],\n",
        "    \"Train (original)\": [num_can0, num_con0, num_can0+num_con0],\n",
        "    \"Test(original)\": [numm_can0, numm_con0, numm_can0+numm_con0],\n",
        "    \"Valid(original)\": [nummm_can0, nummm_con0, nummm_can0+nummm_con0],\n",
        "    \"Train (aumentado)\": [num_can1,num_con1,num_can1+num_con1],\n",
        "    \"Test (aumentado)\": [numm_can1,numm_con1,numm_can1+numm_con1],\n",
        "    \"Valid (aumentado)\": [nummm_can1,nummm_con1,nummm_can1+nummm_con1]\n",
        "}\n",
        "\n",
        "df = pd.DataFrame(data)\n",
        "\n",
        "# Show DataFrame with similar format to kable\n",
        "df"
      ]
    }
  ],
  "metadata": {
    "kernelspec": {
      "display_name": "Python 3 (ipykernel)",
      "language": "python",
      "name": "python3"
    },
    "language_info": {
      "codemirror_mode": {
        "name": "ipython",
        "version": 3
      },
      "file_extension": ".py",
      "mimetype": "text/x-python",
      "name": "python",
      "nbconvert_exporter": "python",
      "pygments_lexer": "ipython3",
      "version": "3.10.12"
    },
    "colab": {
      "provenance": []
    }
  },
  "nbformat": 4,
  "nbformat_minor": 5
}