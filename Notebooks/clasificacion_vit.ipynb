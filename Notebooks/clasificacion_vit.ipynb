{
  "cells": [
    {
      "cell_type": "markdown",
      "id": "1e82a9ab-66dd-4582-b14f-afe2cee08766",
      "metadata": {
        "id": "1e82a9ab-66dd-4582-b14f-afe2cee08766"
      },
      "source": [
        "## Packages"
      ]
    },
    {
      "cell_type": "code",
      "execution_count": null,
      "id": "90d52d8b",
      "metadata": {
        "id": "90d52d8b"
      },
      "outputs": [],
      "source": [
        "!pip install tf_keras_vis\n",
        "!pip install keras_tuner -q\n",
        "!pip install tensorflow\n",
        "!pip install tensorflow-addons\n",
        "!pip install -q transformers datasets evaluate accelerate -U"
      ]
    },
    {
      "cell_type": "code",
      "execution_count": null,
      "id": "6abfa265",
      "metadata": {
        "id": "6abfa265"
      },
      "outputs": [],
      "source": [
        "from torchvision.datasets import ImageFolder\n",
        "from torchvision.transforms import ToTensor\n",
        "import numpy as np\n",
        "import pandas as pd\n",
        "import cv2\n",
        "from sklearn.metrics import confusion_matrix\n",
        "from matplotlib import cm\n",
        "import matplotlib.pyplot as plt\n",
        "from datasets import DatasetDict, Dataset,load_metric\n",
        "import evaluate\n",
        "import torch\n",
        "import PIL\n",
        "from transformers import ViTFeatureExtractor, ViTImageProcessor, ViTForImageClassification, TrainingArguments, Trainer, pipeline, DefaultDataCollator\n",
        "from transformers import ViTModel, ViTConfig\n",
        "import torch.nn as nn\n",
        "from torchvision import transforms\n",
        "from torch.optim import Adam\n",
        "from torch.utils.data import DataLoader\n",
        "from tqdm import tqdm\n",
        "from sklearn import metrics as pred_metrics\n",
        "import random\n",
        "import errno\n",
        "import os\n",
        "\n",
        "#Pretrained model checkpoint\n",
        "model_checkpoint = 'google/vit-base-patch16-224-in21k'\n",
        "feature_extractor = ViTImageProcessor.from_pretrained(model_checkpoint)\n",
        "TYPE=\"_Balanced\"\n",
        "#TYPE=\"\""
      ]
    },
    {
      "cell_type": "code",
      "execution_count": null,
      "id": "5bd64b9f-a49c-426d-9c5a-ca448f038bc1",
      "metadata": {
        "id": "5bd64b9f-a49c-426d-9c5a-ca448f038bc1",
        "outputId": "16375736-ee67-45b5-c77f-e2921e55f2f9"
      },
      "outputs": [
        {
          "data": {
            "text/plain": [
              "True"
            ]
          },
          "execution_count": 3,
          "metadata": {},
          "output_type": "execute_result"
        }
      ],
      "source": [
        "torch.cuda.is_available()"
      ]
    },
    {
      "cell_type": "markdown",
      "id": "6bbc587e-cf07-4ad9-86a4-5f4dc9c6977a",
      "metadata": {
        "id": "6bbc587e-cf07-4ad9-86a4-5f4dc9c6977a"
      },
      "source": [
        "**Functions**"
      ]
    },
    {
      "cell_type": "code",
      "execution_count": null,
      "id": "112ae4a8-9444-48d0-9da9-9caec0a69a6f",
      "metadata": {
        "id": "112ae4a8-9444-48d0-9da9-9caec0a69a6f"
      },
      "outputs": [],
      "source": [
        "# Metrics to evaluate the predictions of our ViT model\n",
        "def get_metrics(ytrue, ypred):\n",
        "    # AUC\n",
        "    auc = pred_metrics.roc_auc_score(ytrue, ypred)\n",
        "\n",
        "    # Confusion matrix\n",
        "    conf_matrix = pred_metrics.confusion_matrix(ytrue, ypred)\n",
        "    tn, fp, fn, tp = conf_matrix.ravel()\n",
        "\n",
        "    # Precision\n",
        "    pre = pred_metrics.precision_score(ytrue, ypred)\n",
        "\n",
        "    # Sensitivity / Recall\n",
        "    rec = pred_metrics.recall_score(ytrue, ypred)\n",
        "\n",
        "    # Accuracy\n",
        "    acc = pred_metrics.accuracy_score(ytrue, ypred)\n",
        "\n",
        "    # Specificity\n",
        "    esp = tn / (tn + fp) if (tn + fp) > 0 else 0.0\n",
        "\n",
        "    # False negative rate\n",
        "    tfn = fn / (fn + tp) if (fn + tp) > 0 else 0.0\n",
        "\n",
        "    # Positive predictive value\n",
        "    vpt = tp / (fp + tp) if (fp + tp) > 0 else 0.0\n",
        "\n",
        "    # Negative predictive value\n",
        "    vpn = tn / (tn + fn) if (tn + fn) > 0 else 0.0\n",
        "\n",
        "    # F1-Score\n",
        "    f1 = pred_metrics.f1_score(ytrue, ypred)\n",
        "\n",
        "    print('*' * 10, 'MÉTRICAS', '*' * 10)\n",
        "    print('AUC: ', round(auc, 3))\n",
        "    print('True Positives: ', tp)\n",
        "    print('True Negatives: ', tn)\n",
        "    print('False Positives: ', fp)\n",
        "    print('False Negatives: ', fn)\n",
        "    print('Precisión: ', round(pre, 3))\n",
        "    print('Recall / Sensibilidad: ', round(rec, 3))\n",
        "    print('Accuracy / Exactitud: ', round(acc, 3))\n",
        "    print('Especificidad: ', round(esp, 3))\n",
        "    print('Tasa falsos negativos: ', round(tfn, 3))\n",
        "    print('Valor predictivo positivo: ', round(vpt, 3))\n",
        "    print('Valor predictivo negativo: ', round(vpn, 3))\n",
        "    print('F1-Score: ', round(f1, 3))\n",
        "    print('*' * 30)\n",
        "    return"
      ]
    },
    {
      "cell_type": "code",
      "execution_count": null,
      "id": "010a40db-e122-42e1-b404-e13c8e0e476d",
      "metadata": {
        "id": "010a40db-e122-42e1-b404-e13c8e0e476d"
      },
      "outputs": [],
      "source": [
        "# Function to get the predictions of our dataset with metrics and confusion matrix\n",
        "def prediccion_final(images,true_labels):\n",
        "    predicted=[]\n",
        "\n",
        "    for ruta in tqdm(images):\n",
        "        preprocessed_test_image = feature_extractor([PIL.Image.open(ruta).convert(\"RGB\")], return_tensors='pt')['pixel_values']\n",
        "        with torch.no_grad():\n",
        "            preds = model(preprocessed_test_image, output_attentions=True)\n",
        "            predicted.append(preds)\n",
        "\n",
        "    my_preds=[pred.logits.argmax().cpu().numpy().tolist() for pred in predicted]\n",
        "\n",
        "    print(\"Métricas: \")\n",
        "    matc=confusion_matrix(true_labels,\n",
        "                          my_preds)\n",
        "    # Create a figure and an axis\n",
        "    fig, ax = plt.subplots(figsize=(3,3))\n",
        "    # Show confusion matrix with custom tags\n",
        "    ax.imshow(matc, interpolation='nearest',cmap=cm.Blues)\n",
        "\n",
        "    # Configure labels on axes\n",
        "    ax.set_xticks(np.arange(len(labels)))\n",
        "    ax.set_yticks(np.arange(len(labels)))\n",
        "    ax.set_xticklabels(labels)\n",
        "    ax.set_yticklabels(labels,rotation=90)\n",
        "\n",
        "    ax.set_xlabel('Predicciones')\n",
        "    ax.set_ylabel('Etiquetas Verdaderas')\n",
        "    # Add labels to each cell\n",
        "    thresh = matc.max() / 2.0\n",
        "    for i in range(matc.shape[0]):\n",
        "        for j in range(matc.shape[1]):\n",
        "            ax.text(j, i, format(matc[i, j], 'd'),\n",
        "                    ha=\"center\", va=\"center\",\n",
        "                    color=\"white\" if matc[i, j] > thresh else \"black\")\n",
        "    plt.tight_layout()\n",
        "\n",
        "    from sklearn import metrics as pred_metrics\n",
        "    print(pred_metrics.classification_report(true_labels, my_preds, digits = 3))\n",
        "\n",
        "    get_metrics(true_labels, my_preds)\n",
        "\n",
        "    return"
      ]
    },
    {
      "cell_type": "code",
      "execution_count": null,
      "id": "2bae06eb",
      "metadata": {
        "id": "2bae06eb"
      },
      "outputs": [],
      "source": [
        "# This functions allows us to know which case is mistaken labeled\n",
        "\n",
        "def get_failed(images,true_labels):\n",
        "    predicted=[]\n",
        "\n",
        "    for ruta in tqdm(images):\n",
        "        preprocessed_test_image = feature_extractor([PIL.Image.open(ruta).convert(\"RGB\")], return_tensors='pt')['pixel_values']\n",
        "        with torch.no_grad():\n",
        "            preds = model(preprocessed_test_image, output_attentions=True)\n",
        "            predicted.append(preds)\n",
        "\n",
        "    my_preds=[pred.logits.argmax().cpu().numpy().tolist() for pred in predicted]\n",
        "\n",
        "    print(\"Métricas: \")\n",
        "    matc=confusion_matrix(true_labels,\n",
        "                          my_preds)\n",
        "    # Create a figure and an axis\n",
        "    fig, ax = plt.subplots(figsize=(3,3))\n",
        "    # Show confusion matrix with custom tags\n",
        "    ax.imshow(matc, interpolation='nearest',cmap=cm.Blues)\n",
        "\n",
        "    # Configure labels on axes\n",
        "    ax.set_xticks(np.arange(len(labels)))\n",
        "    ax.set_yticks(np.arange(len(labels)))\n",
        "    ax.set_xticklabels(labels)\n",
        "    ax.set_yticklabels(labels,rotation=90)\n",
        "\n",
        "    ax.set_xlabel('Predicciones')\n",
        "    ax.set_ylabel('Etiquetas Verdaderas')\n",
        "    # Add labels to each cell\n",
        "    thresh = matc.max() / 2.0\n",
        "    for i in range(matc.shape[0]):\n",
        "        for j in range(matc.shape[1]):\n",
        "            ax.text(j, i, format(matc[i, j], 'd'),\n",
        "                    ha=\"center\", va=\"center\",\n",
        "                    color=\"white\" if matc[i, j] > thresh else \"black\")\n",
        "    plt.tight_layout()\n",
        "\n",
        "    for i,ruta in enumerate(images):\n",
        "        if (true_labels[i] != my_preds[i]):\n",
        "            print(ruta.split('/')[-1].split('.')[0])\n",
        "\n",
        "    return"
      ]
    },
    {
      "cell_type": "code",
      "execution_count": null,
      "id": "86e782c7-e793-4fd3-b449-4b7fe3c8700d",
      "metadata": {
        "id": "86e782c7-e793-4fd3-b449-4b7fe3c8700d"
      },
      "outputs": [],
      "source": [
        "# This function allows us to save the attention maps of our model for each case\n",
        "\n",
        "def save_attention(output,image,dir):\n",
        "    attentions = output.attentions[-1] # we are only interested in the attention maps of the last layer\n",
        "    nh = attentions.shape[1] # number of head\n",
        "\n",
        "    # we keep only the output patch attention\n",
        "    attentions = attentions[0, :, 0, 1:].reshape(nh, -1)\n",
        "\n",
        "    threshold = 0.6\n",
        "    w_featmap = image.shape[-2] // model.config.patch_size\n",
        "    h_featmap = image.shape[-1] // model.config.patch_size\n",
        "\n",
        "    # we keep only a certain percentage of the mass\n",
        "    val, idx = torch.sort(attentions)\n",
        "    val /= torch.sum(val, dim=1, keepdim=True)\n",
        "    cumval = torch.cumsum(val, dim=1)\n",
        "    th_attn = cumval > (1 - threshold)\n",
        "    idx2 = torch.argsort(idx)\n",
        "    for head in range(nh):\n",
        "        th_attn[head] = th_attn[head][idx2[head]]\n",
        "    th_attn = th_attn.reshape(nh, w_featmap, h_featmap).float()\n",
        "    # interpolate\n",
        "    th_attn = nn.functional.interpolate(th_attn.unsqueeze(0), scale_factor=model.config.patch_size, mode=\"nearest\")[0].cpu().numpy()\n",
        "\n",
        "    attentions = attentions.reshape(nh, w_featmap, h_featmap)\n",
        "    attentions = nn.functional.interpolate(attentions.unsqueeze(0), scale_factor=model.config.patch_size, mode=\"nearest\")[0].cpu()\n",
        "    attentions = attentions.detach().numpy()\n",
        "\n",
        "    # show attentions heatmaps\n",
        "    for j in range(nh):\n",
        "        plt.imsave(fname=dir+\"_attn-head_\"+str(j)+\".jpg\", arr=attentions[j],format='jpg')\n",
        "    return"
      ]
    },
    {
      "cell_type": "code",
      "execution_count": null,
      "id": "e57b951c-37b9-4c56-a4d0-89af46c7e212",
      "metadata": {
        "id": "e57b951c-37b9-4c56-a4d0-89af46c7e212"
      },
      "outputs": [],
      "source": [
        "from tqdm.notebook import trange\n",
        "\n",
        "# Automatically generate and save all our attention maps\n",
        "def get_attentions_maps(my_data,prefijo):\n",
        "    sets = ['test','valid','train']\n",
        "    for s in sets:\n",
        "        data = my_data[s]\n",
        "        try:\n",
        "            os.makedirs('./data_Balanced/ViT_Attention_Maps/'+prefijo+s)\n",
        "            os.makedirs('./data_Balanced/ViT_Attention_Maps/'+prefijo+s+'/Cáncer')\n",
        "            os.makedirs('./data_Balanced/ViT_Attention_Maps/'+prefijo+s+'/Control')\n",
        "        except OSError as e:\n",
        "            if e.errno != errno.EEXIST:\n",
        "                raise\n",
        "\n",
        "        for i in trange(len(data),desc=\"Procesando conjunto \"+prefijo+s):\n",
        "            image = data['image'][i]\n",
        "            name = data['image'][i].split('/')[-1].split('.')[0]\n",
        "\n",
        "            if 'C' in name:\n",
        "                dir = './data_Balanced/ViT_Attention_Maps/'+prefijo+s+'/Cáncer/'+name\n",
        "            else:\n",
        "                dir = './data_Balanced/ViT_Attention_Maps/'+prefijo+s+'/Control/'+name\n",
        "\n",
        "            input = feature_extractor([PIL.Image.open(image).convert(\"RGB\")], return_tensors='pt')['pixel_values']\n",
        "            with torch.no_grad():\n",
        "                pred = model(input, output_attentions=True,interpolate_pos_encoding=True)\n",
        "                save_attention(pred,input,dir)\n",
        "        return"
      ]
    },
    {
      "cell_type": "code",
      "execution_count": null,
      "id": "3d6ba915",
      "metadata": {
        "id": "3d6ba915"
      },
      "outputs": [],
      "source": [
        "# This functions gives us for each case the probabilities of being form one class or other\n",
        "def get_probabilities(images,labels,conjunto):\n",
        "    for i,ruta in enumerate(images):\n",
        "        preprocessed_test_image = feature_extractor([PIL.Image.open(ruta).convert(\"RGB\")],\n",
        "                                                    return_tensors='pt')['pixel_values']\n",
        "        name_img = ruta.split('/')[-1].split('.')[0]\n",
        "        with torch.no_grad():\n",
        "            preds = model(preprocessed_test_image)\n",
        "            logits = preds.logits\n",
        "\n",
        "            # Apply softmax for odds\n",
        "            probabilities = torch.nn.functional.softmax(logits, dim=1)\n",
        "\n",
        "            clas_pred=logits.argmax().cpu().numpy().tolist()\n",
        "            prob_class0,prob_class1 = probabilities[0].tolist()\n",
        "\n",
        "            data.append([conjunto,name_img,labels[i],clas_pred,prob_class0,prob_class1])"
      ]
    },
    {
      "cell_type": "markdown",
      "id": "11a803a7-1713-4d7d-92ef-5b1e0363d3e3",
      "metadata": {
        "id": "11a803a7-1713-4d7d-92ef-5b1e0363d3e3"
      },
      "source": [
        "# Gold Data"
      ]
    },
    {
      "cell_type": "markdown",
      "id": "8ef09435",
      "metadata": {
        "jp-MarkdownHeadingCollapsed": true,
        "id": "8ef09435"
      },
      "source": [
        "## Load data"
      ]
    },
    {
      "cell_type": "code",
      "execution_count": null,
      "id": "e9d83e36",
      "metadata": {
        "id": "e9d83e36"
      },
      "outputs": [],
      "source": [
        "#Original\n",
        "new_ruta_train='./data'+TYPE+'/Gold_Standard/train'\n",
        "new_ruta_test='./data'+TYPE+'/Gold_Standard/test'\n",
        "new_ruta_valid='./data'+TYPE+'/Gold_Standard/valid'\n",
        "\n",
        "#Segmentation\n",
        "new_ruta_strain='./data'+TYPE+'/Gold_Standard/strain'\n",
        "new_ruta_stest='./data'+TYPE+'/Gold_Standard/stest'\n",
        "new_ruta_svalid='./data'+TYPE+'/Gold_Standard/svalid'\n",
        "\n",
        "#Detection\n",
        "new_ruta_dtrain='./data'+TYPE+'/Gold_Standard/dtrain'\n",
        "new_ruta_dtest='./data'+TYPE+'/Gold_Standard/dtest'\n",
        "new_ruta_dvalid='./data'+TYPE+'/Gold_Standard/dvalid'"
      ]
    },
    {
      "cell_type": "code",
      "execution_count": null,
      "id": "32bcde9b",
      "metadata": {
        "id": "32bcde9b",
        "outputId": "99d1f3b4-291e-48e9-c3d9-07d9d79878bf"
      },
      "outputs": [
        {
          "name": "stdout",
          "output_type": "stream",
          "text": [
            "DatasetDict({\n",
            "    train: Dataset({\n",
            "        features: ['image', 'labels'],\n",
            "        num_rows: 1605\n",
            "    })\n",
            "    valid: Dataset({\n",
            "        features: ['image', 'labels'],\n",
            "        num_rows: 810\n",
            "    })\n",
            "    test: Dataset({\n",
            "        features: ['image', 'labels'],\n",
            "        num_rows: 107\n",
            "    })\n",
            "})\n"
          ]
        }
      ],
      "source": [
        "# ORIGINAL\n",
        "random.seed(123)\n",
        "# Transform to convert images to tensors\n",
        "transform = ToTensor()\n",
        "\n",
        "# Upload your data using ImageFolder\n",
        "train_dataset = ImageFolder(new_ruta_train, transform=transform)\n",
        "test_dataset = ImageFolder(new_ruta_test, transform=transform)\n",
        "valid_dataset = ImageFolder(new_ruta_valid, transform=transform)\n",
        "\n",
        "# Get images and tags as lists\n",
        "train_samples = train_dataset.samples\n",
        "test_samples = test_dataset.samples\n",
        "valid_samples = valid_dataset.samples\n",
        "\n",
        "# Mixing index randomly\n",
        "random1_permutation = np.random.permutation(len(train_samples))\n",
        "train_samples = [train_samples[i] for i in random1_permutation]\n",
        "\n",
        "random2_permutation = np.random.permutation(len(test_samples))\n",
        "test_samples = [test_samples[i] for i in random2_permutation]\n",
        "\n",
        "random3_permutation = np.random.permutation(len(valid_samples))\n",
        "valid_samples = [valid_samples[i] for i in random3_permutation]\n",
        "\n",
        "# Create a DatasetDict and add the mixed data sets\n",
        "data_dict = DatasetDict()\n",
        "\n",
        "train_data = Dataset.from_dict({\n",
        "    'image': [sample[0] for sample in train_samples],\n",
        "    'labels': [sample[1] for sample in train_samples]\n",
        "})\n",
        "data_dict['train'] = train_data\n",
        "\n",
        "valid_data = Dataset.from_dict({\n",
        "    'image': [sample[0] for sample in valid_samples],\n",
        "    'labels': [sample[1] for sample in valid_samples]\n",
        "})\n",
        "data_dict['valid'] = valid_data\n",
        "\n",
        "test_data = Dataset.from_dict({\n",
        "    'image': [sample[0] for sample in test_samples],\n",
        "    'labels': [sample[1] for sample in test_samples]\n",
        "})\n",
        "data_dict['test'] = test_data\n",
        "\n",
        "print(data_dict)"
      ]
    },
    {
      "cell_type": "code",
      "execution_count": null,
      "id": "cdf310e4",
      "metadata": {
        "id": "cdf310e4",
        "outputId": "ba664753-b0da-4175-b3c4-8fc81b60938b"
      },
      "outputs": [
        {
          "name": "stdout",
          "output_type": "stream",
          "text": [
            "DatasetDict({\n",
            "    train: Dataset({\n",
            "        features: ['image', 'labels'],\n",
            "        num_rows: 1605\n",
            "    })\n",
            "    valid: Dataset({\n",
            "        features: ['image', 'labels'],\n",
            "        num_rows: 810\n",
            "    })\n",
            "    test: Dataset({\n",
            "        features: ['image', 'labels'],\n",
            "        num_rows: 107\n",
            "    })\n",
            "})\n"
          ]
        }
      ],
      "source": [
        "# SEGMENTATION\n",
        "# Upload your data using ImageFolder\n",
        "strain_dataset = ImageFolder(new_ruta_strain, transform=transform)\n",
        "stest_dataset = ImageFolder(new_ruta_stest, transform=transform)\n",
        "svalid_dataset = ImageFolder(new_ruta_svalid, transform=transform)\n",
        "\n",
        "# Get images and tags as lists\n",
        "strain_samples = strain_dataset.samples\n",
        "stest_samples = stest_dataset.samples\n",
        "svalid_samples = svalid_dataset.samples\n",
        "\n",
        "# Mixing index randomly\n",
        "strain_samples = [strain_samples[i] for i in random1_permutation]\n",
        "stest_samples = [stest_samples[i] for i in random2_permutation]\n",
        "svalid_samples = [svalid_samples[i] for i in random3_permutation]\n",
        "\n",
        "# Create a DatasetDict and add the mixed data sets\n",
        "Sdata_dict = DatasetDict()\n",
        "\n",
        "strain_data = Dataset.from_dict({\n",
        "    'image': [sample[0] for sample in strain_samples],\n",
        "    'labels': [sample[1] for sample in strain_samples]\n",
        "})\n",
        "Sdata_dict['train'] = strain_data\n",
        "\n",
        "svalid_data = Dataset.from_dict({\n",
        "    'image': [sample[0] for sample in svalid_samples],\n",
        "    'labels': [sample[1] for sample in svalid_samples]\n",
        "})\n",
        "Sdata_dict['valid'] = svalid_data\n",
        "\n",
        "stest_data = Dataset.from_dict({\n",
        "    'image': [sample[0] for sample in stest_samples],\n",
        "    'labels': [sample[1] for sample in stest_samples]\n",
        "})\n",
        "Sdata_dict['test'] = stest_data\n",
        "\n",
        "print(Sdata_dict)"
      ]
    },
    {
      "cell_type": "code",
      "execution_count": null,
      "id": "22bd678f",
      "metadata": {
        "id": "22bd678f",
        "outputId": "a1d7caf4-5e73-4b52-8c45-8303fef5e906"
      },
      "outputs": [
        {
          "name": "stdout",
          "output_type": "stream",
          "text": [
            "DatasetDict({\n",
            "    train: Dataset({\n",
            "        features: ['image', 'labels'],\n",
            "        num_rows: 1605\n",
            "    })\n",
            "    valid: Dataset({\n",
            "        features: ['image', 'labels'],\n",
            "        num_rows: 810\n",
            "    })\n",
            "    test: Dataset({\n",
            "        features: ['image', 'labels'],\n",
            "        num_rows: 107\n",
            "    })\n",
            "})\n"
          ]
        }
      ],
      "source": [
        "# DETECTION\n",
        "# Upload your data using ImageFolder\n",
        "dtrain_dataset = ImageFolder(new_ruta_dtrain, transform=transform)\n",
        "dtest_dataset = ImageFolder(new_ruta_dtest, transform=transform)\n",
        "dvalid_dataset = ImageFolder(new_ruta_dvalid, transform=transform)\n",
        "\n",
        "# Get images and tags as lists\n",
        "dtrain_samples = dtrain_dataset.samples\n",
        "dtest_samples = dtest_dataset.samples\n",
        "dvalid_samples = dvalid_dataset.samples\n",
        "\n",
        "# Mixing index randomly\n",
        "dtrain_samples = [dtrain_samples[i] for i in random1_permutation]\n",
        "dtest_samples = [dtest_samples[i] for i in random2_permutation]\n",
        "dvalid_samples = [dvalid_samples[i] for i in random3_permutation]\n",
        "\n",
        "# Create a DatasetDict and add the mixed data sets\n",
        "Ddata_dict = DatasetDict()\n",
        "\n",
        "dtrain_data = Dataset.from_dict({\n",
        "    'image': [sample[0] for sample in dtrain_samples],\n",
        "    'labels': [sample[1] for sample in dtrain_samples]\n",
        "})\n",
        "Ddata_dict['train'] = dtrain_data\n",
        "\n",
        "dvalid_data = Dataset.from_dict({\n",
        "    'image': [sample[0] for sample in dvalid_samples],\n",
        "    'labels': [sample[1] for sample in dvalid_samples]\n",
        "})\n",
        "Ddata_dict['valid'] = dvalid_data\n",
        "\n",
        "dtest_data = Dataset.from_dict({\n",
        "    'image': [sample[0] for sample in dtest_samples],\n",
        "    'labels': [sample[1] for sample in dtest_samples]\n",
        "})\n",
        "Ddata_dict['test'] = dtest_data\n",
        "\n",
        "print(Ddata_dict)"
      ]
    },
    {
      "cell_type": "code",
      "execution_count": null,
      "id": "dfdefb08",
      "metadata": {
        "id": "dfdefb08"
      },
      "outputs": [],
      "source": [
        "# Transform images\n",
        "def transform(example_batch):\n",
        "    inputs = feature_extractor([PIL.Image.open(image_path).convert(\"RGB\") for image_path in example_batch['image']], return_tensors='pt')\n",
        "    # Don’t forget to include the labels\n",
        "    inputs['labels'] = example_batch['labels']\n",
        "    return inputs"
      ]
    },
    {
      "cell_type": "code",
      "execution_count": null,
      "id": "bf0a0ce9",
      "metadata": {
        "id": "bf0a0ce9"
      },
      "outputs": [],
      "source": [
        "#ORIGINAL\n",
        "train_dataset = data_dict['train'].with_transform(transform)\n",
        "test_dataset = data_dict['test'].with_transform(transform)\n",
        "val_dataset = data_dict['valid'].with_transform(transform)\n",
        "\n",
        "#SEGMENTATION\n",
        "Strain_dataset = Sdata_dict['train'].with_transform(transform)\n",
        "Stest_dataset = Sdata_dict['test'].with_transform(transform)\n",
        "Sval_dataset = Sdata_dict['valid'].with_transform(transform)\n",
        "\n",
        "#DETECTION\n",
        "Dtrain_dataset = Ddata_dict['train'].with_transform(transform)\n",
        "Dtest_dataset = Ddata_dict['test'].with_transform(transform)\n",
        "Dval_dataset = Ddata_dict['valid'].with_transform(transform)"
      ]
    },
    {
      "cell_type": "code",
      "execution_count": null,
      "id": "eee026f5-63f3-4346-830f-fae613338deb",
      "metadata": {
        "id": "eee026f5-63f3-4346-830f-fae613338deb",
        "outputId": "2d112489-36b0-4b73-c4c6-ff2fcc2727a5"
      },
      "outputs": [
        {
          "name": "stdout",
          "output_type": "stream",
          "text": [
            "{'image': './data_Balanced/Gold_Standard/train/Control/00036_aug05.jpg', 'labels': 0}\n",
            "{'image': './data_Balanced/Gold_Standard/strain/Control/00036_aug05(1).jpg', 'labels': 0}\n",
            "{'image': './data_Balanced/Gold_Standard/dtrain/Control/00036_aug05.jpg', 'labels': 0}\n"
          ]
        }
      ],
      "source": [
        "print(data_dict['train'][0])\n",
        "print(Sdata_dict['train'][0])\n",
        "print(Ddata_dict['train'][0])"
      ]
    },
    {
      "cell_type": "code",
      "execution_count": null,
      "id": "3fb70bde",
      "metadata": {
        "id": "3fb70bde",
        "outputId": "8d9aac46-dafb-4922-9b07-a6777c2fa5d3"
      },
      "outputs": [
        {
          "data": {
            "text/plain": [
              "{'Control': '0', 'Cancer': '1'}"
            ]
          },
          "execution_count": 16,
          "metadata": {},
          "output_type": "execute_result"
        }
      ],
      "source": [
        "labels = ['Control','Cancer']\n",
        "label2id, id2label = dict(), dict()\n",
        "for i, label in enumerate(labels):\n",
        "    label2id[label] = str(i)\n",
        "    id2label[str(i)] = label\n",
        "\n",
        "label2id"
      ]
    },
    {
      "cell_type": "markdown",
      "id": "387c05a2-83c2-4788-a4e5-81491818e0a9",
      "metadata": {
        "jp-MarkdownHeadingCollapsed": true,
        "id": "387c05a2-83c2-4788-a4e5-81491818e0a9"
      },
      "source": [
        "## Model"
      ]
    },
    {
      "cell_type": "code",
      "execution_count": null,
      "id": "6bcd92f3",
      "metadata": {
        "id": "6bcd92f3",
        "outputId": "438a78ec-f896-4b3b-e6c1-315244a693c7"
      },
      "outputs": [
        {
          "data": {
            "text/plain": [
              "ViTImageProcessor {\n",
              "  \"do_normalize\": true,\n",
              "  \"do_rescale\": true,\n",
              "  \"do_resize\": true,\n",
              "  \"image_mean\": [\n",
              "    0.5,\n",
              "    0.5,\n",
              "    0.5\n",
              "  ],\n",
              "  \"image_processor_type\": \"ViTImageProcessor\",\n",
              "  \"image_std\": [\n",
              "    0.5,\n",
              "    0.5,\n",
              "    0.5\n",
              "  ],\n",
              "  \"resample\": 2,\n",
              "  \"rescale_factor\": 0.00392156862745098,\n",
              "  \"size\": {\n",
              "    \"height\": 224,\n",
              "    \"width\": 224\n",
              "  }\n",
              "}"
            ]
          },
          "execution_count": 17,
          "metadata": {},
          "output_type": "execute_result"
        }
      ],
      "source": [
        "feature_extractor"
      ]
    },
    {
      "cell_type": "code",
      "execution_count": null,
      "id": "48d42215",
      "metadata": {
        "id": "48d42215"
      },
      "outputs": [],
      "source": [
        "def collate_fn(batch):\n",
        "    return {'pixel_values': torch.stack([x['pixel_values'] for x in batch]),\n",
        "            'labels': torch.tensor([x['labels'] for x in batch])}"
      ]
    },
    {
      "cell_type": "code",
      "execution_count": null,
      "id": "f66de951",
      "metadata": {
        "id": "f66de951"
      },
      "outputs": [],
      "source": [
        "metric = evaluate.combine([\"f1\",\"accuracy\"])\n",
        "def compute_metrics(p):\n",
        "    return metric.compute(predictions=np.argmax(p.predictions, axis=1), references=p.label_ids)"
      ]
    },
    {
      "cell_type": "code",
      "execution_count": null,
      "id": "00ac2af4",
      "metadata": {
        "id": "00ac2af4",
        "outputId": "26747640-32b5-4978-fee2-5248969bfedc"
      },
      "outputs": [
        {
          "name": "stderr",
          "output_type": "stream",
          "text": [
            "Some weights of ViTForImageClassification were not initialized from the model checkpoint at google/vit-base-patch16-224-in21k and are newly initialized: ['classifier.weight', 'classifier.bias']\n",
            "You should probably TRAIN this model on a down-stream task to be able to use it for predictions and inference.\n",
            "Some weights of ViTForImageClassification were not initialized from the model checkpoint at google/vit-base-patch16-224-in21k and are newly initialized: ['classifier.weight', 'classifier.bias']\n",
            "You should probably TRAIN this model on a down-stream task to be able to use it for predictions and inference.\n",
            "Some weights of ViTForImageClassification were not initialized from the model checkpoint at google/vit-base-patch16-224-in21k and are newly initialized: ['classifier.weight', 'classifier.bias']\n",
            "You should probably TRAIN this model on a down-stream task to be able to use it for predictions and inference.\n"
          ]
        }
      ],
      "source": [
        "model = ViTForImageClassification.from_pretrained(model_checkpoint,\n",
        "                                                  num_labels=len(labels),\n",
        "                                                  id2label=id2label,\n",
        "                                                  label2id=label2id)\n",
        "\n",
        "Smodel = ViTForImageClassification.from_pretrained(model_checkpoint,\n",
        "                                                  num_labels=len(labels),\n",
        "                                                  id2label=id2label,\n",
        "                                                  label2id=label2id)\n",
        "\n",
        "Dmodel = ViTForImageClassification.from_pretrained(model_checkpoint,\n",
        "                                                  num_labels=len(labels),\n",
        "                                                  id2label=id2label,\n",
        "                                                  label2id=label2id)"
      ]
    },
    {
      "cell_type": "code",
      "execution_count": null,
      "id": "a936f3f7",
      "metadata": {
        "id": "a936f3f7"
      },
      "outputs": [],
      "source": [
        "training_args = TrainingArguments(output_dir=\"./ViTresults/original\"+TYPE,\n",
        "                                  remove_unused_columns=False,\n",
        "                                  evaluation_strategy=\"epoch\",\n",
        "                                  save_strategy=\"epoch\",\n",
        "                                  learning_rate=5e-5,\n",
        "                                  per_device_train_batch_size=2,\n",
        "                                  per_device_eval_batch_size=2,\n",
        "                                  gradient_accumulation_steps=4,\n",
        "                                  num_train_epochs=10,\n",
        "                                  warmup_ratio=0.1,\n",
        "                                  load_best_model_at_end=True,\n",
        "                                  metric_for_best_model=\"f1\",\n",
        "                                  push_to_hub=False)\n",
        "\n",
        "Straining_args = TrainingArguments(output_dir=\"./ViTresults/segmentation\"+TYPE,\n",
        "                                  remove_unused_columns=False,\n",
        "                                  evaluation_strategy=\"epoch\",\n",
        "                                  save_strategy=\"epoch\",\n",
        "                                  learning_rate=5e-5,\n",
        "                                  per_device_train_batch_size=2,\n",
        "                                  per_device_eval_batch_size=2,\n",
        "                                  gradient_accumulation_steps=4,\n",
        "                                  num_train_epochs=10,\n",
        "                                  warmup_ratio=0.1,\n",
        "                                  load_best_model_at_end=True,\n",
        "                                  metric_for_best_model=\"f1\",\n",
        "                                  push_to_hub=False)\n",
        "\n",
        "Dtraining_args = TrainingArguments(output_dir=\"./ViTresults/detection\"+TYPE,\n",
        "                                  remove_unused_columns=False,\n",
        "                                  evaluation_strategy=\"epoch\",\n",
        "                                  save_strategy=\"epoch\",\n",
        "                                  learning_rate=5e-5,\n",
        "                                  per_device_train_batch_size=2,\n",
        "                                  per_device_eval_batch_size=2,\n",
        "                                  gradient_accumulation_steps=4,\n",
        "                                  num_train_epochs=10,\n",
        "                                  warmup_ratio=0.1,\n",
        "                                  load_best_model_at_end=True,\n",
        "                                  metric_for_best_model=\"f1\",\n",
        "                                  push_to_hub=False)"
      ]
    },
    {
      "cell_type": "code",
      "execution_count": null,
      "id": "fd6eba30",
      "metadata": {
        "id": "fd6eba30"
      },
      "outputs": [],
      "source": [
        "trainer = Trainer(model=model,\n",
        "                  args=training_args,\n",
        "                  data_collator=collate_fn,\n",
        "                  compute_metrics=compute_metrics,\n",
        "                  train_dataset=train_dataset,\n",
        "                  eval_dataset=val_dataset,\n",
        "                  tokenizer=feature_extractor)\n",
        "\n",
        "Strainer = Trainer(model=Smodel,\n",
        "                  args=Straining_args,\n",
        "                  data_collator=collate_fn,\n",
        "                  compute_metrics=compute_metrics,\n",
        "                  train_dataset=Strain_dataset,\n",
        "                  eval_dataset=Sval_dataset,\n",
        "                  tokenizer=feature_extractor)\n",
        "\n",
        "Dtrainer = Trainer(model=Dmodel,\n",
        "                  args=Dtraining_args,\n",
        "                  data_collator=collate_fn,\n",
        "                  compute_metrics=compute_metrics,\n",
        "                  train_dataset=Dtrain_dataset,\n",
        "                  eval_dataset=Dval_dataset,\n",
        "                  tokenizer=feature_extractor)"
      ]
    },
    {
      "cell_type": "markdown",
      "id": "7da3ef44-d343-4dc5-a682-fb357323f185",
      "metadata": {
        "jp-MarkdownHeadingCollapsed": true,
        "id": "7da3ef44-d343-4dc5-a682-fb357323f185"
      },
      "source": [
        "### Model evaluation of data sets before finetuning"
      ]
    },
    {
      "cell_type": "code",
      "execution_count": null,
      "id": "bc817889-8fdb-42c0-8083-3e3b74484726",
      "metadata": {
        "id": "bc817889-8fdb-42c0-8083-3e3b74484726",
        "outputId": "3e8aac07-e595-418b-802d-aded35f75ad7"
      },
      "outputs": [
        {
          "data": {
            "text/html": [
              "\n",
              "    <div>\n",
              "      \n",
              "      <progress value='1208' max='803' style='width:300px; height:20px; vertical-align: middle;'></progress>\n",
              "      [803/803 48:38]\n",
              "    </div>\n",
              "    "
            ],
            "text/plain": [
              "<IPython.core.display.HTML object>"
            ]
          },
          "metadata": {},
          "output_type": "display_data"
        },
        {
          "data": {
            "text/plain": [
              "{'eval_loss': 0.6846144795417786,\n",
              " 'eval_f1': 0.6842672413793104,\n",
              " 'eval_accuracy': 0.6348909657320873,\n",
              " 'eval_runtime': 1918.9284,\n",
              " 'eval_samples_per_second': 0.836,\n",
              " 'eval_steps_per_second': 0.418}"
            ]
          },
          "execution_count": 17,
          "metadata": {},
          "output_type": "execute_result"
        }
      ],
      "source": [
        "#TRAIN - GOLD Origial  - Sin entrenar\n",
        "trainer.evaluate(train_dataset)"
      ]
    },
    {
      "cell_type": "code",
      "execution_count": null,
      "id": "a6bd2bcc-e26d-4219-be40-4e183ff1d15c",
      "metadata": {
        "id": "a6bd2bcc-e26d-4219-be40-4e183ff1d15c",
        "outputId": "8d07b674-b524-4e00-ee45-1b3484ef0b16"
      },
      "outputs": [
        {
          "data": {
            "text/html": [
              "\n",
              "    <div>\n",
              "      \n",
              "      <progress value='1208' max='803' style='width:300px; height:20px; vertical-align: middle;'></progress>\n",
              "      [803/803 22:53]\n",
              "    </div>\n",
              "    "
            ],
            "text/plain": [
              "<IPython.core.display.HTML object>"
            ]
          },
          "metadata": {},
          "output_type": "display_data"
        },
        {
          "data": {
            "text/plain": [
              "{'eval_loss': 0.6914041042327881,\n",
              " 'eval_f1': 0.6224390243902439,\n",
              " 'eval_accuracy': 0.5177570093457944,\n",
              " 'eval_runtime': 1156.9709,\n",
              " 'eval_samples_per_second': 1.387,\n",
              " 'eval_steps_per_second': 0.694}"
            ]
          },
          "execution_count": 19,
          "metadata": {},
          "output_type": "execute_result"
        }
      ],
      "source": [
        "#TRAIN - GOLD Segmentación - Sin entrenar\n",
        "Strainer.evaluate(Strain_dataset)"
      ]
    },
    {
      "cell_type": "code",
      "execution_count": null,
      "id": "cb684099-1d26-40f0-b42e-356ce5c42f4e",
      "metadata": {
        "id": "cb684099-1d26-40f0-b42e-356ce5c42f4e",
        "outputId": "40d96d8e-177c-4d5b-f1d2-d6c92892d88f"
      },
      "outputs": [
        {
          "data": {
            "text/html": [
              "\n",
              "    <div>\n",
              "      \n",
              "      <progress value='1208' max='803' style='width:300px; height:20px; vertical-align: middle;'></progress>\n",
              "      [803/803 10:31]\n",
              "    </div>\n",
              "    "
            ],
            "text/plain": [
              "<IPython.core.display.HTML object>"
            ]
          },
          "metadata": {},
          "output_type": "display_data"
        },
        {
          "data": {
            "text/plain": [
              "{'eval_loss': 0.7174965739250183,\n",
              " 'eval_f1': 0.08981001727115717,\n",
              " 'eval_accuracy': 0.3433021806853583,\n",
              " 'eval_runtime': 421.1745,\n",
              " 'eval_samples_per_second': 3.811,\n",
              " 'eval_steps_per_second': 1.907}"
            ]
          },
          "execution_count": 21,
          "metadata": {},
          "output_type": "execute_result"
        }
      ],
      "source": [
        "#TRAIN - GOLD Detección - Sin entrenar\n",
        "Dtrainer.evaluate(Dtrain_dataset)"
      ]
    },
    {
      "cell_type": "code",
      "execution_count": null,
      "id": "1c03650e-1c2d-4f87-ba88-341ca5d1342d",
      "metadata": {
        "id": "1c03650e-1c2d-4f87-ba88-341ca5d1342d",
        "outputId": "2d5f1443-f92d-4cef-8146-954736de7b23"
      },
      "outputs": [
        {
          "data": {
            "text/plain": [
              "{'eval_loss': 0.6850542426109314,\n",
              " 'eval_f1': 0.64859228362878,\n",
              " 'eval_accuracy': 0.5839506172839506,\n",
              " 'eval_runtime': 1004.3076,\n",
              " 'eval_samples_per_second': 0.807,\n",
              " 'eval_steps_per_second': 0.403}"
            ]
          },
          "execution_count": 18,
          "metadata": {},
          "output_type": "execute_result"
        }
      ],
      "source": [
        "#VALID - GOLD Original - Sin entrenar\n",
        "trainer.evaluate(val_dataset)"
      ]
    },
    {
      "cell_type": "code",
      "execution_count": null,
      "id": "81455942-d22f-4acf-80fc-05025712cb4b",
      "metadata": {
        "id": "81455942-d22f-4acf-80fc-05025712cb4b",
        "outputId": "044fa07b-ab08-4755-b026-2a60a99058c2"
      },
      "outputs": [
        {
          "data": {
            "text/plain": [
              "{'eval_loss': 0.6913259029388428,\n",
              " 'eval_f1': 0.6221804511278196,\n",
              " 'eval_accuracy': 0.5037037037037037,\n",
              " 'eval_runtime': 219.1924,\n",
              " 'eval_samples_per_second': 3.695,\n",
              " 'eval_steps_per_second': 1.848}"
            ]
          },
          "execution_count": 20,
          "metadata": {},
          "output_type": "execute_result"
        }
      ],
      "source": [
        "#VALID - GOLD Segmentación - Sin entrenar\n",
        "Strainer.evaluate(Sval_dataset)"
      ]
    },
    {
      "cell_type": "code",
      "execution_count": null,
      "id": "9dc22fdb-ef1d-496d-b4f5-3adf8115c8bf",
      "metadata": {
        "id": "9dc22fdb-ef1d-496d-b4f5-3adf8115c8bf",
        "outputId": "013bdd38-2801-48d7-8512-86bf48d85001"
      },
      "outputs": [
        {
          "data": {
            "text/plain": [
              "{'eval_loss': 0.722346842288971,\n",
              " 'eval_f1': 0.03735144312393888,\n",
              " 'eval_accuracy': 0.3,\n",
              " 'eval_runtime': 211.2445,\n",
              " 'eval_samples_per_second': 3.834,\n",
              " 'eval_steps_per_second': 1.917}"
            ]
          },
          "execution_count": 22,
          "metadata": {},
          "output_type": "execute_result"
        }
      ],
      "source": [
        "#VALID - GOLD Detección - Sin entrenar\n",
        "Dtrainer.evaluate(Dval_dataset)"
      ]
    },
    {
      "cell_type": "code",
      "execution_count": null,
      "id": "f55e8162",
      "metadata": {
        "id": "f55e8162",
        "outputId": "f3927521-a0e8-42cf-dbc1-527e2bc733e6"
      },
      "outputs": [
        {
          "data": {
            "text/html": [
              "\n",
              "    <div>\n",
              "      \n",
              "      <progress value='459' max='54' style='width:300px; height:20px; vertical-align: middle;'></progress>\n",
              "      [54/54 21:16]\n",
              "    </div>\n",
              "    "
            ],
            "text/plain": [
              "<IPython.core.display.HTML object>"
            ]
          },
          "metadata": {},
          "output_type": "display_data"
        },
        {
          "name": "stdout",
          "output_type": "stream",
          "text": [
            "***** eval metrics *****\n",
            "  eval_accuracy           =     0.6075\n",
            "  eval_f1                 =     0.5227\n",
            "  eval_loss               =     0.6821\n",
            "  eval_runtime            = 0:00:05.54\n",
            "  eval_samples_per_second =     19.287\n",
            "  eval_steps_per_second   =      9.734\n"
          ]
        }
      ],
      "source": [
        "#TEST - GOLD Original - Sin entrenar\n",
        "metrics = trainer.evaluate(test_dataset)\n",
        "trainer.log_metrics(\"eval\", metrics)\n",
        "trainer.save_metrics(\"eval\", metrics)"
      ]
    },
    {
      "cell_type": "code",
      "execution_count": null,
      "id": "6405199d",
      "metadata": {
        "id": "6405199d",
        "outputId": "6384a191-bf7b-4bcb-c1a9-93ca583e222e"
      },
      "outputs": [
        {
          "data": {
            "text/html": [
              "\n",
              "    <div>\n",
              "      \n",
              "      <progress value='459' max='54' style='width:300px; height:20px; vertical-align: middle;'></progress>\n",
              "      [54/54 2:13:37]\n",
              "    </div>\n",
              "    "
            ],
            "text/plain": [
              "<IPython.core.display.HTML object>"
            ]
          },
          "metadata": {},
          "output_type": "display_data"
        },
        {
          "name": "stdout",
          "output_type": "stream",
          "text": [
            "***** eval metrics *****\n",
            "  eval_accuracy           =     0.4953\n",
            "  eval_f1                 =     0.5091\n",
            "  eval_loss               =     0.6978\n",
            "  eval_runtime            = 0:00:02.99\n",
            "  eval_samples_per_second =     35.677\n",
            "  eval_steps_per_second   =     18.005\n"
          ]
        }
      ],
      "source": [
        "#TEST - GOLD Segmentación - Sin entrenar\n",
        "Smetrics = Strainer.evaluate(Stest_dataset)\n",
        "Strainer.log_metrics(\"eval\", Smetrics)\n",
        "Strainer.save_metrics(\"eval\", Smetrics)"
      ]
    },
    {
      "cell_type": "code",
      "execution_count": null,
      "id": "ae84ea62",
      "metadata": {
        "id": "ae84ea62",
        "outputId": "12522689-e3d4-4cc6-e8fb-3b8499e0bd55"
      },
      "outputs": [
        {
          "data": {
            "text/html": [
              "\n",
              "    <div>\n",
              "      \n",
              "      <progress value='459' max='54' style='width:300px; height:20px; vertical-align: middle;'></progress>\n",
              "      [54/54 2:58:07]\n",
              "    </div>\n",
              "    "
            ],
            "text/plain": [
              "<IPython.core.display.HTML object>"
            ]
          },
          "metadata": {},
          "output_type": "display_data"
        },
        {
          "name": "stdout",
          "output_type": "stream",
          "text": [
            "***** eval metrics *****\n",
            "  eval_accuracy           =     0.6168\n",
            "  eval_f1                 =     0.0465\n",
            "  eval_loss               =     0.6749\n",
            "  eval_runtime            = 0:00:02.18\n",
            "  eval_samples_per_second =      49.07\n",
            "  eval_steps_per_second   =     24.764\n"
          ]
        }
      ],
      "source": [
        "#TEST - GOLD Detección - Sin entrenar\n",
        "Dmetrics = Dtrainer.evaluate(Dtest_dataset)\n",
        "Dtrainer.log_metrics(\"eval\", Dmetrics)\n",
        "Dtrainer.save_metrics(\"eval\", Dmetrics)"
      ]
    },
    {
      "cell_type": "markdown",
      "id": "5c01dde2",
      "metadata": {
        "id": "5c01dde2"
      },
      "source": [
        "## Training Model & Predictions"
      ]
    },
    {
      "cell_type": "markdown",
      "id": "1b7bd724-ab5e-488c-808b-49fdae347aa6",
      "metadata": {
        "jp-MarkdownHeadingCollapsed": true,
        "id": "1b7bd724-ab5e-488c-808b-49fdae347aa6"
      },
      "source": [
        "### GOLD Orig"
      ]
    },
    {
      "cell_type": "code",
      "execution_count": null,
      "id": "46d828a6",
      "metadata": {
        "id": "46d828a6",
        "outputId": "27a8b732-f2b8-40a6-800f-d2e2538318d8"
      },
      "outputs": [
        {
          "data": {
            "text/html": [
              "\n",
              "    <div>\n",
              "      \n",
              "      <progress value='2000' max='2000' style='width:300px; height:20px; vertical-align: middle;'></progress>\n",
              "      [2000/2000 14:29, Epoch 9/10]\n",
              "    </div>\n",
              "    <table border=\"1\" class=\"dataframe\">\n",
              "  <thead>\n",
              " <tr style=\"text-align: left;\">\n",
              "      <th>Epoch</th>\n",
              "      <th>Training Loss</th>\n",
              "      <th>Validation Loss</th>\n",
              "      <th>F1</th>\n",
              "      <th>Accuracy</th>\n",
              "    </tr>\n",
              "  </thead>\n",
              "  <tbody>\n",
              "    <tr>\n",
              "      <td>0</td>\n",
              "      <td>No log</td>\n",
              "      <td>0.150017</td>\n",
              "      <td>0.959288</td>\n",
              "      <td>0.960494</td>\n",
              "    </tr>\n",
              "    <tr>\n",
              "      <td>1</td>\n",
              "      <td>No log</td>\n",
              "      <td>0.160112</td>\n",
              "      <td>0.953459</td>\n",
              "      <td>0.954321</td>\n",
              "    </tr>\n",
              "    <tr>\n",
              "      <td>2</td>\n",
              "      <td>0.033300</td>\n",
              "      <td>0.173147</td>\n",
              "      <td>0.956843</td>\n",
              "      <td>0.956790</td>\n",
              "    </tr>\n",
              "    <tr>\n",
              "      <td>4</td>\n",
              "      <td>0.002700</td>\n",
              "      <td>0.193325</td>\n",
              "      <td>0.958128</td>\n",
              "      <td>0.958025</td>\n",
              "    </tr>\n",
              "    <tr>\n",
              "      <td>5</td>\n",
              "      <td>0.002700</td>\n",
              "      <td>0.200089</td>\n",
              "      <td>0.956843</td>\n",
              "      <td>0.956790</td>\n",
              "    </tr>\n",
              "    <tr>\n",
              "      <td>6</td>\n",
              "      <td>0.002700</td>\n",
              "      <td>0.207261</td>\n",
              "      <td>0.959410</td>\n",
              "      <td>0.959259</td>\n",
              "    </tr>\n",
              "    <tr>\n",
              "      <td>8</td>\n",
              "      <td>0.001600</td>\n",
              "      <td>0.214716</td>\n",
              "      <td>0.958231</td>\n",
              "      <td>0.958025</td>\n",
              "    </tr>\n",
              "    <tr>\n",
              "      <td>9</td>\n",
              "      <td>0.001300</td>\n",
              "      <td>0.216949</td>\n",
              "      <td>0.957055</td>\n",
              "      <td>0.956790</td>\n",
              "    </tr>\n",
              "  </tbody>\n",
              "</table><p>"
            ],
            "text/plain": [
              "<IPython.core.display.HTML object>"
            ]
          },
          "metadata": {},
          "output_type": "display_data"
        },
        {
          "name": "stdout",
          "output_type": "stream",
          "text": [
            "***** train metrics *****\n",
            "  epoch                    =         9.96\n",
            "  total_flos               = 1202569364GF\n",
            "  train_loss               =       0.0097\n",
            "  train_runtime            =   0:14:30.04\n",
            "  train_samples_per_second =       18.447\n",
            "  train_steps_per_second   =        2.299\n"
          ]
        }
      ],
      "source": [
        "#ORIGINAL\n",
        "train_results = trainer.train()\n",
        "trainer.save_model(\"./ViTresults/original\"+TYPE)\n",
        "trainer.log_metrics(\"train\", train_results.metrics)\n",
        "trainer.save_metrics(\"train\", train_results.metrics)\n",
        "trainer.save_state()\n",
        "torch.save(model.state_dict(),\"./ViTresults/ViT_Orig.pth\")"
      ]
    },
    {
      "cell_type": "code",
      "execution_count": null,
      "id": "98ea180a",
      "metadata": {
        "id": "98ea180a",
        "outputId": "0ee60f3d-e9b0-44ad-c7c9-81e783433e00"
      },
      "outputs": [
        {
          "data": {
            "text/html": [],
            "text/plain": [
              "<IPython.core.display.HTML object>"
            ]
          },
          "metadata": {},
          "output_type": "display_data"
        },
        {
          "name": "stdout",
          "output_type": "stream",
          "text": [
            "***** eval metrics *****\n",
            "  epoch                   =       9.96\n",
            "  eval_accuracy           =     0.8972\n",
            "  eval_f1                 =     0.8706\n",
            "  eval_loss               =     0.3889\n",
            "  eval_runtime            = 0:00:02.16\n",
            "  eval_samples_per_second =     49.453\n",
            "  eval_steps_per_second   =     24.957\n"
          ]
        }
      ],
      "source": [
        "metrics = trainer.evaluate(test_dataset)\n",
        "trainer.log_metrics(\"eval\", metrics)\n",
        "trainer.save_metrics(\"eval\", metrics)"
      ]
    },
    {
      "cell_type": "code",
      "execution_count": null,
      "id": "3a0136ae",
      "metadata": {
        "id": "3a0136ae",
        "outputId": "b5de7099-c648-4cb5-da7e-e5f3ecfaae07"
      },
      "outputs": [
        {
          "name": "stdout",
          "output_type": "stream",
          "text": [
            "              precision    recall  f1-score   support\n",
            "\n",
            "           0      0.952     0.881     0.915        67\n",
            "           1      0.822     0.925     0.871        40\n",
            "\n",
            "    accuracy                          0.897       107\n",
            "   macro avg      0.887     0.903     0.893       107\n",
            "weighted avg      0.903     0.897     0.898       107\n",
            "\n"
          ]
        }
      ],
      "source": [
        "outputs = trainer.predict(test_dataset)\n",
        "y_pred = outputs.predictions.argmax(1)\n",
        "true_labels = data_dict['test']['labels']\n",
        "print(pred_metrics.classification_report(true_labels, y_pred, digits = 3))"
      ]
    },
    {
      "cell_type": "markdown",
      "id": "26f1cd06-c1fe-4d9f-9688-ec7f1eee440e",
      "metadata": {
        "jp-MarkdownHeadingCollapsed": true,
        "id": "26f1cd06-c1fe-4d9f-9688-ec7f1eee440e"
      },
      "source": [
        "### GOLD Segmentation"
      ]
    },
    {
      "cell_type": "code",
      "execution_count": null,
      "id": "ea496f8c",
      "metadata": {
        "id": "ea496f8c",
        "outputId": "f0f18fba-72d9-48e0-bda4-0ce7a3c79e3e"
      },
      "outputs": [
        {
          "data": {
            "text/html": [
              "\n",
              "    <div>\n",
              "      \n",
              "      <progress value='2000' max='2000' style='width:300px; height:20px; vertical-align: middle;'></progress>\n",
              "      [2000/2000 13:50, Epoch 9/10]\n",
              "    </div>\n",
              "    <table border=\"1\" class=\"dataframe\">\n",
              "  <thead>\n",
              " <tr style=\"text-align: left;\">\n",
              "      <th>Epoch</th>\n",
              "      <th>Training Loss</th>\n",
              "      <th>Validation Loss</th>\n",
              "      <th>F1</th>\n",
              "      <th>Accuracy</th>\n",
              "    </tr>\n",
              "  </thead>\n",
              "  <tbody>\n",
              "    <tr>\n",
              "      <td>0</td>\n",
              "      <td>No log</td>\n",
              "      <td>0.013545</td>\n",
              "      <td>0.998767</td>\n",
              "      <td>0.998765</td>\n",
              "    </tr>\n",
              "    <tr>\n",
              "      <td>1</td>\n",
              "      <td>No log</td>\n",
              "      <td>0.005191</td>\n",
              "      <td>1.000000</td>\n",
              "      <td>1.000000</td>\n",
              "    </tr>\n",
              "    <tr>\n",
              "      <td>2</td>\n",
              "      <td>0.084300</td>\n",
              "      <td>0.020409</td>\n",
              "      <td>0.996310</td>\n",
              "      <td>0.996296</td>\n",
              "    </tr>\n",
              "    <tr>\n",
              "      <td>4</td>\n",
              "      <td>0.002100</td>\n",
              "      <td>0.026766</td>\n",
              "      <td>0.993865</td>\n",
              "      <td>0.993827</td>\n",
              "    </tr>\n",
              "    <tr>\n",
              "      <td>5</td>\n",
              "      <td>0.002100</td>\n",
              "      <td>0.031986</td>\n",
              "      <td>0.992647</td>\n",
              "      <td>0.992593</td>\n",
              "    </tr>\n",
              "    <tr>\n",
              "      <td>6</td>\n",
              "      <td>0.002100</td>\n",
              "      <td>0.037568</td>\n",
              "      <td>0.992647</td>\n",
              "      <td>0.992593</td>\n",
              "    </tr>\n",
              "    <tr>\n",
              "      <td>8</td>\n",
              "      <td>0.001200</td>\n",
              "      <td>0.041691</td>\n",
              "      <td>0.992647</td>\n",
              "      <td>0.992593</td>\n",
              "    </tr>\n",
              "    <tr>\n",
              "      <td>9</td>\n",
              "      <td>0.001000</td>\n",
              "      <td>0.042085</td>\n",
              "      <td>0.992647</td>\n",
              "      <td>0.992593</td>\n",
              "    </tr>\n",
              "  </tbody>\n",
              "</table><p>"
            ],
            "text/plain": [
              "<IPython.core.display.HTML object>"
            ]
          },
          "metadata": {},
          "output_type": "display_data"
        },
        {
          "name": "stdout",
          "output_type": "stream",
          "text": [
            "***** train metrics *****\n",
            "  epoch                    =         9.96\n",
            "  total_flos               = 1154071098GF\n",
            "  train_loss               =       0.0222\n",
            "  train_runtime            =   0:13:50.86\n",
            "  train_samples_per_second =       19.317\n",
            "  train_steps_per_second   =        2.407\n"
          ]
        }
      ],
      "source": [
        "#SEGMENTATION\n",
        "Strain_results = Strainer.train()\n",
        "Strainer.save_model(\"./ViTresults/segmentation\"+TYPE)\n",
        "Strainer.log_metrics(\"train\", Strain_results.metrics)\n",
        "Strainer.save_metrics(\"train\", Strain_results.metrics)\n",
        "Strainer.save_state()\n",
        "torch.save(Smodel.state_dict(),\"./ViTresults/SViT.pth\")"
      ]
    },
    {
      "cell_type": "code",
      "execution_count": null,
      "id": "16d83e8a",
      "metadata": {
        "id": "16d83e8a",
        "outputId": "4df954c4-138f-438b-b3b1-e7e6cac56727"
      },
      "outputs": [
        {
          "data": {
            "text/html": [],
            "text/plain": [
              "<IPython.core.display.HTML object>"
            ]
          },
          "metadata": {},
          "output_type": "display_data"
        },
        {
          "name": "stdout",
          "output_type": "stream",
          "text": [
            "***** eval metrics *****\n",
            "  epoch                   =       9.96\n",
            "  eval_accuracy           =     0.9533\n",
            "  eval_f1                 =     0.9383\n",
            "  eval_loss               =     0.2085\n",
            "  eval_runtime            = 0:00:02.16\n",
            "  eval_samples_per_second =     49.446\n",
            "  eval_steps_per_second   =     24.954\n"
          ]
        }
      ],
      "source": [
        "Smetrics = Strainer.evaluate(Stest_dataset)\n",
        "Strainer.log_metrics(\"eval\", Smetrics)\n",
        "Strainer.save_metrics(\"eval\", Smetrics)"
      ]
    },
    {
      "cell_type": "code",
      "execution_count": null,
      "id": "02806c33",
      "metadata": {
        "id": "02806c33",
        "outputId": "22c9aff3-8ec0-4770-94c1-91fef20e12c5"
      },
      "outputs": [
        {
          "name": "stdout",
          "output_type": "stream",
          "text": [
            "[1 0 1 0 0 0 0 1 1 0 1 1 0 1 0 1 0 1 0 0 0 1 0 1 1 0 1 1 0 1 0 0 0 0 0 0 1\n",
            " 0 0 0 1 1 1 0 0 1 0 0 0 0 0 1 0 1 1 0 1 0 0 1 0 0 0 0 0 0 0 0 0 0 1 0 0 1\n",
            " 1 0 0 0 0 1 1 0 0 0 0 1 1 0 0 0 1 1 1 1 0 0 0 0 0 1 0 0 1 0 1 1 1]\n",
            "              precision    recall  f1-score   support\n",
            "\n",
            "           0      0.970     0.955     0.962        67\n",
            "           1      0.927     0.950     0.938        40\n",
            "\n",
            "    accuracy                          0.953       107\n",
            "   macro avg      0.948     0.953     0.950       107\n",
            "weighted avg      0.954     0.953     0.953       107\n",
            "\n"
          ]
        }
      ],
      "source": [
        "outputsS = Strainer.predict(Stest_dataset)\n",
        "y_predS = outputsS.predictions.argmax(1)\n",
        "print(y_predS)\n",
        "Strue_labels = Sdata_dict['test']['labels']\n",
        "print(pred_metrics.classification_report(Strue_labels, y_predS, digits = 3))"
      ]
    },
    {
      "cell_type": "markdown",
      "id": "1a423ea5-3837-4260-ad32-37cb3b84e730",
      "metadata": {
        "jp-MarkdownHeadingCollapsed": true,
        "id": "1a423ea5-3837-4260-ad32-37cb3b84e730"
      },
      "source": [
        "### GOLD Detect"
      ]
    },
    {
      "cell_type": "code",
      "execution_count": null,
      "id": "73cb85b5",
      "metadata": {
        "scrolled": true,
        "id": "73cb85b5",
        "outputId": "331ce06e-d9d2-4fcd-8e7d-70a8ff9a8cd3"
      },
      "outputs": [
        {
          "data": {
            "text/html": [
              "\n",
              "    <div>\n",
              "      \n",
              "      <progress value='2000' max='2000' style='width:300px; height:20px; vertical-align: middle;'></progress>\n",
              "      [2000/2000 13:47, Epoch 9/10]\n",
              "    </div>\n",
              "    <table border=\"1\" class=\"dataframe\">\n",
              "  <thead>\n",
              " <tr style=\"text-align: left;\">\n",
              "      <th>Epoch</th>\n",
              "      <th>Training Loss</th>\n",
              "      <th>Validation Loss</th>\n",
              "      <th>F1</th>\n",
              "      <th>Accuracy</th>\n",
              "    </tr>\n",
              "  </thead>\n",
              "  <tbody>\n",
              "    <tr>\n",
              "      <td>0</td>\n",
              "      <td>No log</td>\n",
              "      <td>0.207062</td>\n",
              "      <td>0.945776</td>\n",
              "      <td>0.946914</td>\n",
              "    </tr>\n",
              "    <tr>\n",
              "      <td>1</td>\n",
              "      <td>No log</td>\n",
              "      <td>0.578519</td>\n",
              "      <td>0.839542</td>\n",
              "      <td>0.861728</td>\n",
              "    </tr>\n",
              "    <tr>\n",
              "      <td>2</td>\n",
              "      <td>0.114300</td>\n",
              "      <td>0.200344</td>\n",
              "      <td>0.958231</td>\n",
              "      <td>0.958025</td>\n",
              "    </tr>\n",
              "    <tr>\n",
              "      <td>4</td>\n",
              "      <td>0.006400</td>\n",
              "      <td>0.304924</td>\n",
              "      <td>0.940618</td>\n",
              "      <td>0.938272</td>\n",
              "    </tr>\n",
              "    <tr>\n",
              "      <td>5</td>\n",
              "      <td>0.006400</td>\n",
              "      <td>0.337585</td>\n",
              "      <td>0.937278</td>\n",
              "      <td>0.934568</td>\n",
              "    </tr>\n",
              "    <tr>\n",
              "      <td>6</td>\n",
              "      <td>0.006400</td>\n",
              "      <td>0.358305</td>\n",
              "      <td>0.935065</td>\n",
              "      <td>0.932099</td>\n",
              "    </tr>\n",
              "    <tr>\n",
              "      <td>8</td>\n",
              "      <td>0.001600</td>\n",
              "      <td>0.380111</td>\n",
              "      <td>0.934118</td>\n",
              "      <td>0.930864</td>\n",
              "    </tr>\n",
              "    <tr>\n",
              "      <td>9</td>\n",
              "      <td>0.001200</td>\n",
              "      <td>0.383267</td>\n",
              "      <td>0.934118</td>\n",
              "      <td>0.930864</td>\n",
              "    </tr>\n",
              "  </tbody>\n",
              "</table><p>"
            ],
            "text/plain": [
              "<IPython.core.display.HTML object>"
            ]
          },
          "metadata": {},
          "output_type": "display_data"
        },
        {
          "name": "stdout",
          "output_type": "stream",
          "text": [
            "***** train metrics *****\n",
            "  epoch                    =         9.96\n",
            "  total_flos               = 1154648458GF\n",
            "  train_loss               =       0.0309\n",
            "  train_runtime            =   0:13:47.80\n",
            "  train_samples_per_second =       19.389\n",
            "  train_steps_per_second   =        2.416\n"
          ]
        }
      ],
      "source": [
        "#DETECTION\n",
        "Dtrain_results = Dtrainer.train()\n",
        "Dtrainer.save_model(\"./ViTresults/detection\"+TYPE)\n",
        "Dtrainer.log_metrics(\"train\", Dtrain_results.metrics)\n",
        "Dtrainer.save_metrics(\"train\", Dtrain_results.metrics)\n",
        "Dtrainer.save_state()\n",
        "torch.save(Dmodel.state_dict(),\"./ViTresults/DViT.pth\")"
      ]
    },
    {
      "cell_type": "code",
      "execution_count": null,
      "id": "d1c07e3c",
      "metadata": {
        "id": "d1c07e3c",
        "outputId": "a6010939-9b0a-4062-fac6-bc9de84263b9"
      },
      "outputs": [
        {
          "data": {
            "text/html": [],
            "text/plain": [
              "<IPython.core.display.HTML object>"
            ]
          },
          "metadata": {},
          "output_type": "display_data"
        },
        {
          "name": "stdout",
          "output_type": "stream",
          "text": [
            "***** eval metrics *****\n",
            "  epoch                   =       9.96\n",
            "  eval_accuracy           =     0.8972\n",
            "  eval_f1                 =     0.8764\n",
            "  eval_loss               =     0.4768\n",
            "  eval_runtime            = 0:00:02.40\n",
            "  eval_samples_per_second =     44.488\n",
            "  eval_steps_per_second   =     22.452\n"
          ]
        }
      ],
      "source": [
        "Dmetrics = Dtrainer.evaluate(Dtest_dataset)\n",
        "Dtrainer.log_metrics(\"eval\", Dmetrics)\n",
        "Dtrainer.save_metrics(\"eval\", Dmetrics)"
      ]
    },
    {
      "cell_type": "code",
      "execution_count": null,
      "id": "c48f6419",
      "metadata": {
        "scrolled": true,
        "id": "c48f6419",
        "outputId": "54e3c7fc-506b-419c-c3aa-f161e68decdc"
      },
      "outputs": [
        {
          "name": "stdout",
          "output_type": "stream",
          "text": [
            "[1 0 1 0 1 0 0 1 1 0 1 0 0 1 0 1 0 1 0 0 0 1 0 1 1 0 1 1 0 1 0 0 0 1 0 0 1\n",
            " 1 1 0 1 1 1 0 1 1 0 0 0 1 0 1 1 1 1 0 1 0 0 1 0 0 0 0 1 0 0 0 0 0 1 0 0 1\n",
            " 1 0 0 0 0 1 1 0 0 1 0 1 1 0 1 0 1 1 1 1 0 0 0 0 0 1 0 0 1 0 1 1 0]\n",
            "              precision    recall  f1-score   support\n",
            "\n",
            "           0      0.983     0.851     0.912        67\n",
            "           1      0.796     0.975     0.876        40\n",
            "\n",
            "    accuracy                          0.897       107\n",
            "   macro avg      0.889     0.913     0.894       107\n",
            "weighted avg      0.913     0.897     0.899       107\n",
            "\n"
          ]
        }
      ],
      "source": [
        "outputsD = Dtrainer.predict(Dtest_dataset)\n",
        "y_predD = outputsD.predictions.argmax(1)\n",
        "print(y_predD)\n",
        "Dtrue_labels = Ddata_dict['test']['labels']\n",
        "print(pred_metrics.classification_report(Dtrue_labels, y_predD, digits = 3))"
      ]
    },
    {
      "cell_type": "markdown",
      "id": "b5702142-3267-43c8-9e9c-657da472cc5c",
      "metadata": {
        "id": "b5702142-3267-43c8-9e9c-657da472cc5c"
      },
      "source": [
        "# SAM and DETR predictions"
      ]
    },
    {
      "cell_type": "markdown",
      "id": "3869f072-5f9d-4292-94bd-68ee60e31ac4",
      "metadata": {
        "id": "3869f072-5f9d-4292-94bd-68ee60e31ac4"
      },
      "source": [
        "## Load data"
      ]
    },
    {
      "cell_type": "code",
      "execution_count": null,
      "id": "c49a34dd-0286-45f9-93b0-ce2b06611e80",
      "metadata": {
        "id": "c49a34dd-0286-45f9-93b0-ce2b06611e80"
      },
      "outputs": [],
      "source": [
        "#DETR (Original-DETR)\n",
        "DETR_train='./data'+TYPE+'/DETR/train'\n",
        "DETR_test='./data'+TYPE+'/DETR/test'\n",
        "DETR_valid='./data'+TYPE+'/DETR/valid'"
      ]
    },
    {
      "cell_type": "code",
      "execution_count": null,
      "id": "5e3c7c88-a4d6-47b4-840f-6a2c567fc938",
      "metadata": {
        "id": "5e3c7c88-a4d6-47b4-840f-6a2c567fc938"
      },
      "outputs": [],
      "source": [
        "#SAM  (DETR-SAM)\n",
        "SAM_train='./data'+TYPE+'/SAM+DETR/train'\n",
        "SAM_test='./data'+TYPE+'/SAM+DETR/test'\n",
        "SAM_valid='./data'+TYPE+'/SAM+DETR/valid'"
      ]
    },
    {
      "cell_type": "code",
      "execution_count": null,
      "id": "1bba058c-c0a7-4e54-959e-b00211b125c9",
      "metadata": {
        "id": "1bba058c-c0a7-4e54-959e-b00211b125c9"
      },
      "outputs": [],
      "source": [
        "#SAM 2 (SAM with Gold BBOX)\n",
        "SAM2_train='./data'+TYPE+'/SAM/train'\n",
        "SAM2_test= './data'+TYPE+'/SAM/test'\n",
        "SAM2_valid='./data'+TYPE+'/SAM/valid'"
      ]
    },
    {
      "cell_type": "code",
      "execution_count": null,
      "id": "3a851813-3eba-471e-bf21-74a1b3746d17",
      "metadata": {
        "id": "3a851813-3eba-471e-bf21-74a1b3746d17",
        "outputId": "39650c39-be4d-4b38-a172-6924890d0e7e"
      },
      "outputs": [
        {
          "name": "stdout",
          "output_type": "stream",
          "text": [
            "DatasetDict({\n",
            "    train: Dataset({\n",
            "        features: ['image', 'labels'],\n",
            "        num_rows: 1605\n",
            "    })\n",
            "    valid: Dataset({\n",
            "        features: ['image', 'labels'],\n",
            "        num_rows: 810\n",
            "    })\n",
            "    test: Dataset({\n",
            "        features: ['image', 'labels'],\n",
            "        num_rows: 107\n",
            "    })\n",
            "})\n"
          ]
        }
      ],
      "source": [
        "# DETR\n",
        "random.seed(123)\n",
        "# Transform to convert images to tensors\n",
        "transform = ToTensor()\n",
        "\n",
        "# Upload your data using ImageFolder\n",
        "train_dataset = ImageFolder(DETR_train, transform=transform)\n",
        "test_dataset = ImageFolder(DETR_test, transform=transform)\n",
        "valid_dataset = ImageFolder(DETR_valid, transform=transform)\n",
        "\n",
        "# Get images and tags as lists\n",
        "train_samples = train_dataset.samples\n",
        "test_samples = test_dataset.samples\n",
        "valid_samples = valid_dataset.samples\n",
        "\n",
        "# Mixing indices randomly\n",
        "random_permutation1 = np.random.permutation(len(train_samples))\n",
        "train_samples = [train_samples[i] for i in random_permutation1]\n",
        "\n",
        "random_permutation2 = np.random.permutation(len(test_samples))\n",
        "test_samples = [test_samples[i] for i in random_permutation2]\n",
        "\n",
        "random_permutation3 = np.random.permutation(len(valid_samples))\n",
        "valid_samples = [valid_samples[i] for i in random_permutation3]\n",
        "\n",
        "# Create a DatasetDict and add the mixed data sets\n",
        "detr_dict = DatasetDict()\n",
        "\n",
        "train_data = Dataset.from_dict({\n",
        "    'image': [sample[0] for sample in train_samples],\n",
        "    'labels': [sample[1] for sample in train_samples]\n",
        "})\n",
        "detr_dict['train'] = train_data\n",
        "\n",
        "valid_data = Dataset.from_dict({\n",
        "    'image': [sample[0] for sample in valid_samples],\n",
        "    'labels': [sample[1] for sample in valid_samples]\n",
        "})\n",
        "detr_dict['valid'] = valid_data\n",
        "\n",
        "test_data = Dataset.from_dict({\n",
        "    'image': [sample[0] for sample in test_samples],\n",
        "    'labels': [sample[1] for sample in test_samples]\n",
        "})\n",
        "detr_dict['test'] = test_data\n",
        "\n",
        "print(detr_dict)"
      ]
    },
    {
      "cell_type": "code",
      "execution_count": null,
      "id": "7ad6a65b-5c0f-41a4-98ed-699fd886071a",
      "metadata": {
        "id": "7ad6a65b-5c0f-41a4-98ed-699fd886071a",
        "outputId": "63677c44-30de-4c8a-dbd1-4bc6f19cc326"
      },
      "outputs": [
        {
          "name": "stdout",
          "output_type": "stream",
          "text": [
            "DatasetDict({\n",
            "    train: Dataset({\n",
            "        features: ['image', 'labels'],\n",
            "        num_rows: 1605\n",
            "    })\n",
            "    valid: Dataset({\n",
            "        features: ['image', 'labels'],\n",
            "        num_rows: 810\n",
            "    })\n",
            "    test: Dataset({\n",
            "        features: ['image', 'labels'],\n",
            "        num_rows: 107\n",
            "    })\n",
            "})\n"
          ]
        }
      ],
      "source": [
        "# SAM\n",
        "random.seed(123)\n",
        "# Transform to convert images to tensors\n",
        "transform = ToTensor()\n",
        "\n",
        "# Upload your data using ImageFolder\n",
        "train_dataset = ImageFolder(SAM_train, transform=transform)\n",
        "test_dataset = ImageFolder(SAM_test, transform=transform)\n",
        "valid_dataset = ImageFolder(SAM_valid, transform=transform)\n",
        "\n",
        "# Get images and tags as lists\n",
        "train_samples = train_dataset.samples\n",
        "test_samples = test_dataset.samples\n",
        "valid_samples = valid_dataset.samples\n",
        "\n",
        "# Mixing indices randomly\n",
        "random_permutation = np.random.permutation(len(train_samples))\n",
        "train_samples = [train_samples[i] for i in random_permutation1]\n",
        "\n",
        "random_permutation = np.random.permutation(len(test_samples))\n",
        "test_samples = [test_samples[i] for i in random_permutation2]\n",
        "\n",
        "random_permutation = np.random.permutation(len(valid_samples))\n",
        "valid_samples = [valid_samples[i] for i in random_permutation3]\n",
        "\n",
        "# Create a DatasetDict and add the mixed data sets\n",
        "sam_dict = DatasetDict()\n",
        "\n",
        "train_data = Dataset.from_dict({\n",
        "    'image': [sample[0] for sample in train_samples],\n",
        "    'labels': [sample[1] for sample in train_samples]\n",
        "})\n",
        "sam_dict['train'] = train_data\n",
        "\n",
        "valid_data = Dataset.from_dict({\n",
        "    'image': [sample[0] for sample in valid_samples],\n",
        "    'labels': [sample[1] for sample in valid_samples]\n",
        "})\n",
        "sam_dict['valid'] = valid_data\n",
        "\n",
        "test_data = Dataset.from_dict({\n",
        "    'image': [sample[0] for sample in test_samples],\n",
        "    'labels': [sample[1] for sample in test_samples]\n",
        "})\n",
        "sam_dict['test'] = test_data\n",
        "\n",
        "print(sam_dict)"
      ]
    },
    {
      "cell_type": "code",
      "execution_count": null,
      "id": "43bd6798-ab70-470d-ae5f-100d7466f683",
      "metadata": {
        "id": "43bd6798-ab70-470d-ae5f-100d7466f683",
        "outputId": "d94ab8ff-ba35-42cc-d689-f268c1fede81"
      },
      "outputs": [
        {
          "name": "stdout",
          "output_type": "stream",
          "text": [
            "DatasetDict({\n",
            "    train: Dataset({\n",
            "        features: ['image', 'labels'],\n",
            "        num_rows: 1605\n",
            "    })\n",
            "    valid: Dataset({\n",
            "        features: ['image', 'labels'],\n",
            "        num_rows: 810\n",
            "    })\n",
            "    test: Dataset({\n",
            "        features: ['image', 'labels'],\n",
            "        num_rows: 107\n",
            "    })\n",
            "})\n"
          ]
        }
      ],
      "source": [
        "# SAM 2 (SAM with Gold BBOX)\n",
        "random.seed(123)\n",
        "# Transform to convert images to tensors\n",
        "transform = ToTensor()\n",
        "\n",
        "# Upload your data using ImageFolder\n",
        "train_dataset = ImageFolder(SAM2_train, transform=transform)\n",
        "test_dataset = ImageFolder(SAM2_test, transform=transform)\n",
        "valid_dataset = ImageFolder(SAM2_valid, transform=transform)\n",
        "\n",
        "# Get images and tags as lists\n",
        "train_samples = train_dataset.samples\n",
        "test_samples = test_dataset.samples\n",
        "valid_samples = valid_dataset.samples\n",
        "\n",
        "# Mixing indices randomly\n",
        "random_permutation = np.random.permutation(len(train_samples))\n",
        "train_samples = [train_samples[i] for i in random_permutation1]\n",
        "\n",
        "random_permutation = np.random.permutation(len(test_samples))\n",
        "test_samples = [test_samples[i] for i in random_permutation2]\n",
        "\n",
        "random_permutation = np.random.permutation(len(valid_samples))\n",
        "valid_samples = [valid_samples[i] for i in random_permutation3]\n",
        "\n",
        "# Create a DatasetDict and add the mixed data sets\n",
        "sam_dict2 = DatasetDict()\n",
        "\n",
        "train_data = Dataset.from_dict({\n",
        "    'image': [sample[0] for sample in train_samples],\n",
        "    'labels': [sample[1] for sample in train_samples]\n",
        "})\n",
        "sam_dict2['train'] = train_data\n",
        "\n",
        "valid_data = Dataset.from_dict({\n",
        "    'image': [sample[0] for sample in valid_samples],\n",
        "    'labels': [sample[1] for sample in valid_samples]\n",
        "})\n",
        "sam_dict2['valid'] = valid_data\n",
        "\n",
        "test_data = Dataset.from_dict({\n",
        "    'image': [sample[0] for sample in test_samples],\n",
        "    'labels': [sample[1] for sample in test_samples]\n",
        "})\n",
        "sam_dict2['test'] = test_data\n",
        "\n",
        "print(sam_dict2)"
      ]
    },
    {
      "cell_type": "code",
      "execution_count": null,
      "id": "1e7817e5-5187-4683-bdce-b47c11e4ba54",
      "metadata": {
        "id": "1e7817e5-5187-4683-bdce-b47c11e4ba54",
        "outputId": "775d624f-c556-48c0-ef32-e9cfa8e17d81"
      },
      "outputs": [
        {
          "name": "stdout",
          "output_type": "stream",
          "text": [
            "{'image': './data_Balanced/DETR/train/Control/00021_aug06.jpg', 'labels': 0} \n",
            " {'pixel_values': tensor([[[-1.0000, -1.0000, -1.0000,  ..., -1.0000, -1.0000, -1.0000],\n",
            "         [-1.0000, -1.0000, -1.0000,  ..., -1.0000, -1.0000, -1.0000],\n",
            "         [-1.0000, -1.0000, -1.0000,  ..., -1.0000, -1.0000, -1.0000],\n",
            "         ...,\n",
            "         [-1.0000, -1.0000, -1.0000,  ...,  0.0588,  0.0745,  0.0745],\n",
            "         [-1.0000, -1.0000, -1.0000,  ...,  0.0667,  0.0667,  0.0745],\n",
            "         [-1.0000, -1.0000, -1.0000,  ...,  0.0902,  0.0745,  0.0745]],\n",
            "\n",
            "        [[-1.0000, -1.0000, -1.0000,  ..., -1.0000, -1.0000, -1.0000],\n",
            "         [-1.0000, -1.0000, -1.0000,  ..., -1.0000, -1.0000, -1.0000],\n",
            "         [-1.0000, -1.0000, -1.0000,  ..., -1.0000, -1.0000, -1.0000],\n",
            "         ...,\n",
            "         [-1.0000, -1.0000, -1.0000,  ..., -0.2627, -0.2471, -0.2471],\n",
            "         [-1.0000, -1.0000, -1.0000,  ..., -0.2549, -0.2627, -0.2627],\n",
            "         [-1.0000, -1.0000, -1.0000,  ..., -0.2314, -0.2627, -0.2627]],\n",
            "\n",
            "        [[-1.0000, -1.0000, -1.0000,  ..., -1.0000, -1.0000, -1.0000],\n",
            "         [-1.0000, -1.0000, -1.0000,  ..., -1.0000, -1.0000, -1.0000],\n",
            "         [-1.0000, -1.0000, -1.0000,  ..., -1.0000, -1.0000, -1.0000],\n",
            "         ...,\n",
            "         [-1.0000, -1.0000, -1.0000,  ..., -0.3098, -0.2941, -0.2941],\n",
            "         [-1.0000, -1.0000, -1.0000,  ..., -0.3020, -0.3098, -0.3098],\n",
            "         [-1.0000, -1.0000, -1.0000,  ..., -0.2784, -0.3098, -0.3098]]]), 'labels': 0}\n"
          ]
        }
      ],
      "source": [
        "print(detr_dict['train'][0],'\\n',DETR_train_dataset[0])"
      ]
    },
    {
      "cell_type": "code",
      "execution_count": null,
      "id": "f48cea5e-6a25-4fa2-bdec-0fe62bbae072",
      "metadata": {
        "id": "f48cea5e-6a25-4fa2-bdec-0fe62bbae072",
        "outputId": "bd7e7e90-cdc6-41f0-e38e-f2d2639f66dd"
      },
      "outputs": [
        {
          "data": {
            "text/plain": [
              "{'Control': '0', 'Cancer': '1'}"
            ]
          },
          "execution_count": 26,
          "metadata": {},
          "output_type": "execute_result"
        }
      ],
      "source": [
        "labels = ['Control','Cancer']\n",
        "label2id, id2label = dict(), dict()\n",
        "for i, label in enumerate(labels):\n",
        "    label2id[label] = str(i)\n",
        "    id2label[str(i)] = label\n",
        "\n",
        "label2id"
      ]
    },
    {
      "cell_type": "markdown",
      "id": "078cc64c-fccd-4400-882b-52349d4ba0f3",
      "metadata": {
        "id": "078cc64c-fccd-4400-882b-52349d4ba0f3"
      },
      "source": [
        "**Load the previous models and predict with this new data**\n",
        "\n",
        "## Predictions & Metrics"
      ]
    },
    {
      "cell_type": "markdown",
      "id": "dd8cb125-fdae-4b35-8e0e-30c7a4d5a19d",
      "metadata": {
        "jp-MarkdownHeadingCollapsed": true,
        "id": "dd8cb125-fdae-4b35-8e0e-30c7a4d5a19d"
      },
      "source": [
        "\n",
        "### Other metrics and values from ORIGINAL TRAINED MODEL"
      ]
    },
    {
      "cell_type": "code",
      "execution_count": null,
      "id": "4e3b831b-28e6-4fed-85a5-1e2425e3b15a",
      "metadata": {
        "id": "4e3b831b-28e6-4fed-85a5-1e2425e3b15a",
        "outputId": "21b9a7d6-57c6-478b-a6b1-6406b0b86fd7"
      },
      "outputs": [
        {
          "name": "stderr",
          "output_type": "stream",
          "text": [
            "Some weights of ViTForImageClassification were not initialized from the model checkpoint at google/vit-base-patch16-224-in21k and are newly initialized: ['classifier.bias', 'classifier.weight']\n",
            "You should probably TRAIN this model on a down-stream task to be able to use it for predictions and inference.\n"
          ]
        },
        {
          "data": {
            "text/plain": [
              "ViTForImageClassification(\n",
              "  (vit): ViTModel(\n",
              "    (embeddings): ViTEmbeddings(\n",
              "      (patch_embeddings): ViTPatchEmbeddings(\n",
              "        (projection): Conv2d(3, 768, kernel_size=(16, 16), stride=(16, 16))\n",
              "      )\n",
              "      (dropout): Dropout(p=0.0, inplace=False)\n",
              "    )\n",
              "    (encoder): ViTEncoder(\n",
              "      (layer): ModuleList(\n",
              "        (0-11): 12 x ViTLayer(\n",
              "          (attention): ViTAttention(\n",
              "            (attention): ViTSelfAttention(\n",
              "              (query): Linear(in_features=768, out_features=768, bias=True)\n",
              "              (key): Linear(in_features=768, out_features=768, bias=True)\n",
              "              (value): Linear(in_features=768, out_features=768, bias=True)\n",
              "              (dropout): Dropout(p=0.0, inplace=False)\n",
              "            )\n",
              "            (output): ViTSelfOutput(\n",
              "              (dense): Linear(in_features=768, out_features=768, bias=True)\n",
              "              (dropout): Dropout(p=0.0, inplace=False)\n",
              "            )\n",
              "          )\n",
              "          (intermediate): ViTIntermediate(\n",
              "            (dense): Linear(in_features=768, out_features=3072, bias=True)\n",
              "            (intermediate_act_fn): GELUActivation()\n",
              "          )\n",
              "          (output): ViTOutput(\n",
              "            (dense): Linear(in_features=3072, out_features=768, bias=True)\n",
              "            (dropout): Dropout(p=0.0, inplace=False)\n",
              "          )\n",
              "          (layernorm_before): LayerNorm((768,), eps=1e-12, elementwise_affine=True)\n",
              "          (layernorm_after): LayerNorm((768,), eps=1e-12, elementwise_affine=True)\n",
              "        )\n",
              "      )\n",
              "    )\n",
              "    (layernorm): LayerNorm((768,), eps=1e-12, elementwise_affine=True)\n",
              "  )\n",
              "  (classifier): Linear(in_features=768, out_features=2, bias=True)\n",
              ")"
            ]
          },
          "execution_count": 27,
          "metadata": {},
          "output_type": "execute_result"
        }
      ],
      "source": [
        "model = ViTForImageClassification.from_pretrained(model_checkpoint,\n",
        "                                                  num_labels=len(labels),\n",
        "                                                  id2label=id2label,\n",
        "                                                  label2id=label2id)\n",
        "model.load_state_dict(torch.load(\"./ViTresults/original_Balanced/ViT_Orig.pth\"))\n",
        "model.eval()"
      ]
    },
    {
      "cell_type": "code",
      "execution_count": null,
      "id": "b0fca5e9-5e5f-4f6f-a9f1-2458ee0bd169",
      "metadata": {
        "id": "b0fca5e9-5e5f-4f6f-a9f1-2458ee0bd169",
        "outputId": "87537145-4c17-4763-ae63-d7069a1517c9"
      },
      "outputs": [
        {
          "data": {
            "text/html": [
              "\n",
              "    <div>\n",
              "      \n",
              "      <progress value='1208' max='803' style='width:300px; height:20px; vertical-align: middle;'></progress>\n",
              "      [803/803 00:44]\n",
              "    </div>\n",
              "    "
            ],
            "text/plain": [
              "<IPython.core.display.HTML object>"
            ]
          },
          "metadata": {},
          "output_type": "display_data"
        },
        {
          "data": {
            "text/plain": [
              "{'eval_loss': 0.0014514174545183778,\n",
              " 'eval_f1': 1.0,\n",
              " 'eval_accuracy': 1.0,\n",
              " 'eval_runtime': 28.7256,\n",
              " 'eval_samples_per_second': 55.873,\n",
              " 'eval_steps_per_second': 27.954}"
            ]
          },
          "execution_count": 16,
          "metadata": {},
          "output_type": "execute_result"
        }
      ],
      "source": [
        "trainer = Trainer(model=model,\n",
        "                  args=training_args,\n",
        "                  data_collator=collate_fn,\n",
        "                  compute_metrics=compute_metrics,\n",
        "                  train_dataset=train_dataset,\n",
        "                  eval_dataset=val_dataset,\n",
        "                  tokenizer=feature_extractor)\n",
        "#TRAIN - GOLD Origial  - Entrenado\n",
        "trainer.evaluate(train_dataset)"
      ]
    },
    {
      "cell_type": "code",
      "execution_count": null,
      "id": "a06100d3-0d4c-43cc-9204-c0dfdf09ccda",
      "metadata": {
        "id": "a06100d3-0d4c-43cc-9204-c0dfdf09ccda",
        "outputId": "8f96dfe6-c922-4c15-bb8a-bedbf982745a"
      },
      "outputs": [
        {
          "data": {
            "text/plain": [
              "{'eval_loss': 0.2072608321905136,\n",
              " 'eval_f1': 0.959409594095941,\n",
              " 'eval_accuracy': 0.9592592592592593,\n",
              " 'eval_runtime': 16.8028,\n",
              " 'eval_samples_per_second': 48.206,\n",
              " 'eval_steps_per_second': 24.103}"
            ]
          },
          "execution_count": 17,
          "metadata": {},
          "output_type": "execute_result"
        }
      ],
      "source": [
        "#TRAIN - GOLD Origial  - Trained\n",
        "trainer.evaluate(val_dataset)"
      ]
    },
    {
      "cell_type": "code",
      "execution_count": null,
      "id": "2535fbc9-aa66-460e-a9a9-6288aa19fbe9",
      "metadata": {
        "id": "2535fbc9-aa66-460e-a9a9-6288aa19fbe9"
      },
      "outputs": [],
      "source": [
        "#TRAIN - GOLD Original - Prediction\n",
        "images = data_dict['train']['image']\n",
        "true_labels = data_dict['train']['labels']\n",
        "prediccion_final(images,true_labels)"
      ]
    },
    {
      "cell_type": "code",
      "execution_count": null,
      "id": "faae77f8-2a25-4518-8b50-280bd18471df",
      "metadata": {
        "id": "faae77f8-2a25-4518-8b50-280bd18471df"
      },
      "outputs": [],
      "source": [
        "#VALID - GOLD Original - Prediction\n",
        "images = data_dict['valid']['image']\n",
        "true_labels = data_dict['valid']['labels']\n",
        "prediccion_final(images,true_labels)"
      ]
    },
    {
      "cell_type": "code",
      "execution_count": null,
      "id": "21218627-9f94-4ac8-9724-c77696317d71",
      "metadata": {
        "id": "21218627-9f94-4ac8-9724-c77696317d71",
        "outputId": "703d14c9-4203-416f-9c8c-a6cf2c7a5a66"
      },
      "outputs": [
        {
          "name": "stderr",
          "output_type": "stream",
          "text": [
            "\n",
            "\n",
            "  0%|                                                                                 | 0/107 [00:00<?, ?it/s]\u001b[A\u001b[A\n",
            "\n",
            "  1%|▋                                                                        | 1/107 [00:06<11:33,  6.54s/it]\u001b[A\u001b[A\n",
            "\n",
            "  2%|█▎                                                                       | 2/107 [00:12<11:17,  6.46s/it]\u001b[A\u001b[A\n",
            "\n",
            "  3%|██                                                                       | 3/107 [00:19<11:19,  6.54s/it]\u001b[A\u001b[A\n",
            "\n",
            "  4%|██▋                                                                      | 4/107 [00:25<10:53,  6.34s/it]\u001b[A\u001b[A\n",
            "\n",
            "  5%|███▍                                                                     | 5/107 [00:30<10:03,  5.92s/it]\u001b[A\u001b[A\n",
            "\n",
            "  6%|████                                                                     | 6/107 [00:38<10:43,  6.38s/it]\u001b[A\u001b[A\n",
            "\n",
            "  7%|████▊                                                                    | 7/107 [00:44<10:35,  6.35s/it]\u001b[A\u001b[A\n",
            "\n",
            "  7%|█████▍                                                                   | 8/107 [00:50<10:32,  6.39s/it]\u001b[A\u001b[A\n",
            "\n",
            "  8%|██████▏                                                                  | 9/107 [00:56<10:12,  6.25s/it]\u001b[A\u001b[A\n",
            "\n",
            "  9%|██████▋                                                                 | 10/107 [01:01<09:26,  5.84s/it]\u001b[A\u001b[A\n",
            "\n",
            " 10%|███████▍                                                                | 11/107 [01:08<09:47,  6.12s/it]\u001b[A\u001b[A\n",
            "\n",
            " 11%|████████                                                                | 12/107 [01:14<09:44,  6.15s/it]\u001b[A\u001b[A\n",
            "\n",
            " 12%|████████▋                                                               | 13/107 [01:20<09:38,  6.15s/it]\u001b[A\u001b[A\n",
            "\n",
            " 13%|█████████▍                                                              | 14/107 [01:27<09:33,  6.17s/it]\u001b[A\u001b[A\n",
            "\n",
            " 14%|██████████                                                              | 15/107 [01:33<09:39,  6.29s/it]\u001b[A\u001b[A\n",
            "\n",
            " 15%|██████████▊                                                             | 16/107 [01:39<09:11,  6.06s/it]\u001b[A\u001b[A\n",
            "\n",
            " 16%|███████████▍                                                            | 17/107 [01:44<08:53,  5.93s/it]\u001b[A\u001b[A\n",
            "\n",
            " 17%|████████████                                                            | 18/107 [01:50<08:52,  5.99s/it]\u001b[A\u001b[A\n",
            "\n",
            " 18%|████████████▊                                                           | 19/107 [01:56<08:46,  5.98s/it]\u001b[A\u001b[A\n",
            "\n",
            " 19%|█████████████▍                                                          | 20/107 [02:03<08:51,  6.11s/it]\u001b[A\u001b[A\n",
            "\n",
            " 20%|██████████████▏                                                         | 21/107 [02:08<08:29,  5.92s/it]\u001b[A\u001b[A\n",
            "\n",
            " 21%|██████████████▊                                                         | 22/107 [02:14<08:21,  5.90s/it]\u001b[A\u001b[A\n",
            "\n",
            " 21%|███████████████▍                                                        | 23/107 [02:21<08:29,  6.07s/it]\u001b[A\u001b[A\n",
            "\n",
            " 22%|████████████████▏                                                       | 24/107 [02:27<08:35,  6.21s/it]\u001b[A\u001b[A\n",
            "\n",
            " 23%|████████████████▊                                                       | 25/107 [02:33<08:21,  6.12s/it]\u001b[A\u001b[A\n",
            "\n",
            " 24%|█████████████████▍                                                      | 26/107 [02:39<08:16,  6.13s/it]\u001b[A\u001b[A\n",
            "\n",
            " 25%|██████████████████▏                                                     | 27/107 [02:46<08:37,  6.47s/it]\u001b[A\u001b[A\n",
            "\n",
            " 26%|██████████████████▊                                                     | 28/107 [02:53<08:43,  6.62s/it]\u001b[A\u001b[A\n",
            "\n",
            " 27%|███████████████████▌                                                    | 29/107 [02:59<08:24,  6.47s/it]\u001b[A\u001b[A\n",
            "\n",
            " 28%|████████████████████▏                                                   | 30/107 [03:06<08:18,  6.48s/it]\u001b[A\u001b[A\n",
            "\n",
            " 29%|████████████████████▊                                                   | 31/107 [03:12<08:11,  6.46s/it]\u001b[A\u001b[A\n",
            "\n",
            " 30%|█████████████████████▌                                                  | 32/107 [03:18<07:46,  6.22s/it]\u001b[A\u001b[A\n",
            "\n",
            " 31%|██████████████████████▏                                                 | 33/107 [03:24<07:37,  6.18s/it]\u001b[A\u001b[A\n",
            "\n",
            " 32%|██████████████████████▉                                                 | 34/107 [03:30<07:25,  6.11s/it]\u001b[A\u001b[A\n",
            "\n",
            " 33%|███████████████████████▌                                                | 35/107 [03:36<07:18,  6.09s/it]\u001b[A\u001b[A\n",
            "\n",
            " 34%|████████████████████████▏                                               | 36/107 [03:44<07:42,  6.52s/it]\u001b[A\u001b[A\n",
            "\n",
            " 35%|████████████████████████▉                                               | 37/107 [03:50<07:36,  6.52s/it]\u001b[A\u001b[A\n",
            "\n",
            " 36%|█████████████████████████▌                                              | 38/107 [03:56<07:21,  6.40s/it]\u001b[A\u001b[A\n",
            "\n",
            " 36%|██████████████████████████▏                                             | 39/107 [04:02<07:08,  6.30s/it]\u001b[A\u001b[A\n",
            "\n",
            " 37%|██████████████████████████▉                                             | 40/107 [04:08<06:48,  6.10s/it]\u001b[A\u001b[A\n",
            "\n",
            " 38%|███████████████████████████▌                                            | 41/107 [04:14<06:48,  6.20s/it]\u001b[A\u001b[A\n",
            "\n",
            " 39%|████████████████████████████▎                                           | 42/107 [04:21<06:41,  6.18s/it]\u001b[A\u001b[A\n",
            "\n",
            " 40%|████████████████████████████▉                                           | 43/107 [04:27<06:34,  6.16s/it]\u001b[A\u001b[A\n",
            "\n",
            " 41%|█████████████████████████████▌                                          | 44/107 [04:33<06:32,  6.23s/it]\u001b[A\u001b[A\n",
            "\n",
            " 42%|██████████████████████████████▎                                         | 45/107 [04:40<06:31,  6.31s/it]\u001b[A\u001b[A\n",
            "\n",
            " 43%|██████████████████████████████▉                                         | 46/107 [04:46<06:23,  6.29s/it]\u001b[A\u001b[A\n",
            "\n",
            " 44%|███████████████████████████████▋                                        | 47/107 [04:52<06:15,  6.26s/it]\u001b[A\u001b[A\n",
            "\n",
            " 45%|████████████████████████████████▎                                       | 48/107 [04:58<06:05,  6.20s/it]\u001b[A\u001b[A\n",
            "\n",
            " 46%|████████████████████████████████▉                                       | 49/107 [05:04<05:48,  6.01s/it]\u001b[A\u001b[A\n",
            "\n",
            " 47%|█████████████████████████████████▋                                      | 50/107 [05:10<05:41,  5.98s/it]\u001b[A\u001b[A\n",
            "\n",
            " 48%|██████████████████████████████████▎                                     | 51/107 [05:15<05:29,  5.88s/it]\u001b[A\u001b[A\n",
            "\n",
            " 49%|██████████████████████████████████▉                                     | 52/107 [05:22<05:30,  6.00s/it]\u001b[A\u001b[A\n",
            "\n",
            " 50%|███████████████████████████████████▋                                    | 53/107 [05:27<05:15,  5.85s/it]\u001b[A\u001b[A\n",
            "\n",
            " 50%|████████████████████████████████████▎                                   | 54/107 [05:32<05:03,  5.73s/it]\u001b[A\u001b[A\n",
            "\n",
            " 51%|█████████████████████████████████████                                   | 55/107 [05:38<04:58,  5.73s/it]\u001b[A\u001b[A\n",
            "\n",
            " 52%|█████████████████████████████████████▋                                  | 56/107 [05:44<04:54,  5.78s/it]\u001b[A\u001b[A\n",
            "\n",
            " 53%|██████████████████████████████████████▎                                 | 57/107 [05:50<04:54,  5.88s/it]\u001b[A\u001b[A\n",
            "\n",
            " 54%|███████████████████████████████████████                                 | 58/107 [05:56<04:41,  5.75s/it]\u001b[A\u001b[A\n",
            "\n",
            " 55%|███████████████████████████████████████▋                                | 59/107 [06:02<04:37,  5.79s/it]\u001b[A\u001b[A\n",
            "\n",
            " 56%|████████████████████████████████████████▎                               | 60/107 [06:08<04:41,  5.99s/it]\u001b[A\u001b[A\n",
            "\n",
            " 57%|█████████████████████████████████████████                               | 61/107 [06:14<04:35,  5.99s/it]\u001b[A\u001b[A\n",
            "\n",
            " 58%|█████████████████████████████████████████▋                              | 62/107 [06:20<04:29,  5.99s/it]\u001b[A\u001b[A\n",
            "\n",
            " 59%|██████████████████████████████████████████▍                             | 63/107 [06:27<04:31,  6.18s/it]\u001b[A\u001b[A\n",
            "\n",
            " 60%|███████████████████████████████████████████                             | 64/107 [06:33<04:28,  6.24s/it]\u001b[A\u001b[A\n",
            "\n",
            " 61%|███████████████████████████████████████████▋                            | 65/107 [06:39<04:21,  6.21s/it]\u001b[A\u001b[A\n",
            "\n",
            " 62%|████████████████████████████████████████████▍                           | 66/107 [06:45<04:14,  6.20s/it]\u001b[A\u001b[A\n",
            "\n",
            " 63%|█████████████████████████████████████████████                           | 67/107 [06:51<04:07,  6.19s/it]\u001b[A\u001b[A\n",
            "\n",
            " 64%|█████████████████████████████████████████████▊                          | 68/107 [06:57<03:54,  6.00s/it]\u001b[A\u001b[A\n",
            "\n",
            " 64%|██████████████████████████████████████████████▍                         | 69/107 [07:02<03:37,  5.71s/it]\u001b[A\u001b[A\n",
            "\n",
            " 65%|███████████████████████████████████████████████                         | 70/107 [07:08<03:39,  5.93s/it]\u001b[A\u001b[A\n",
            "\n",
            " 66%|███████████████████████████████████████████████▊                        | 71/107 [07:15<03:36,  6.00s/it]\u001b[A\u001b[A\n",
            "\n",
            " 67%|████████████████████████████████████████████████▍                       | 72/107 [07:21<03:32,  6.08s/it]\u001b[A\u001b[A\n",
            "\n",
            " 68%|█████████████████████████████████████████████████                       | 73/107 [07:27<03:26,  6.07s/it]\u001b[A\u001b[A\n",
            "\n",
            " 69%|█████████████████████████████████████████████████▊                      | 74/107 [07:33<03:17,  5.99s/it]\u001b[A\u001b[A\n",
            "\n",
            " 70%|██████████████████████████████████████████████████▍                     | 75/107 [07:39<03:09,  5.92s/it]\u001b[A\u001b[A\n",
            "\n",
            " 71%|███████████████████████████████████████████████████▏                    | 76/107 [07:46<03:18,  6.41s/it]\u001b[A\u001b[A\n",
            "\n",
            " 72%|███████████████████████████████████████████████████▊                    | 77/107 [07:52<03:11,  6.39s/it]\u001b[A\u001b[A\n",
            "\n",
            " 73%|████████████████████████████████████████████████████▍                   | 78/107 [07:59<03:08,  6.51s/it]\u001b[A\u001b[A\n",
            "\n",
            " 74%|█████████████████████████████████████████████████████▏                  | 79/107 [08:05<02:59,  6.43s/it]\u001b[A\u001b[A\n",
            "\n",
            " 75%|█████████████████████████████████████████████████████▊                  | 80/107 [08:12<02:51,  6.37s/it]\u001b[A\u001b[A\n",
            "\n",
            " 76%|██████████████████████████████████████████████████████▌                 | 81/107 [08:18<02:46,  6.39s/it]\u001b[A\u001b[A\n",
            "\n",
            " 77%|███████████████████████████████████████████████████████▏                | 82/107 [08:25<02:40,  6.41s/it]\u001b[A\u001b[A\n",
            "\n",
            " 78%|███████████████████████████████████████████████████████▊                | 83/107 [08:31<02:34,  6.44s/it]\u001b[A\u001b[A\n",
            "\n",
            " 79%|████████████████████████████████████████████████████████▌               | 84/107 [08:36<02:18,  6.03s/it]\u001b[A\u001b[A\n",
            "\n",
            " 79%|█████████████████████████████████████████████████████████▏              | 85/107 [08:42<02:14,  6.12s/it]\u001b[A\u001b[A\n",
            "\n",
            " 80%|█████████████████████████████████████████████████████████▊              | 86/107 [08:48<02:06,  6.03s/it]\u001b[A\u001b[A\n",
            "\n",
            " 81%|██████████████████████████████████████████████████████████▌             | 87/107 [08:54<02:00,  6.01s/it]\u001b[A\u001b[A\n",
            "\n",
            " 82%|███████████████████████████████████████████████████████████▏            | 88/107 [09:00<01:55,  6.07s/it]\u001b[A\u001b[A\n",
            "\n",
            " 83%|███████████████████████████████████████████████████████████▉            | 89/107 [09:07<01:49,  6.06s/it]\u001b[A\u001b[A\n",
            "\n",
            " 84%|████████████████████████████████████████████████████████████▌           | 90/107 [09:13<01:44,  6.14s/it]\u001b[A\u001b[A\n",
            "\n",
            " 85%|█████████████████████████████████████████████████████████████▏          | 91/107 [09:19<01:39,  6.19s/it]\u001b[A\u001b[A\n",
            "\n",
            " 86%|█████████████████████████████████████████████████████████████▉          | 92/107 [09:25<01:31,  6.07s/it]\u001b[A\u001b[A\n",
            "\n",
            " 87%|██████████████████████████████████████████████████████████████▌         | 93/107 [09:31<01:25,  6.14s/it]\u001b[A\u001b[A\n",
            "\n",
            " 88%|███████████████████████████████████████████████████████████████▎        | 94/107 [09:37<01:19,  6.10s/it]\u001b[A\u001b[A\n",
            "\n",
            " 89%|███████████████████████████████████████████████████████████████▉        | 95/107 [09:44<01:13,  6.15s/it]\u001b[A\u001b[A\n",
            "\n",
            " 90%|████████████████████████████████████████████████████████████████▌       | 96/107 [09:50<01:08,  6.21s/it]\u001b[A\u001b[A\n",
            "\n",
            " 91%|█████████████████████████████████████████████████████████████████▎      | 97/107 [09:56<01:02,  6.21s/it]\u001b[A\u001b[A\n",
            "\n",
            " 92%|█████████████████████████████████████████████████████████████████▉      | 98/107 [10:02<00:55,  6.20s/it]\u001b[A\u001b[A\n",
            "\n",
            " 93%|██████████████████████████████████████████████████████████████████▌     | 99/107 [10:09<00:50,  6.32s/it]\u001b[A\u001b[A\n",
            "\n",
            " 93%|██████████████████████████████████████████████████████████████████▎    | 100/107 [10:15<00:44,  6.31s/it]\u001b[A\u001b[A\n",
            "\n",
            " 94%|███████████████████████████████████████████████████████████████████    | 101/107 [10:21<00:37,  6.22s/it]\u001b[A\u001b[A\n",
            "\n",
            " 95%|███████████████████████████████████████████████████████████████████▋   | 102/107 [10:28<00:31,  6.40s/it]\u001b[A\u001b[A\n",
            "\n",
            " 96%|████████████████████████████████████████████████████████████████████▎  | 103/107 [10:34<00:24,  6.20s/it]\u001b[A\u001b[A\n",
            "\n",
            " 97%|█████████████████████████████████████████████████████████████████████  | 104/107 [10:46<00:23,  7.90s/it]\u001b[A\u001b[A\n",
            "\n",
            " 98%|█████████████████████████████████████████████████████████████████████▋ | 105/107 [11:01<00:20, 10.05s/it]\u001b[A\u001b[A\n",
            "\n",
            " 99%|██████████████████████████████████████████████████████████████████████▎| 106/107 [11:22<00:13, 13.34s/it]\u001b[A\u001b[A\n",
            "\n",
            "100%|███████████████████████████████████████████████████████████████████████| 107/107 [11:27<00:00,  6.42s/it]\u001b[A\u001b[A"
          ]
        },
        {
          "name": "stdout",
          "output_type": "stream",
          "text": [
            "Métricas: \n",
            "              precision    recall  f1-score   support\n",
            "\n",
            "           0      0.952     0.896     0.923        67\n",
            "           1      0.841     0.925     0.881        40\n",
            "\n",
            "    accuracy                          0.907       107\n",
            "   macro avg      0.897     0.910     0.902       107\n",
            "weighted avg      0.911     0.907     0.907       107\n",
            "\n",
            "********** MÉTRICAS **********\n",
            "AUC:  0.91\n",
            "True Positives:  37\n",
            "True Negatives:  60\n",
            "False Positives:  7\n",
            "False Negatives:  3\n",
            "Precisión:  0.841\n",
            "Recall / Sensibilidad:  0.925\n",
            "Accuracy / Exactitud:  0.907\n",
            "Especificidad:  0.896\n",
            "Tasa falsos negativos:  0.075\n",
            "Valor predictivo positivo:  0.841\n",
            "Valor predictivo negativo:  0.952\n",
            "F1-Score:  0.881\n",
            "******************************\n"
          ]
        },
        {
          "name": "stderr",
          "output_type": "stream",
          "text": [
            "\n"
          ]
        },
        {
          "data": {
            "image/png": "[encoded data removed]",
            "text/plain": [
              "<Figure size 216x216 with 1 Axes>"
            ]
          },
          "metadata": {
            "needs_background": "light"
          },
          "output_type": "display_data"
        }
      ],
      "source": [
        "#TEST - GOLD Original - Prediction\n",
        "random.seed(123)\n",
        "images = data_dict['test']['image']\n",
        "true_labels = data_dict['test']['labels']\n",
        "prediccion_final(images,true_labels)"
      ]
    },
    {
      "cell_type": "code",
      "execution_count": null,
      "id": "327f4553",
      "metadata": {
        "id": "327f4553",
        "outputId": "9c3b3b4d-ab9c-4a5a-93a0-cbbb4abc2649"
      },
      "outputs": [
        {
          "name": "stderr",
          "output_type": "stream",
          "text": [
            "\n",
            "  0%|                                                                                 | 0/107 [00:00<?, ?it/s]\u001b[A\n",
            "  1%|▋                                                                        | 1/107 [00:05<09:36,  5.44s/it]\u001b[A\n",
            "  2%|█▎                                                                       | 2/107 [00:11<09:46,  5.59s/it]\u001b[A\n",
            "  3%|██                                                                       | 3/107 [00:16<09:31,  5.50s/it]\u001b[A\n",
            "  4%|██▋                                                                      | 4/107 [00:22<09:30,  5.53s/it]\u001b[A\n",
            "  5%|███▍                                                                     | 5/107 [00:26<08:43,  5.14s/it]\u001b[A\n",
            "  6%|████                                                                     | 6/107 [00:30<08:01,  4.77s/it]\u001b[A\n",
            "  7%|████▊                                                                    | 7/107 [00:33<06:48,  4.08s/it]\u001b[A\n",
            "  7%|█████▍                                                                   | 8/107 [00:37<06:59,  4.23s/it]\u001b[A\n",
            "  8%|██████▏                                                                  | 9/107 [00:43<07:32,  4.62s/it]\u001b[A\n",
            "  9%|██████▋                                                                 | 10/107 [00:47<07:22,  4.56s/it]\u001b[A\n",
            " 10%|███████▍                                                                | 11/107 [00:53<07:38,  4.78s/it]\u001b[A\n",
            " 11%|████████                                                                | 12/107 [00:58<07:54,  5.00s/it]\u001b[A\n",
            " 12%|████████▋                                                               | 13/107 [01:03<07:50,  5.00s/it]\u001b[A\n",
            " 13%|█████████▍                                                              | 14/107 [01:09<08:08,  5.25s/it]\u001b[A\n",
            " 14%|██████████                                                              | 15/107 [01:13<07:46,  5.07s/it]\u001b[A\n",
            " 15%|██████████▊                                                             | 16/107 [01:17<06:50,  4.51s/it]\u001b[A\n",
            " 16%|███████████▍                                                            | 17/107 [01:20<06:14,  4.16s/it]\u001b[A\n",
            " 17%|████████████                                                            | 18/107 [01:24<06:13,  4.20s/it]\u001b[A\n",
            " 18%|████████████▊                                                           | 19/107 [01:27<05:37,  3.83s/it]\u001b[A\n",
            " 19%|█████████████▍                                                          | 20/107 [01:33<06:23,  4.41s/it]\u001b[A\n",
            " 20%|██████████████▏                                                         | 21/107 [01:38<06:24,  4.47s/it]\u001b[A\n",
            " 21%|██████████████▊                                                         | 22/107 [01:40<05:35,  3.94s/it]\u001b[A\n",
            " 21%|███████████████▍                                                        | 23/107 [01:45<05:59,  4.28s/it]\u001b[A\n",
            " 22%|████████████████▏                                                       | 24/107 [01:49<05:26,  3.93s/it]\u001b[A\n",
            " 23%|████████████████▊                                                       | 25/107 [01:51<04:50,  3.54s/it]\u001b[A\n",
            " 24%|█████████████████▍                                                      | 26/107 [01:54<04:40,  3.46s/it]\u001b[A\n",
            " 25%|██████████████████▏                                                     | 27/107 [01:57<04:08,  3.11s/it]\u001b[A\n",
            " 26%|██████████████████▊                                                     | 28/107 [01:59<03:54,  2.97s/it]\u001b[A\n",
            " 27%|███████████████████▌                                                    | 29/107 [02:02<03:40,  2.83s/it]\u001b[A\n",
            " 28%|████████████████████▏                                                   | 30/107 [02:05<03:35,  2.80s/it]\u001b[A\n",
            " 29%|████████████████████▊                                                   | 31/107 [02:10<04:32,  3.59s/it]\u001b[A\n",
            " 30%|█████████████████████▌                                                  | 32/107 [02:15<05:04,  4.06s/it]\u001b[A\n",
            " 31%|██████████████████████▏                                                 | 33/107 [02:19<04:58,  4.04s/it]\u001b[A\n",
            " 32%|██████████████████████▉                                                 | 34/107 [02:21<04:09,  3.41s/it]\u001b[A\n",
            " 33%|███████████████████████▌                                                | 35/107 [02:27<04:51,  4.05s/it]\u001b[A\n",
            " 34%|████████████████████████▏                                               | 36/107 [02:31<04:55,  4.17s/it]\u001b[A\n",
            " 35%|████████████████████████▉                                               | 37/107 [02:37<05:26,  4.66s/it]\u001b[A\n",
            " 36%|█████████████████████████▌                                              | 38/107 [02:41<05:15,  4.57s/it]\u001b[A\n",
            " 36%|██████████████████████████▏                                             | 39/107 [02:46<05:14,  4.62s/it]\u001b[A\n",
            " 37%|██████████████████████████▉                                             | 40/107 [02:52<05:32,  4.96s/it]\u001b[A\n",
            " 38%|███████████████████████████▌                                            | 41/107 [02:57<05:33,  5.05s/it]\u001b[A\n",
            " 39%|████████████████████████████▎                                           | 42/107 [03:02<05:31,  5.10s/it]\u001b[A\n",
            " 40%|████████████████████████████▉                                           | 43/107 [03:08<05:31,  5.19s/it]\u001b[A\n",
            " 41%|█████████████████████████████▌                                          | 44/107 [03:13<05:29,  5.23s/it]\u001b[A\n",
            " 42%|██████████████████████████████▎                                         | 45/107 [03:17<05:09,  4.99s/it]\u001b[A\n",
            " 43%|██████████████████████████████▉                                         | 46/107 [03:21<04:41,  4.61s/it]\u001b[A\n",
            " 44%|███████████████████████████████▋                                        | 47/107 [03:27<04:50,  4.85s/it]\u001b[A\n",
            " 45%|████████████████████████████████▎                                       | 48/107 [03:31<04:45,  4.83s/it]\u001b[A\n",
            " 46%|████████████████████████████████▉                                       | 49/107 [03:34<04:10,  4.32s/it]\u001b[A\n",
            " 47%|█████████████████████████████████▋                                      | 50/107 [03:37<03:34,  3.76s/it]\u001b[A\n",
            " 48%|██████████████████████████████████▎                                     | 51/107 [03:40<03:19,  3.57s/it]\u001b[A\n",
            " 49%|██████████████████████████████████▉                                     | 52/107 [03:43<03:02,  3.32s/it]\u001b[A\n",
            " 50%|███████████████████████████████████▋                                    | 53/107 [03:47<03:06,  3.46s/it]\u001b[A\n",
            " 50%|████████████████████████████████████▎                                   | 54/107 [03:50<03:08,  3.56s/it]\u001b[A\n",
            " 51%|█████████████████████████████████████                                   | 55/107 [03:55<03:14,  3.75s/it]\u001b[A\n",
            " 52%|█████████████████████████████████████▋                                  | 56/107 [03:59<03:25,  4.03s/it]\u001b[A\n",
            " 53%|██████████████████████████████████████▎                                 | 57/107 [04:03<03:10,  3.81s/it]\u001b[A\n",
            " 54%|███████████████████████████████████████                                 | 58/107 [04:07<03:22,  4.14s/it]\u001b[A\n",
            " 55%|███████████████████████████████████████▋                                | 59/107 [04:11<03:11,  3.98s/it]\u001b[A\n",
            " 56%|████████████████████████████████████████▎                               | 60/107 [04:16<03:13,  4.12s/it]\u001b[A\n",
            " 57%|█████████████████████████████████████████                               | 61/107 [04:21<03:21,  4.38s/it]\u001b[A\n",
            " 58%|█████████████████████████████████████████▋                              | 62/107 [04:23<02:47,  3.72s/it]\u001b[A\n",
            " 59%|██████████████████████████████████████████▍                             | 63/107 [04:27<02:50,  3.88s/it]\u001b[A\n",
            " 60%|███████████████████████████████████████████                             | 64/107 [04:30<02:39,  3.71s/it]\u001b[A\n",
            " 61%|███████████████████████████████████████████▋                            | 65/107 [04:35<02:54,  4.16s/it]\u001b[A\n",
            " 62%|████████████████████████████████████████████▍                           | 66/107 [04:38<02:26,  3.58s/it]\u001b[A\n",
            " 63%|█████████████████████████████████████████████                           | 67/107 [04:43<02:39,  3.99s/it]\u001b[A\n",
            " 64%|█████████████████████████████████████████████▊                          | 68/107 [04:48<02:46,  4.28s/it]\u001b[A\n",
            " 64%|██████████████████████████████████████████████▍                         | 69/107 [04:52<02:48,  4.43s/it]\u001b[A\n",
            " 65%|███████████████████████████████████████████████                         | 70/107 [04:55<02:27,  3.98s/it]\u001b[A\n",
            " 66%|███████████████████████████████████████████████▊                        | 71/107 [04:59<02:20,  3.91s/it]\u001b[A\n",
            " 67%|████████████████████████████████████████████████▍                       | 72/107 [05:01<01:56,  3.31s/it]\u001b[A\n",
            " 68%|█████████████████████████████████████████████████                       | 73/107 [05:05<01:56,  3.41s/it]\u001b[A\n",
            " 69%|█████████████████████████████████████████████████▊                      | 74/107 [05:08<01:56,  3.53s/it]\u001b[A\n",
            " 70%|██████████████████████████████████████████████████▍                     | 75/107 [05:12<01:52,  3.51s/it]\u001b[A\n",
            " 71%|███████████████████████████████████████████████████▏                    | 76/107 [05:17<02:07,  4.11s/it]\u001b[A\n",
            " 72%|███████████████████████████████████████████████████▊                    | 77/107 [05:22<02:04,  4.14s/it]\u001b[A\n",
            " 73%|████████████████████████████████████████████████████▍                   | 78/107 [05:26<01:58,  4.10s/it]\u001b[A\n",
            " 74%|█████████████████████████████████████████████████████▏                  | 79/107 [05:27<01:34,  3.36s/it]\u001b[A\n",
            " 75%|█████████████████████████████████████████████████████▊                  | 80/107 [05:30<01:22,  3.06s/it]\u001b[A\n",
            " 76%|██████████████████████████████████████████████████████▌                 | 81/107 [05:33<01:20,  3.10s/it]\u001b[A\n",
            " 77%|███████████████████████████████████████████████████████▏                | 82/107 [05:38<01:35,  3.81s/it]\u001b[A\n",
            " 78%|███████████████████████████████████████████████████████▊                | 83/107 [05:44<01:45,  4.39s/it]\u001b[A\n",
            " 79%|████████████████████████████████████████████████████████▌               | 84/107 [05:48<01:41,  4.40s/it]\u001b[A\n",
            " 79%|█████████████████████████████████████████████████████████▏              | 85/107 [05:53<01:36,  4.39s/it]\u001b[A\n",
            " 80%|█████████████████████████████████████████████████████████▊              | 86/107 [05:58<01:36,  4.61s/it]\u001b[A\n",
            " 81%|██████████████████████████████████████████████████████████▌             | 87/107 [06:01<01:25,  4.30s/it]\u001b[A\n",
            " 82%|███████████████████████████████████████████████████████████▏            | 88/107 [06:02<01:02,  3.29s/it]\u001b[A\n",
            " 83%|███████████████████████████████████████████████████████████▉            | 89/107 [06:04<00:47,  2.66s/it]\u001b[A\n",
            " 84%|████████████████████████████████████████████████████████████▌           | 90/107 [06:06<00:44,  2.61s/it]\u001b[A\n",
            " 85%|█████████████████████████████████████████████████████████████▏          | 91/107 [06:09<00:44,  2.79s/it]\u001b[A\n",
            " 86%|█████████████████████████████████████████████████████████████▉          | 92/107 [06:12<00:42,  2.86s/it]\u001b[A\n",
            " 87%|██████████████████████████████████████████████████████████████▌         | 93/107 [06:17<00:45,  3.28s/it]\u001b[A\n",
            " 88%|███████████████████████████████████████████████████████████████▎        | 94/107 [06:22<00:51,  3.94s/it]\u001b[A\n",
            " 89%|███████████████████████████████████████████████████████████████▉        | 95/107 [06:26<00:47,  3.98s/it]\u001b[A\n",
            " 90%|████████████████████████████████████████████████████████████████▌       | 96/107 [06:29<00:41,  3.74s/it]\u001b[A\n",
            " 91%|█████████████████████████████████████████████████████████████████▎      | 97/107 [06:32<00:34,  3.49s/it]\u001b[A\n",
            " 92%|█████████████████████████████████████████████████████████████████▉      | 98/107 [06:34<00:25,  2.83s/it]\u001b[A\n",
            " 93%|██████████████████████████████████████████████████████████████████▌     | 99/107 [06:34<00:17,  2.21s/it]\u001b[A\n",
            " 93%|██████████████████████████████████████████████████████████████████▎    | 100/107 [06:37<00:15,  2.23s/it]\u001b[A\n",
            " 94%|███████████████████████████████████████████████████████████████████    | 101/107 [06:37<00:10,  1.68s/it]\u001b[A\n",
            " 95%|███████████████████████████████████████████████████████████████████▋   | 102/107 [06:38<00:06,  1.36s/it]\u001b[A\n",
            " 96%|████████████████████████████████████████████████████████████████████▎  | 103/107 [06:40<00:06,  1.73s/it]\u001b[A\n",
            " 97%|█████████████████████████████████████████████████████████████████████  | 104/107 [06:45<00:08,  2.80s/it]\u001b[A\n",
            " 98%|█████████████████████████████████████████████████████████████████████▋ | 105/107 [06:50<00:06,  3.21s/it]\u001b[A\n",
            " 99%|██████████████████████████████████████████████████████████████████████▎| 106/107 [06:54<00:03,  3.42s/it]\u001b[A\n",
            "100%|███████████████████████████████████████████████████████████████████████| 107/107 [06:59<00:00,  3.92s/it]\u001b[A"
          ]
        },
        {
          "name": "stdout",
          "output_type": "stream",
          "text": [
            "Métricas: \n",
            "00135\n",
            "00101\n",
            "00080C\n",
            "00184\n",
            "00008C\n",
            "00072\n",
            "00144\n",
            "00120C\n",
            "00115\n",
            "00109\n"
          ]
        },
        {
          "name": "stderr",
          "output_type": "stream",
          "text": [
            "\n"
          ]
        },
        {
          "data": {
            "image/png": "[encoded data removed]",
            "text/plain": [
              "<Figure size 216x216 with 1 Axes>"
            ]
          },
          "metadata": {
            "needs_background": "light"
          },
          "output_type": "display_data"
        }
      ],
      "source": [
        "random.seed(123)\n",
        "get_failed(images,true_labels)"
      ]
    },
    {
      "cell_type": "code",
      "execution_count": null,
      "id": "1678df21",
      "metadata": {
        "id": "1678df21"
      },
      "outputs": [],
      "source": [
        "random.seed(123)\n",
        "output_file_path='probs_ViT_Original.csv'\n",
        "sets = ['test','valid','train']\n",
        "for s in sets:\n",
        "    data=[]\n",
        "    images = data_dict[s]['image']\n",
        "    true_labels = data_dict[s]['labels']\n",
        "\n",
        "    get_probabilities(images,true_labels,s)\n",
        "\n",
        "    columns = ['conjunto','name_imagen','true_class','pred_class','prob_class0','prob_class1']\n",
        "    df = pd.DataFrame(data,columns=columns)\n",
        "\n",
        "    if os.path.exists(output_file_path):\n",
        "        existing_df = pd.read_csv(output_file_path)\n",
        "        final_df = pd.concat([existing_df, df], ignore_index=True)\n",
        "    else:\n",
        "        final_df = df\n",
        "\n",
        "    # Save the updated DataFrame to the same CSV file\n",
        "    final_df.to_csv(output_file_path, index=False)"
      ]
    },
    {
      "cell_type": "markdown",
      "id": "e2895ab8-b4dc-4943-863c-1053ff216aab",
      "metadata": {
        "jp-MarkdownHeadingCollapsed": true,
        "id": "e2895ab8-b4dc-4943-863c-1053ff216aab"
      },
      "source": [
        "### DETR"
      ]
    },
    {
      "cell_type": "code",
      "execution_count": null,
      "id": "13784286-2a4a-4645-8540-5e04439759ba",
      "metadata": {
        "id": "13784286-2a4a-4645-8540-5e04439759ba",
        "outputId": "d3ec830f-9e8d-4e16-e858-530b9c0145bd"
      },
      "outputs": [
        {
          "name": "stderr",
          "output_type": "stream",
          "text": [
            "Some weights of ViTForImageClassification were not initialized from the model checkpoint at google/vit-base-patch16-224-in21k and are newly initialized: ['classifier.bias', 'classifier.weight']\n",
            "You should probably TRAIN this model on a down-stream task to be able to use it for predictions and inference.\n"
          ]
        },
        {
          "data": {
            "text/plain": [
              "ViTForImageClassification(\n",
              "  (vit): ViTModel(\n",
              "    (embeddings): ViTEmbeddings(\n",
              "      (patch_embeddings): ViTPatchEmbeddings(\n",
              "        (projection): Conv2d(3, 768, kernel_size=(16, 16), stride=(16, 16))\n",
              "      )\n",
              "      (dropout): Dropout(p=0.0, inplace=False)\n",
              "    )\n",
              "    (encoder): ViTEncoder(\n",
              "      (layer): ModuleList(\n",
              "        (0-11): 12 x ViTLayer(\n",
              "          (attention): ViTAttention(\n",
              "            (attention): ViTSelfAttention(\n",
              "              (query): Linear(in_features=768, out_features=768, bias=True)\n",
              "              (key): Linear(in_features=768, out_features=768, bias=True)\n",
              "              (value): Linear(in_features=768, out_features=768, bias=True)\n",
              "              (dropout): Dropout(p=0.0, inplace=False)\n",
              "            )\n",
              "            (output): ViTSelfOutput(\n",
              "              (dense): Linear(in_features=768, out_features=768, bias=True)\n",
              "              (dropout): Dropout(p=0.0, inplace=False)\n",
              "            )\n",
              "          )\n",
              "          (intermediate): ViTIntermediate(\n",
              "            (dense): Linear(in_features=768, out_features=3072, bias=True)\n",
              "            (intermediate_act_fn): GELUActivation()\n",
              "          )\n",
              "          (output): ViTOutput(\n",
              "            (dense): Linear(in_features=3072, out_features=768, bias=True)\n",
              "            (dropout): Dropout(p=0.0, inplace=False)\n",
              "          )\n",
              "          (layernorm_before): LayerNorm((768,), eps=1e-12, elementwise_affine=True)\n",
              "          (layernorm_after): LayerNorm((768,), eps=1e-12, elementwise_affine=True)\n",
              "        )\n",
              "      )\n",
              "    )\n",
              "    (layernorm): LayerNorm((768,), eps=1e-12, elementwise_affine=True)\n",
              "  )\n",
              "  (classifier): Linear(in_features=768, out_features=2, bias=True)\n",
              ")"
            ]
          },
          "execution_count": 29,
          "metadata": {},
          "output_type": "execute_result"
        }
      ],
      "source": [
        "model = ViTForImageClassification.from_pretrained(model_checkpoint,\n",
        "                                                  num_labels=len(labels),\n",
        "                                                  id2label=id2label,\n",
        "                                                  label2id=label2id)\n",
        "model.load_state_dict(torch.load(\"./ViTresults/detection_Balanced/DViT.pth\"))\n",
        "model.eval()"
      ]
    },
    {
      "cell_type": "code",
      "execution_count": null,
      "id": "367d6d9f-89f3-4ec8-b61c-30c61dc4b497",
      "metadata": {
        "id": "367d6d9f-89f3-4ec8-b61c-30c61dc4b497"
      },
      "outputs": [],
      "source": [
        "Dtrainer = Trainer(model=model,\n",
        "                  args=Dtraining_args,\n",
        "                  data_collator=collate_fn,\n",
        "                  compute_metrics=compute_metrics,\n",
        "                  train_dataset=Dtrain_dataset,\n",
        "                  eval_dataset=Dval_dataset,\n",
        "                  tokenizer=feature_extractor)"
      ]
    },
    {
      "cell_type": "code",
      "execution_count": null,
      "id": "0ab735cc-df07-4c23-8b3f-63c3ce2ae196",
      "metadata": {
        "id": "0ab735cc-df07-4c23-8b3f-63c3ce2ae196",
        "outputId": "5da2b003-6b50-4b29-d403-d18679dbff33"
      },
      "outputs": [
        {
          "data": {
            "text/html": [
              "\n",
              "    <div>\n",
              "      \n",
              "      <progress value='1208' max='803' style='width:300px; height:20px; vertical-align: middle;'></progress>\n",
              "      [803/803 00:42]\n",
              "    </div>\n",
              "    "
            ],
            "text/plain": [
              "<IPython.core.display.HTML object>"
            ]
          },
          "metadata": {},
          "output_type": "display_data"
        },
        {
          "data": {
            "text/plain": [
              "{'eval_loss': 0.003669728059321642,\n",
              " 'eval_f1': 1.0,\n",
              " 'eval_accuracy': 1.0,\n",
              " 'eval_runtime': 27.497,\n",
              " 'eval_samples_per_second': 58.37,\n",
              " 'eval_steps_per_second': 29.203}"
            ]
          },
          "execution_count": 21,
          "metadata": {},
          "output_type": "execute_result"
        }
      ],
      "source": [
        "#TRAIN - GOLD Det  - Trained\n",
        "Dtrainer.evaluate(Dtrain_dataset)"
      ]
    },
    {
      "cell_type": "code",
      "execution_count": null,
      "id": "684ce799-d8c3-4c04-90bb-58b27d53bade",
      "metadata": {
        "id": "684ce799-d8c3-4c04-90bb-58b27d53bade",
        "outputId": "4eb882f0-27b5-416f-bab1-cb67f217bc3c"
      },
      "outputs": [
        {
          "name": "stderr",
          "output_type": "stream",
          "text": [
            "100%|███████████████████████████████████████████████████████████████████████| 107/107 [01:20<00:00,  1.33it/s]\n"
          ]
        },
        {
          "name": "stdout",
          "output_type": "stream",
          "text": [
            "Métricas: \n",
            "              precision    recall  f1-score   support\n",
            "\n",
            "           0      0.983     0.851     0.912        67\n",
            "           1      0.796     0.975     0.876        40\n",
            "\n",
            "    accuracy                          0.897       107\n",
            "   macro avg      0.889     0.913     0.894       107\n",
            "weighted avg      0.913     0.897     0.899       107\n",
            "\n",
            "********** MÉTRICAS **********\n",
            "AUC:  0.913\n",
            "True Positives:  39\n",
            "True Negatives:  57\n",
            "False Positives:  10\n",
            "False Negatives:  1\n",
            "Precisión:  0.796\n",
            "Recall / Sensibilidad:  0.975\n",
            "Accuracy / Exactitud:  0.897\n",
            "Especificidad:  0.851\n",
            "Tasa falsos negativos:  0.025\n",
            "Valor predictivo positivo:  0.796\n",
            "Valor predictivo negativo:  0.983\n",
            "F1-Score:  0.876\n",
            "******************************\n"
          ]
        },
        {
          "data": {
            "image/png": "[encoded data removed]",
            "text/plain": [
              "<Figure size 216x216 with 1 Axes>"
            ]
          },
          "metadata": {
            "needs_background": "light"
          },
          "output_type": "display_data"
        }
      ],
      "source": [
        "#Test Prediction- GOLD BB\n",
        "images = Ddata_dict['test']['image']\n",
        "true_labels = Ddata_dict['test']['labels']\n",
        "prediccion_final(images,true_labels)"
      ]
    },
    {
      "cell_type": "code",
      "execution_count": null,
      "id": "a016bd21",
      "metadata": {
        "id": "a016bd21",
        "outputId": "4fbfec90-451d-48ed-9c97-f47812fd4a5e"
      },
      "outputs": [
        {
          "name": "stderr",
          "output_type": "stream",
          "text": [
            "\n",
            "  0%|                                                                                 | 0/107 [00:00<?, ?it/s]\u001b[A\n",
            "  1%|▋                                                                        | 1/107 [00:03<05:24,  3.07s/it]\u001b[A\n",
            "  2%|█▎                                                                       | 2/107 [00:05<04:14,  2.42s/it]\u001b[A\n",
            "  3%|██                                                                       | 3/107 [00:05<02:48,  1.62s/it]\u001b[A\n",
            "  4%|██▋                                                                      | 4/107 [00:09<04:15,  2.48s/it]\u001b[A\n",
            "  5%|███▍                                                                     | 5/107 [00:14<05:54,  3.48s/it]\u001b[A\n",
            "  6%|████                                                                     | 6/107 [00:17<05:15,  3.12s/it]\u001b[A\n",
            "  7%|████▊                                                                    | 7/107 [00:18<04:07,  2.48s/it]\u001b[A\n",
            "  7%|█████▍                                                                   | 8/107 [00:20<04:00,  2.43s/it]\u001b[A\n",
            "  8%|██████▏                                                                  | 9/107 [00:24<04:55,  3.01s/it]\u001b[A\n",
            "  9%|██████▋                                                                 | 10/107 [00:28<04:59,  3.09s/it]\u001b[A\n",
            " 10%|███████▍                                                                | 11/107 [00:30<04:37,  2.90s/it]\u001b[A\n",
            " 11%|████████                                                                | 12/107 [00:35<05:25,  3.42s/it]\u001b[A\n",
            " 12%|████████▋                                                               | 13/107 [00:40<06:06,  3.90s/it]\u001b[A\n",
            " 13%|█████████▍                                                              | 14/107 [00:45<06:52,  4.44s/it]\u001b[A\n",
            " 14%|██████████                                                              | 15/107 [00:50<06:39,  4.35s/it]\u001b[A\n",
            " 15%|██████████▊                                                             | 16/107 [00:53<06:14,  4.11s/it]\u001b[A\n",
            " 16%|███████████▍                                                            | 17/107 [00:57<06:13,  4.14s/it]\u001b[A\n",
            " 17%|████████████                                                            | 18/107 [01:00<05:15,  3.55s/it]\u001b[A\n",
            " 18%|████████████▊                                                           | 19/107 [01:03<04:58,  3.40s/it]\u001b[A\n",
            " 19%|█████████████▍                                                          | 20/107 [01:06<04:57,  3.42s/it]\u001b[A\n",
            " 20%|██████████████▏                                                         | 21/107 [01:11<05:24,  3.77s/it]\u001b[A\n",
            " 21%|██████████████▊                                                         | 22/107 [01:14<05:06,  3.60s/it]\u001b[A\n",
            " 21%|███████████████▍                                                        | 23/107 [01:18<05:19,  3.80s/it]\u001b[A\n",
            " 22%|████████████████▏                                                       | 24/107 [01:24<05:55,  4.28s/it]\u001b[A\n",
            " 23%|████████████████▊                                                       | 25/107 [01:28<05:46,  4.22s/it]\u001b[A\n",
            " 24%|█████████████████▍                                                      | 26/107 [01:30<04:47,  3.55s/it]\u001b[A\n",
            " 25%|██████████████████▏                                                     | 27/107 [01:32<04:18,  3.23s/it]\u001b[A\n",
            " 26%|██████████████████▊                                                     | 28/107 [01:35<04:12,  3.20s/it]\u001b[A\n",
            " 27%|███████████████████▌                                                    | 29/107 [01:41<05:09,  3.97s/it]\u001b[A\n",
            " 28%|████████████████████▏                                                   | 30/107 [01:46<05:35,  4.35s/it]\u001b[A\n",
            " 29%|████████████████████▊                                                   | 31/107 [01:51<05:48,  4.58s/it]\u001b[A\n",
            " 30%|█████████████████████▌                                                  | 32/107 [01:54<04:59,  4.00s/it]\u001b[A\n",
            " 31%|██████████████████████▏                                                 | 33/107 [01:55<03:55,  3.19s/it]\u001b[A\n",
            " 32%|██████████████████████▉                                                 | 34/107 [02:00<04:34,  3.76s/it]\u001b[A\n",
            " 33%|███████████████████████▌                                                | 35/107 [02:04<04:33,  3.80s/it]\u001b[A\n",
            " 34%|████████████████████████▏                                               | 36/107 [02:07<04:09,  3.52s/it]\u001b[A\n",
            " 35%|████████████████████████▉                                               | 37/107 [02:12<04:35,  3.94s/it]\u001b[A\n",
            " 36%|█████████████████████████▌                                              | 38/107 [02:18<05:06,  4.44s/it]\u001b[A\n",
            " 36%|██████████████████████████▏                                             | 39/107 [02:21<04:38,  4.09s/it]\u001b[A\n",
            " 37%|██████████████████████████▉                                             | 40/107 [02:24<04:18,  3.86s/it]\u001b[A\n",
            " 38%|███████████████████████████▌                                            | 41/107 [02:27<04:02,  3.67s/it]\u001b[A\n",
            " 39%|████████████████████████████▎                                           | 42/107 [02:31<04:01,  3.72s/it]\u001b[A\n",
            " 40%|████████████████████████████▉                                           | 43/107 [02:33<03:18,  3.11s/it]\u001b[A\n",
            " 41%|█████████████████████████████▌                                          | 44/107 [02:36<03:17,  3.13s/it]\u001b[A\n",
            " 42%|██████████████████████████████▎                                         | 45/107 [02:41<03:46,  3.65s/it]\u001b[A\n",
            " 43%|██████████████████████████████▉                                         | 46/107 [02:46<04:02,  3.98s/it]\u001b[A\n",
            " 44%|███████████████████████████████▋                                        | 47/107 [02:51<04:21,  4.36s/it]\u001b[A\n",
            " 45%|████████████████████████████████▎                                       | 48/107 [02:57<04:38,  4.72s/it]\u001b[A\n",
            " 46%|████████████████████████████████▉                                       | 49/107 [03:02<04:46,  4.94s/it]\u001b[A\n",
            " 47%|█████████████████████████████████▋                                      | 50/107 [03:05<04:06,  4.33s/it]\u001b[A\n",
            " 48%|██████████████████████████████████▎                                     | 51/107 [03:06<02:58,  3.19s/it]\u001b[A\n",
            " 49%|██████████████████████████████████▉                                     | 52/107 [03:11<03:34,  3.90s/it]\u001b[A\n",
            " 50%|███████████████████████████████████▋                                    | 53/107 [03:16<03:42,  4.12s/it]\u001b[A\n",
            " 50%|████████████████████████████████████▎                                   | 54/107 [03:16<02:44,  3.10s/it]\u001b[A\n",
            " 51%|█████████████████████████████████████                                   | 55/107 [03:17<02:03,  2.38s/it]\u001b[A\n",
            " 52%|█████████████████████████████████████▋                                  | 56/107 [03:18<01:34,  1.84s/it]\u001b[A\n",
            " 53%|██████████████████████████████████████▎                                 | 57/107 [03:21<01:55,  2.31s/it]\u001b[A\n",
            " 54%|███████████████████████████████████████                                 | 58/107 [03:23<01:43,  2.11s/it]\u001b[A\n",
            " 55%|███████████████████████████████████████▋                                | 59/107 [03:27<02:18,  2.89s/it]\u001b[A\n",
            " 56%|████████████████████████████████████████▎                               | 60/107 [03:33<02:52,  3.67s/it]\u001b[A\n",
            " 57%|█████████████████████████████████████████                               | 61/107 [03:38<03:04,  4.01s/it]\u001b[A\n",
            " 58%|█████████████████████████████████████████▋                              | 62/107 [03:40<02:33,  3.41s/it]\u001b[A\n",
            " 59%|██████████████████████████████████████████▍                             | 63/107 [03:42<02:15,  3.09s/it]\u001b[A\n",
            " 60%|███████████████████████████████████████████                             | 64/107 [03:46<02:21,  3.29s/it]\u001b[A\n",
            " 61%|███████████████████████████████████████████▋                            | 65/107 [03:49<02:12,  3.15s/it]\u001b[A\n",
            " 62%|████████████████████████████████████████████▍                           | 66/107 [03:50<01:51,  2.71s/it]\u001b[A\n",
            " 63%|█████████████████████████████████████████████                           | 67/107 [03:55<02:10,  3.27s/it]\u001b[A\n",
            " 64%|█████████████████████████████████████████████▊                          | 68/107 [03:59<02:21,  3.62s/it]\u001b[A\n",
            " 64%|██████████████████████████████████████████████▍                         | 69/107 [04:05<02:36,  4.12s/it]\u001b[A\n",
            " 65%|███████████████████████████████████████████████                         | 70/107 [04:06<01:58,  3.20s/it]\u001b[A\n",
            " 66%|███████████████████████████████████████████████▊                        | 71/107 [04:11<02:21,  3.93s/it]\u001b[A\n",
            " 67%|████████████████████████████████████████████████▍                       | 72/107 [04:15<02:16,  3.90s/it]\u001b[A\n",
            " 68%|█████████████████████████████████████████████████                       | 73/107 [04:20<02:25,  4.27s/it]\u001b[A\n",
            " 69%|█████████████████████████████████████████████████▊                      | 74/107 [04:22<01:59,  3.61s/it]\u001b[A\n",
            " 70%|██████████████████████████████████████████████████▍                     | 75/107 [04:25<01:46,  3.33s/it]\u001b[A\n",
            " 71%|███████████████████████████████████████████████████▏                    | 76/107 [04:28<01:38,  3.17s/it]\u001b[A\n",
            " 72%|███████████████████████████████████████████████████▊                    | 77/107 [04:31<01:35,  3.18s/it]\u001b[A\n",
            " 73%|████████████████████████████████████████████████████▍                   | 78/107 [04:37<01:53,  3.91s/it]\u001b[A\n",
            " 74%|█████████████████████████████████████████████████████▏                  | 79/107 [04:42<02:02,  4.38s/it]\u001b[A\n",
            " 75%|█████████████████████████████████████████████████████▊                  | 80/107 [04:46<01:56,  4.31s/it]\u001b[A\n",
            " 76%|██████████████████████████████████████████████████████▌                 | 81/107 [04:49<01:36,  3.73s/it]\u001b[A\n",
            " 77%|███████████████████████████████████████████████████████▏                | 82/107 [04:51<01:24,  3.39s/it]\u001b[A\n",
            " 78%|███████████████████████████████████████████████████████▊                | 83/107 [04:53<01:07,  2.83s/it]\u001b[A\n",
            " 79%|████████████████████████████████████████████████████████▌               | 84/107 [04:58<01:23,  3.61s/it]\u001b[A\n",
            " 79%|█████████████████████████████████████████████████████████▏              | 85/107 [05:02<01:19,  3.63s/it]\u001b[A\n",
            " 80%|█████████████████████████████████████████████████████████▊              | 86/107 [05:05<01:15,  3.60s/it]\u001b[A\n",
            " 81%|██████████████████████████████████████████████████████████▌             | 87/107 [05:10<01:18,  3.91s/it]\u001b[A\n",
            " 82%|███████████████████████████████████████████████████████████▏            | 88/107 [05:13<01:10,  3.73s/it]\u001b[A\n",
            " 83%|███████████████████████████████████████████████████████████▉            | 89/107 [05:16<01:02,  3.45s/it]\u001b[A\n",
            " 84%|████████████████████████████████████████████████████████████▌           | 90/107 [05:20<00:59,  3.52s/it]\u001b[A\n",
            " 85%|█████████████████████████████████████████████████████████████▏          | 91/107 [05:24<01:00,  3.79s/it]\u001b[A\n",
            " 86%|█████████████████████████████████████████████████████████████▉          | 92/107 [05:30<01:04,  4.32s/it]\u001b[A\n",
            " 87%|██████████████████████████████████████████████████████████████▌         | 93/107 [05:35<01:03,  4.53s/it]\u001b[A\n",
            " 88%|███████████████████████████████████████████████████████████████▎        | 94/107 [05:40<01:02,  4.78s/it]\u001b[A\n",
            " 89%|███████████████████████████████████████████████████████████████▉        | 95/107 [05:46<00:59,  4.94s/it]\u001b[A\n",
            " 90%|████████████████████████████████████████████████████████████████▌       | 96/107 [05:51<00:56,  5.12s/it]\u001b[A\n",
            " 91%|█████████████████████████████████████████████████████████████████▎      | 97/107 [05:54<00:45,  4.51s/it]\u001b[A\n",
            " 92%|█████████████████████████████████████████████████████████████████▉      | 98/107 [05:57<00:35,  3.94s/it]\u001b[A\n",
            " 93%|██████████████████████████████████████████████████████████████████▌     | 99/107 [06:00<00:30,  3.86s/it]\u001b[A\n",
            " 93%|██████████████████████████████████████████████████████████████████▎    | 100/107 [06:05<00:28,  4.06s/it]\u001b[A\n",
            " 94%|███████████████████████████████████████████████████████████████████    | 101/107 [06:11<00:27,  4.54s/it]\u001b[A\n",
            " 95%|███████████████████████████████████████████████████████████████████▋   | 102/107 [06:16<00:23,  4.70s/it]\u001b[A\n",
            " 96%|████████████████████████████████████████████████████████████████████▎  | 103/107 [06:21<00:19,  4.80s/it]\u001b[A\n",
            " 97%|█████████████████████████████████████████████████████████████████████  | 104/107 [06:27<00:15,  5.11s/it]\u001b[A\n",
            " 98%|█████████████████████████████████████████████████████████████████████▋ | 105/107 [06:31<00:10,  5.05s/it]\u001b[A\n",
            " 99%|██████████████████████████████████████████████████████████████████████▎| 106/107 [06:36<00:04,  4.75s/it]\u001b[A\n",
            "100%|███████████████████████████████████████████████████████████████████████| 107/107 [06:41<00:00,  3.76s/it]\u001b[A\n"
          ]
        },
        {
          "name": "stdout",
          "output_type": "stream",
          "text": [
            "Métricas: \n",
            "              precision    recall  f1-score   support\n",
            "\n",
            "           0      0.983     0.851     0.912        67\n",
            "           1      0.796     0.975     0.876        40\n",
            "\n",
            "    accuracy                          0.897       107\n",
            "   macro avg      0.889     0.913     0.894       107\n",
            "weighted avg      0.913     0.897     0.899       107\n",
            "\n",
            "********** MÉTRICAS **********\n",
            "AUC:  0.913\n",
            "True Positives:  39\n",
            "True Negatives:  57\n",
            "False Positives:  10\n",
            "False Negatives:  1\n",
            "Precisión:  0.796\n",
            "Recall / Sensibilidad:  0.975\n",
            "Accuracy / Exactitud:  0.897\n",
            "Especificidad:  0.851\n",
            "Tasa falsos negativos:  0.025\n",
            "Valor predictivo positivo:  0.796\n",
            "Valor predictivo negativo:  0.983\n",
            "F1-Score:  0.876\n",
            "******************************\n"
          ]
        },
        {
          "name": "stderr",
          "output_type": "stream",
          "text": [
            "\n",
            "  0%|                                                                                 | 0/107 [00:00<?, ?it/s]\u001b[A\n",
            "  1%|▋                                                                        | 1/107 [00:04<07:31,  4.26s/it]\u001b[A\n",
            "  2%|█▎                                                                       | 2/107 [00:09<08:34,  4.90s/it]\u001b[A\n",
            "  3%|██                                                                       | 3/107 [00:10<05:25,  3.13s/it]\u001b[A\n",
            "  4%|██▋                                                                      | 4/107 [00:14<05:41,  3.32s/it]\u001b[A\n",
            "  5%|███▍                                                                     | 5/107 [00:19<07:07,  4.19s/it]\u001b[A\n",
            "  6%|████                                                                     | 6/107 [00:22<06:19,  3.76s/it]\u001b[A\n",
            "  7%|████▊                                                                    | 7/107 [00:23<04:33,  2.74s/it]\u001b[A\n",
            "  7%|█████▍                                                                   | 8/107 [00:24<03:22,  2.05s/it]\u001b[A\n",
            "  8%|██████▏                                                                  | 9/107 [00:28<04:19,  2.64s/it]\u001b[A\n",
            "  9%|██████▋                                                                 | 10/107 [00:32<05:17,  3.27s/it]\u001b[A\n",
            " 10%|███████▍                                                                | 11/107 [00:38<06:19,  3.96s/it]\u001b[A\n",
            " 11%|████████                                                                | 12/107 [00:43<06:43,  4.25s/it]\u001b[A\n",
            " 12%|████████▋                                                               | 13/107 [00:48<07:08,  4.56s/it]\u001b[A\n",
            " 13%|█████████▍                                                              | 14/107 [00:52<07:00,  4.53s/it]\u001b[A\n",
            " 14%|██████████                                                              | 15/107 [00:55<06:00,  3.92s/it]\u001b[A\n",
            " 15%|██████████▊                                                             | 16/107 [00:57<05:10,  3.41s/it]\u001b[A\n",
            " 16%|███████████▍                                                            | 17/107 [01:02<05:37,  3.74s/it]\u001b[A\n",
            " 17%|████████████                                                            | 18/107 [01:07<06:16,  4.24s/it]\u001b[A\n",
            " 18%|████████████▊                                                           | 19/107 [01:09<05:23,  3.68s/it]\u001b[A\n",
            " 19%|█████████████▍                                                          | 20/107 [01:12<04:46,  3.29s/it]\u001b[A\n",
            " 20%|██████████████▏                                                         | 21/107 [01:14<04:18,  3.01s/it]\u001b[A\n",
            " 21%|██████████████▊                                                         | 22/107 [01:17<04:07,  2.91s/it]\u001b[A\n",
            " 21%|███████████████▍                                                        | 23/107 [01:18<03:26,  2.46s/it]\u001b[A\n",
            " 22%|████████████████▏                                                       | 24/107 [01:21<03:23,  2.45s/it]\u001b[A\n",
            " 23%|████████████████▊                                                       | 25/107 [01:25<03:56,  2.89s/it]\u001b[A\n",
            " 24%|█████████████████▍                                                      | 26/107 [01:30<04:53,  3.63s/it]\u001b[A\n",
            " 25%|██████████████████▏                                                     | 27/107 [01:35<05:26,  4.08s/it]\u001b[A\n",
            " 26%|██████████████████▊                                                     | 28/107 [01:39<05:20,  4.06s/it]\u001b[A\n",
            " 27%|███████████████████▌                                                    | 29/107 [01:40<04:05,  3.15s/it]\u001b[A\n",
            " 28%|████████████████████▏                                                   | 30/107 [01:43<03:54,  3.04s/it]\u001b[A\n",
            " 29%|████████████████████▊                                                   | 31/107 [01:45<03:34,  2.82s/it]\u001b[A\n",
            " 30%|█████████████████████▌                                                  | 32/107 [01:50<04:12,  3.36s/it]\u001b[A\n",
            " 31%|██████████████████████▏                                                 | 33/107 [01:55<04:56,  4.01s/it]\u001b[A\n",
            " 32%|██████████████████████▉                                                 | 34/107 [01:58<04:32,  3.73s/it]\u001b[A\n",
            " 33%|███████████████████████▌                                                | 35/107 [02:01<04:06,  3.43s/it]\u001b[A\n",
            " 34%|████████████████████████▏                                               | 36/107 [02:05<04:07,  3.48s/it]\u001b[A\n",
            " 35%|████████████████████████▉                                               | 37/107 [02:09<04:22,  3.75s/it]\u001b[A\n",
            " 36%|█████████████████████████▌                                              | 38/107 [02:12<03:52,  3.38s/it]\u001b[A\n",
            " 36%|██████████████████████████▏                                             | 39/107 [02:13<03:18,  2.92s/it]\u001b[A\n",
            " 37%|██████████████████████████▉                                             | 40/107 [02:15<02:43,  2.43s/it]\u001b[A\n",
            " 38%|███████████████████████████▌                                            | 41/107 [02:18<02:58,  2.71s/it]\u001b[A\n",
            " 39%|████████████████████████████▎                                           | 42/107 [02:22<03:26,  3.18s/it]\u001b[A\n",
            " 40%|████████████████████████████▉                                           | 43/107 [02:26<03:34,  3.35s/it]\u001b[A\n",
            " 41%|█████████████████████████████▌                                          | 44/107 [02:31<03:57,  3.77s/it]\u001b[A\n",
            " 42%|██████████████████████████████▎                                         | 45/107 [02:35<04:08,  4.00s/it]\u001b[A\n",
            " 43%|██████████████████████████████▉                                         | 46/107 [02:40<04:09,  4.10s/it]\u001b[A\n",
            " 44%|███████████████████████████████▋                                        | 47/107 [02:44<04:05,  4.09s/it]\u001b[A\n",
            " 45%|████████████████████████████████▎                                       | 48/107 [02:49<04:23,  4.47s/it]\u001b[A\n",
            " 46%|████████████████████████████████▉                                       | 49/107 [02:55<04:44,  4.90s/it]\u001b[A\n",
            " 47%|█████████████████████████████████▋                                      | 50/107 [03:00<04:47,  5.05s/it]\u001b[A\n",
            " 48%|██████████████████████████████████▎                                     | 51/107 [03:06<04:47,  5.14s/it]\u001b[A\n",
            " 49%|██████████████████████████████████▉                                     | 52/107 [03:11<04:45,  5.20s/it]\u001b[A\n",
            " 50%|███████████████████████████████████▋                                    | 53/107 [03:16<04:37,  5.14s/it]\u001b[A\n",
            " 50%|████████████████████████████████████▎                                   | 54/107 [03:21<04:30,  5.11s/it]\u001b[A\n",
            " 51%|█████████████████████████████████████                                   | 55/107 [03:27<04:29,  5.19s/it]\u001b[A\n",
            " 52%|█████████████████████████████████████▋                                  | 56/107 [03:29<03:47,  4.47s/it]\u001b[A\n",
            " 53%|██████████████████████████████████████▎                                 | 57/107 [03:35<03:54,  4.68s/it]\u001b[A\n",
            " 54%|███████████████████████████████████████                                 | 58/107 [03:39<03:51,  4.73s/it]\u001b[A\n",
            " 55%|███████████████████████████████████████▋                                | 59/107 [03:43<03:23,  4.24s/it]\u001b[A\n",
            " 56%|████████████████████████████████████████▎                               | 60/107 [03:46<03:07,  3.99s/it]\u001b[A\n",
            " 57%|█████████████████████████████████████████                               | 61/107 [03:47<02:27,  3.21s/it]\u001b[A\n",
            " 58%|█████████████████████████████████████████▋                              | 62/107 [03:52<02:42,  3.61s/it]\u001b[A\n",
            " 59%|██████████████████████████████████████████▍                             | 63/107 [03:57<02:56,  4.00s/it]\u001b[A\n",
            " 60%|███████████████████████████████████████████                             | 64/107 [03:57<02:05,  2.93s/it]\u001b[A\n",
            " 61%|███████████████████████████████████████████▋                            | 65/107 [04:00<02:02,  2.91s/it]\u001b[A\n",
            " 62%|████████████████████████████████████████████▍                           | 66/107 [04:06<02:31,  3.69s/it]\u001b[A\n",
            " 63%|█████████████████████████████████████████████                           | 67/107 [04:11<02:52,  4.30s/it]\u001b[A\n",
            " 64%|█████████████████████████████████████████████▊                          | 68/107 [04:13<02:21,  3.64s/it]\u001b[A\n",
            " 64%|██████████████████████████████████████████████▍                         | 69/107 [04:16<02:02,  3.23s/it]\u001b[A\n",
            " 65%|███████████████████████████████████████████████                         | 70/107 [04:19<01:54,  3.11s/it]\u001b[A\n",
            " 66%|███████████████████████████████████████████████▊                        | 71/107 [04:20<01:32,  2.56s/it]\u001b[A\n",
            " 67%|████████████████████████████████████████████████▍                       | 72/107 [04:20<01:07,  1.94s/it]\u001b[A\n",
            " 68%|█████████████████████████████████████████████████                       | 73/107 [04:22<01:03,  1.86s/it]\u001b[A\n",
            " 69%|█████████████████████████████████████████████████▊                      | 74/107 [04:25<01:11,  2.17s/it]\u001b[A\n",
            " 70%|██████████████████████████████████████████████████▍                     | 75/107 [04:28<01:17,  2.42s/it]\u001b[A\n",
            " 71%|███████████████████████████████████████████████████▏                    | 76/107 [04:31<01:20,  2.60s/it]\u001b[A\n",
            " 72%|███████████████████████████████████████████████████▊                    | 77/107 [04:34<01:21,  2.71s/it]\u001b[A\n",
            " 73%|████████████████████████████████████████████████████▍                   | 78/107 [04:38<01:33,  3.22s/it]\u001b[A\n",
            " 74%|█████████████████████████████████████████████████████▏                  | 79/107 [04:43<01:41,  3.64s/it]\u001b[A\n",
            " 75%|█████████████████████████████████████████████████████▊                  | 80/107 [04:48<01:51,  4.13s/it]\u001b[A\n",
            " 76%|██████████████████████████████████████████████████████▌                 | 81/107 [04:52<01:45,  4.04s/it]\u001b[A\n",
            " 77%|███████████████████████████████████████████████████████▏                | 82/107 [04:57<01:51,  4.46s/it]\u001b[A\n",
            " 78%|███████████████████████████████████████████████████████▊                | 83/107 [05:02<01:50,  4.62s/it]\u001b[A\n",
            " 79%|████████████████████████████████████████████████████████▌               | 84/107 [05:07<01:49,  4.75s/it]\u001b[A\n",
            " 79%|█████████████████████████████████████████████████████████▏              | 85/107 [05:12<01:43,  4.72s/it]\u001b[A\n",
            " 80%|█████████████████████████████████████████████████████████▊              | 86/107 [05:15<01:29,  4.24s/it]\u001b[A\n",
            " 81%|██████████████████████████████████████████████████████████▌             | 87/107 [05:18<01:15,  3.77s/it]\u001b[A\n",
            " 82%|███████████████████████████████████████████████████████████▏            | 88/107 [05:21<01:10,  3.69s/it]\u001b[A\n",
            " 83%|███████████████████████████████████████████████████████████▉            | 89/107 [05:25<01:05,  3.65s/it]\u001b[A\n",
            " 84%|████████████████████████████████████████████████████████████▌           | 90/107 [05:29<01:06,  3.90s/it]\u001b[A\n",
            " 85%|█████████████████████████████████████████████████████████████▏          | 91/107 [05:34<01:04,  4.04s/it]\u001b[A\n",
            " 86%|█████████████████████████████████████████████████████████████▉          | 92/107 [05:39<01:04,  4.33s/it]\u001b[A\n",
            " 87%|██████████████████████████████████████████████████████████████▌         | 93/107 [05:44<01:06,  4.72s/it]\u001b[A\n",
            " 88%|███████████████████████████████████████████████████████████████▎        | 94/107 [05:49<01:01,  4.74s/it]\u001b[A\n",
            " 89%|███████████████████████████████████████████████████████████████▉        | 95/107 [05:55<01:00,  5.06s/it]\u001b[A\n",
            " 90%|████████████████████████████████████████████████████████████████▌       | 96/107 [06:01<00:57,  5.19s/it]\u001b[A\n",
            " 91%|█████████████████████████████████████████████████████████████████▎      | 97/107 [06:05<00:49,  4.99s/it]\u001b[A\n",
            " 92%|█████████████████████████████████████████████████████████████████▉      | 98/107 [06:11<00:46,  5.16s/it]\u001b[A\n",
            " 93%|██████████████████████████████████████████████████████████████████▌     | 99/107 [06:15<00:39,  4.98s/it]\u001b[A\n",
            " 93%|██████████████████████████████████████████████████████████████████▎    | 100/107 [06:20<00:34,  4.88s/it]\u001b[A\n",
            " 94%|███████████████████████████████████████████████████████████████████    | 101/107 [06:24<00:28,  4.73s/it]\u001b[A\n",
            " 95%|███████████████████████████████████████████████████████████████████▋   | 102/107 [06:28<00:22,  4.53s/it]\u001b[A\n",
            " 96%|████████████████████████████████████████████████████████████████████▎  | 103/107 [06:32<00:17,  4.29s/it]\u001b[A\n",
            " 97%|█████████████████████████████████████████████████████████████████████  | 104/107 [06:37<00:13,  4.63s/it]\u001b[A\n",
            " 98%|█████████████████████████████████████████████████████████████████████▋ | 105/107 [06:41<00:08,  4.47s/it]\u001b[A\n",
            " 99%|██████████████████████████████████████████████████████████████████████▎| 106/107 [06:46<00:04,  4.63s/it]\u001b[A\n",
            "100%|███████████████████████████████████████████████████████████████████████| 107/107 [06:52<00:00,  3.85s/it]\u001b[A"
          ]
        },
        {
          "name": "stdout",
          "output_type": "stream",
          "text": [
            "Métricas: \n",
            "00135\n",
            "00013\n",
            "00102\n",
            "00080C\n",
            "00037\n",
            "00072\n",
            "00061\n",
            "00144\n",
            "00156\n",
            "00065\n",
            "00112\n"
          ]
        },
        {
          "name": "stderr",
          "output_type": "stream",
          "text": [
            "\n"
          ]
        },
        {
          "data": {
            "image/png": "[encoded data removed]",
            "text/plain": [
              "<Figure size 216x216 with 1 Axes>"
            ]
          },
          "metadata": {
            "needs_background": "light"
          },
          "output_type": "display_data"
        },
        {
          "data": {
            "image/png": "[encoded data removed]",
            "text/plain": [
              "<Figure size 216x216 with 1 Axes>"
            ]
          },
          "metadata": {
            "needs_background": "light"
          },
          "output_type": "display_data"
        }
      ],
      "source": [
        "images = Ddata_dict['test']['image']\n",
        "true_labels = Ddata_dict['test']['labels']\n",
        "prediccion_final(images,true_labels)\n",
        "get_failed(images,true_labels)"
      ]
    },
    {
      "cell_type": "code",
      "execution_count": null,
      "id": "1be36ce8-1286-4093-b80f-ca17fd7e01b0",
      "metadata": {
        "id": "1be36ce8-1286-4093-b80f-ca17fd7e01b0",
        "outputId": "d701f33e-0fb9-4017-c320-8edf0c9136d8"
      },
      "outputs": [
        {
          "data": {
            "text/plain": [
              "{'eval_loss': 0.2003437876701355,\n",
              " 'eval_f1': 0.9582309582309582,\n",
              " 'eval_accuracy': 0.9580246913580247,\n",
              " 'eval_runtime': 15.7546,\n",
              " 'eval_samples_per_second': 51.413,\n",
              " 'eval_steps_per_second': 25.707}"
            ]
          },
          "execution_count": 22,
          "metadata": {},
          "output_type": "execute_result"
        }
      ],
      "source": [
        "#VALID - GOLD Det  - Trained\n",
        "Dtrainer.evaluate(Dval_dataset)"
      ]
    },
    {
      "cell_type": "code",
      "execution_count": null,
      "id": "83bf5af5",
      "metadata": {
        "id": "83bf5af5"
      },
      "outputs": [],
      "source": [
        "#Gold Detection prediction files\n",
        "output_file_path='probs_ViT_Deteccion.csv'\n",
        "sets = ['test','valid','train']\n",
        "for s in sets:\n",
        "    data=[]\n",
        "    images = Ddata_dict[s]['image']\n",
        "    true_labels = Ddata_dict[s]['labels']\n",
        "\n",
        "    get_probabilities(images,true_labels,s)\n",
        "\n",
        "    columns = ['conjunto','name_imagen','true_class','pred_class','prob_class0','prob_class1']\n",
        "    df = pd.DataFrame(data,columns=columns)\n",
        "\n",
        "    if os.path.exists(output_file_path):\n",
        "        existing_df = pd.read_csv(output_file_path)\n",
        "        final_df = pd.concat([existing_df, df], ignore_index=True)\n",
        "    else:\n",
        "        final_df = df\n",
        "\n",
        "    final_df.to_csv(output_file_path, index=False)"
      ]
    },
    {
      "cell_type": "code",
      "execution_count": null,
      "id": "11f5eb9b",
      "metadata": {
        "id": "11f5eb9b",
        "outputId": "ede80bf9-e980-415e-857e-297a127f2d0b"
      },
      "outputs": [
        {
          "name": "stderr",
          "output_type": "stream",
          "text": [
            "\n",
            "\n",
            "\n",
            "  0%|                                                                                 | 0/107 [00:00<?, ?it/s]\u001b[A\u001b[A\u001b[AException ignored in: <function tqdm.__del__ at 0x7f77e1d51c60>\n",
            "Traceback (most recent call last):\n",
            "  File \"/home/eva/.local/lib/python3.10/site-packages/tqdm/std.py\", line 1149, in __del__\n",
            "    self.close()\n",
            "  File \"/home/eva/.local/lib/python3.10/site-packages/tqdm/notebook.py\", line 278, in close\n",
            "    self.disp(bar_style='danger', check_delay=False)\n",
            "  File \"/home/eva/.local/lib/python3.10/site-packages/tqdm/notebook.py\", line 150, in display\n",
            "    d = self.format_dict\n",
            "  File \"/home/eva/.local/lib/python3.10/site-packages/tqdm/std.py\", line 1463, in format_dict\n",
            "    'colour': self.colour}\n",
            "  File \"/home/eva/.local/lib/python3.10/site-packages/tqdm/notebook.py\", line 194, in colour\n",
            "    return self.container.children[-2].style.bar_color\n",
            "AttributeError: 'FloatProgress' object has no attribute 'style'\n",
            "\n",
            "\n",
            "\n",
            "  1%|▋                                                                        | 1/107 [00:04<07:06,  4.02s/it]\u001b[A\u001b[A\u001b[A\n",
            "\n",
            "\n",
            "  2%|█▎                                                                       | 2/107 [00:08<07:23,  4.22s/it]\u001b[A\u001b[A\u001b[A\n",
            "\n",
            "\n",
            "  3%|██                                                                       | 3/107 [00:13<07:47,  4.49s/it]\u001b[A\u001b[A\u001b[A\n",
            "\n",
            "\n",
            "  4%|██▋                                                                      | 4/107 [00:17<07:43,  4.50s/it]\u001b[A\u001b[A\u001b[A\n",
            "\n",
            "\n",
            "  5%|███▍                                                                     | 5/107 [00:22<07:33,  4.44s/it]\u001b[A\u001b[A\u001b[A\n",
            "\n",
            "\n",
            "  6%|████                                                                     | 6/107 [00:26<07:38,  4.54s/it]\u001b[A\u001b[A\u001b[A\n",
            "\n",
            "\n",
            "  7%|████▊                                                                    | 7/107 [00:32<07:58,  4.79s/it]\u001b[A\u001b[A\u001b[A\n",
            "\n",
            "\n",
            "  7%|█████▍                                                                   | 8/107 [00:34<06:32,  3.96s/it]\u001b[A\u001b[A\u001b[A\n",
            "\n",
            "\n",
            "  8%|██████▏                                                                  | 9/107 [00:35<05:16,  3.23s/it]\u001b[A\u001b[A\u001b[A\n",
            "\n",
            "\n",
            "  9%|██████▋                                                                 | 10/107 [00:41<06:11,  3.83s/it]\u001b[A\u001b[A\u001b[A\n",
            "\n",
            "\n",
            " 10%|███████▍                                                                | 11/107 [00:44<05:56,  3.72s/it]\u001b[A\u001b[A\u001b[A\n",
            "\n",
            "\n",
            " 11%|████████                                                                | 12/107 [00:49<06:22,  4.02s/it]\u001b[A\u001b[A\u001b[A\n",
            "\n",
            "\n",
            " 12%|████████▋                                                               | 13/107 [00:52<05:53,  3.76s/it]\u001b[A\u001b[A\u001b[A\n",
            "\n",
            "\n",
            " 13%|█████████▍                                                              | 14/107 [00:53<04:47,  3.09s/it]\u001b[A\u001b[A\u001b[A\n",
            "\n",
            "\n",
            " 14%|██████████                                                              | 15/107 [00:58<05:18,  3.46s/it]\u001b[A\u001b[A\u001b[A\n",
            "\n",
            "\n",
            " 15%|██████████▊                                                             | 16/107 [01:02<05:39,  3.73s/it]\u001b[A\u001b[A\u001b[A\n",
            "\n",
            "\n",
            " 16%|███████████▍                                                            | 17/107 [01:08<06:24,  4.27s/it]\u001b[A\u001b[A\u001b[A\n",
            "\n",
            "\n",
            " 17%|████████████                                                            | 18/107 [01:10<05:36,  3.78s/it]\u001b[A\u001b[A\u001b[A\n",
            "\n",
            "\n",
            " 18%|████████████▊                                                           | 19/107 [01:13<05:04,  3.46s/it]\u001b[A\u001b[A\u001b[A\n",
            "\n",
            "\n",
            " 19%|█████████████▍                                                          | 20/107 [01:16<04:42,  3.25s/it]\u001b[A\u001b[A\u001b[A\n",
            "\n",
            "\n",
            " 20%|██████████████▏                                                         | 21/107 [01:18<04:09,  2.90s/it]\u001b[A\u001b[A\u001b[A\n",
            "\n",
            "\n",
            " 21%|██████████████▊                                                         | 22/107 [01:22<04:30,  3.19s/it]\u001b[A\u001b[A\u001b[A\n",
            "\n",
            "\n",
            " 21%|███████████████▍                                                        | 23/107 [01:24<03:59,  2.85s/it]\u001b[A\u001b[A\u001b[A\n",
            "\n",
            "\n",
            " 22%|████████████████▏                                                       | 24/107 [01:28<04:21,  3.16s/it]\u001b[A\u001b[A\u001b[A\n",
            "\n",
            "\n",
            " 23%|████████████████▊                                                       | 25/107 [01:32<04:37,  3.38s/it]\u001b[A\u001b[A\u001b[A\n",
            "\n",
            "\n",
            " 24%|█████████████████▍                                                      | 26/107 [01:37<05:24,  4.01s/it]\u001b[A\u001b[A\u001b[A\n",
            "\n",
            "\n",
            " 25%|██████████████████▏                                                     | 27/107 [01:41<05:24,  4.06s/it]\u001b[A\u001b[A\u001b[A\n",
            "\n",
            "\n",
            " 26%|██████████████████▊                                                     | 28/107 [01:43<04:32,  3.45s/it]\u001b[A\u001b[A\u001b[A\n",
            "\n",
            "\n",
            " 27%|███████████████████▌                                                    | 29/107 [01:44<03:24,  2.62s/it]\u001b[A\u001b[A\u001b[A\n",
            "\n",
            "\n",
            " 28%|████████████████████▏                                                   | 30/107 [01:45<02:42,  2.11s/it]\u001b[A\u001b[A\u001b[A\n",
            "\n",
            "\n",
            " 29%|████████████████████▊                                                   | 31/107 [01:48<02:53,  2.28s/it]\u001b[A\u001b[A\u001b[A\n",
            "\n",
            "\n",
            " 30%|█████████████████████▌                                                  | 32/107 [01:50<02:45,  2.21s/it]\u001b[A\u001b[A\u001b[A\n",
            "\n",
            "\n",
            " 31%|██████████████████████▏                                                 | 33/107 [01:51<02:22,  1.92s/it]\u001b[A\u001b[A\u001b[A\n",
            "\n",
            "\n",
            " 32%|██████████████████████▉                                                 | 34/107 [01:53<02:24,  1.98s/it]\u001b[A\u001b[A\u001b[A\n",
            "\n",
            "\n",
            " 33%|███████████████████████▌                                                | 35/107 [01:55<02:30,  2.09s/it]\u001b[A\u001b[A\u001b[A\n",
            "\n",
            "\n",
            " 34%|████████████████████████▏                                               | 36/107 [01:57<02:19,  1.96s/it]\u001b[A\u001b[A\u001b[A\n",
            "\n",
            "\n",
            " 35%|████████████████████████▉                                               | 37/107 [02:01<02:51,  2.45s/it]\u001b[A\u001b[A\u001b[A\n",
            "\n",
            "\n",
            " 36%|█████████████████████████▌                                              | 38/107 [02:04<03:14,  2.83s/it]\u001b[A\u001b[A\u001b[A\n",
            "\n",
            "\n",
            " 36%|██████████████████████████▏                                             | 39/107 [02:10<04:04,  3.59s/it]\u001b[A\u001b[A\u001b[A\n",
            "\n",
            "\n",
            " 37%|██████████████████████████▉                                             | 40/107 [02:15<04:41,  4.20s/it]\u001b[A\u001b[A\u001b[A\n",
            "\n",
            "\n",
            " 38%|███████████████████████████▌                                            | 41/107 [02:21<05:09,  4.69s/it]\u001b[A\u001b[A\u001b[A\n",
            "\n",
            "\n",
            " 39%|████████████████████████████▎                                           | 42/107 [02:26<05:01,  4.63s/it]\u001b[A\u001b[A\u001b[A\n",
            "\n",
            "\n",
            " 40%|████████████████████████████▉                                           | 43/107 [02:31<05:03,  4.74s/it]\u001b[A\u001b[A\u001b[A\n",
            "\n",
            "\n",
            " 41%|█████████████████████████████▌                                          | 44/107 [02:35<04:50,  4.62s/it]\u001b[A\u001b[A\u001b[A\n",
            "\n",
            "\n",
            " 42%|██████████████████████████████▎                                         | 45/107 [02:39<04:45,  4.61s/it]\u001b[A\u001b[A\u001b[A\n",
            "\n",
            "\n",
            " 43%|██████████████████████████████▉                                         | 46/107 [02:45<04:53,  4.82s/it]\u001b[A\u001b[A\u001b[A\n",
            "\n",
            "\n",
            " 44%|███████████████████████████████▋                                        | 47/107 [02:47<04:11,  4.18s/it]\u001b[A\u001b[A\u001b[A\n",
            "\n",
            "\n",
            " 45%|████████████████████████████████▎                                       | 48/107 [02:53<04:27,  4.53s/it]\u001b[A\u001b[A\u001b[A\n",
            "\n",
            "\n",
            " 46%|████████████████████████████████▉                                       | 49/107 [02:57<04:17,  4.43s/it]\u001b[A\u001b[A\u001b[A\n",
            "\n",
            "\n",
            " 47%|█████████████████████████████████▋                                      | 50/107 [02:59<03:29,  3.68s/it]\u001b[A\u001b[A\u001b[A\n",
            "\n",
            "\n",
            " 48%|██████████████████████████████████▎                                     | 51/107 [03:01<02:53,  3.10s/it]\u001b[A\u001b[A\u001b[A\n",
            "\n",
            "\n",
            " 49%|██████████████████████████████████▉                                     | 52/107 [03:05<03:18,  3.61s/it]\u001b[A\u001b[A\u001b[A\n",
            "\n",
            "\n",
            " 50%|███████████████████████████████████▋                                    | 53/107 [03:10<03:27,  3.83s/it]\u001b[A\u001b[A\u001b[A\n",
            "\n",
            "\n",
            " 50%|████████████████████████████████████▎                                   | 54/107 [03:15<03:36,  4.09s/it]\u001b[A\u001b[A\u001b[A\n",
            "\n",
            "\n",
            " 51%|█████████████████████████████████████                                   | 55/107 [03:17<03:04,  3.55s/it]\u001b[A\u001b[A\u001b[A\n",
            "\n",
            "\n",
            " 52%|█████████████████████████████████████▋                                  | 56/107 [03:20<02:51,  3.36s/it]\u001b[A\u001b[A\u001b[A\n",
            "\n",
            "\n",
            " 53%|██████████████████████████████████████▎                                 | 57/107 [03:24<02:58,  3.58s/it]\u001b[A\u001b[A\u001b[A\n",
            "\n",
            "\n",
            " 54%|███████████████████████████████████████                                 | 58/107 [03:26<02:36,  3.19s/it]\u001b[A\u001b[A\u001b[A\n",
            "\n",
            "\n",
            " 55%|███████████████████████████████████████▋                                | 59/107 [03:31<02:53,  3.62s/it]\u001b[A\u001b[A\u001b[A\n",
            "\n",
            "\n",
            " 56%|████████████████████████████████████████▎                               | 60/107 [03:32<02:16,  2.90s/it]\u001b[A\u001b[A\u001b[A\n",
            "\n",
            "\n",
            " 57%|█████████████████████████████████████████                               | 61/107 [03:35<02:19,  3.03s/it]\u001b[A\u001b[A\u001b[A\n",
            "\n",
            "\n",
            " 58%|█████████████████████████████████████████▋                              | 62/107 [03:38<02:09,  2.87s/it]\u001b[A\u001b[A\u001b[A\n",
            "\n",
            "\n",
            " 59%|██████████████████████████████████████████▍                             | 63/107 [03:41<02:17,  3.12s/it]\u001b[A\u001b[A\u001b[A\n",
            "\n",
            "\n",
            " 60%|███████████████████████████████████████████                             | 64/107 [03:45<02:20,  3.27s/it]\u001b[A\u001b[A\u001b[A\n",
            "\n",
            "\n",
            " 61%|███████████████████████████████████████████▋                            | 65/107 [03:49<02:21,  3.37s/it]\u001b[A\u001b[A\u001b[A\n",
            "\n",
            "\n",
            " 62%|████████████████████████████████████████████▍                           | 66/107 [03:50<01:49,  2.67s/it]\u001b[A\u001b[A\u001b[A\n",
            "\n",
            "\n",
            " 63%|█████████████████████████████████████████████                           | 67/107 [03:54<02:06,  3.17s/it]\u001b[A\u001b[A\u001b[A\n",
            "\n",
            "\n",
            " 64%|█████████████████████████████████████████████▊                          | 68/107 [03:59<02:27,  3.78s/it]\u001b[A\u001b[A\u001b[A\n",
            "\n",
            "\n",
            " 64%|██████████████████████████████████████████████▍                         | 69/107 [04:02<02:10,  3.43s/it]\u001b[A\u001b[A\u001b[A\n",
            "\n",
            "\n",
            " 65%|███████████████████████████████████████████████                         | 70/107 [04:07<02:25,  3.94s/it]\u001b[A\u001b[A\u001b[A\n",
            "\n",
            "\n",
            " 66%|███████████████████████████████████████████████▊                        | 71/107 [04:12<02:32,  4.23s/it]\u001b[A\u001b[A\u001b[A\n",
            "\n",
            "\n",
            " 67%|████████████████████████████████████████████████▍                       | 72/107 [04:15<02:17,  3.94s/it]\u001b[A\u001b[A\u001b[A\n",
            "\n",
            "\n",
            " 68%|█████████████████████████████████████████████████                       | 73/107 [04:17<01:49,  3.22s/it]\u001b[A\u001b[A\u001b[A\n",
            "\n",
            "\n",
            " 69%|█████████████████████████████████████████████████▊                      | 74/107 [04:20<01:51,  3.38s/it]\u001b[A\u001b[A\u001b[A\n",
            "\n",
            "\n",
            " 70%|██████████████████████████████████████████████████▍                     | 75/107 [04:24<01:48,  3.40s/it]\u001b[A\u001b[A\u001b[A\n",
            "\n",
            "\n",
            " 71%|███████████████████████████████████████████████████▏                    | 76/107 [04:28<01:54,  3.70s/it]\u001b[A\u001b[A\u001b[A\n",
            "\n",
            "\n",
            " 72%|███████████████████████████████████████████████████▊                    | 77/107 [04:30<01:30,  3.01s/it]\u001b[A\u001b[A\u001b[A\n",
            "\n",
            "\n",
            " 73%|████████████████████████████████████████████████████▍                   | 78/107 [04:35<01:47,  3.72s/it]\u001b[A\u001b[A\u001b[A\n",
            "\n",
            "\n",
            " 74%|█████████████████████████████████████████████████████▏                  | 79/107 [04:37<01:27,  3.13s/it]\u001b[A\u001b[A\u001b[A\n",
            "\n",
            "\n",
            " 75%|█████████████████████████████████████████████████████▊                  | 80/107 [04:40<01:23,  3.08s/it]\u001b[A\u001b[A\u001b[A\n",
            "\n",
            "\n",
            " 76%|██████████████████████████████████████████████████████▌                 | 81/107 [04:44<01:30,  3.49s/it]\u001b[A\u001b[A\u001b[A\n",
            "\n",
            "\n",
            " 77%|███████████████████████████████████████████████████████▏                | 82/107 [04:49<01:33,  3.73s/it]\u001b[A\u001b[A\u001b[A\n",
            "\n",
            "\n",
            " 78%|███████████████████████████████████████████████████████▊                | 83/107 [04:54<01:38,  4.12s/it]\u001b[A\u001b[A\u001b[A\n",
            "\n",
            "\n",
            " 79%|████████████████████████████████████████████████████████▌               | 84/107 [04:59<01:40,  4.39s/it]\u001b[A\u001b[A\u001b[A\n",
            "\n",
            "\n",
            " 79%|█████████████████████████████████████████████████████████▏              | 85/107 [05:04<01:45,  4.81s/it]\u001b[A\u001b[A\u001b[A\n",
            "\n",
            "\n",
            " 80%|█████████████████████████████████████████████████████████▊              | 86/107 [05:09<01:37,  4.62s/it]\u001b[A\u001b[A\u001b[A\n",
            "\n",
            "\n",
            " 81%|██████████████████████████████████████████████████████████▌             | 87/107 [05:13<01:30,  4.52s/it]\u001b[A\u001b[A\u001b[A\n",
            "\n",
            "\n",
            " 82%|███████████████████████████████████████████████████████████▏            | 88/107 [05:16<01:20,  4.24s/it]\u001b[A\u001b[A\u001b[A\n",
            "\n",
            "\n",
            " 83%|███████████████████████████████████████████████████████████▉            | 89/107 [05:20<01:14,  4.16s/it]\u001b[A\u001b[A\u001b[A\n",
            "\n",
            "\n",
            " 84%|████████████████████████████████████████████████████████████▌           | 90/107 [05:24<01:08,  4.01s/it]\u001b[A\u001b[A\u001b[A\n",
            "\n",
            "\n",
            " 85%|█████████████████████████████████████████████████████████████▏          | 91/107 [05:28<01:04,  4.05s/it]\u001b[A\u001b[A\u001b[A\n",
            "\n",
            "\n",
            " 86%|█████████████████████████████████████████████████████████████▉          | 92/107 [05:30<00:48,  3.26s/it]\u001b[A\u001b[A\u001b[A\n",
            "\n",
            "\n",
            " 87%|██████████████████████████████████████████████████████████████▌         | 93/107 [05:33<00:47,  3.40s/it]\u001b[A\u001b[A\u001b[A\n",
            "\n",
            "\n",
            " 88%|███████████████████████████████████████████████████████████████▎        | 94/107 [05:38<00:47,  3.62s/it]\u001b[A\u001b[A\u001b[A\n",
            "\n",
            "\n",
            " 89%|███████████████████████████████████████████████████████████████▉        | 95/107 [05:41<00:43,  3.66s/it]\u001b[A\u001b[A\u001b[A\n",
            "\n",
            "\n",
            " 90%|████████████████████████████████████████████████████████████████▌       | 96/107 [05:46<00:43,  3.92s/it]\u001b[A\u001b[A\u001b[A\n",
            "\n",
            "\n",
            " 91%|█████████████████████████████████████████████████████████████████▎      | 97/107 [05:51<00:42,  4.25s/it]\u001b[A\u001b[A\u001b[A\n",
            "\n",
            "\n",
            " 92%|█████████████████████████████████████████████████████████████████▉      | 98/107 [05:55<00:37,  4.21s/it]\u001b[A\u001b[A\u001b[A\n",
            "\n",
            "\n",
            " 93%|██████████████████████████████████████████████████████████████████▌     | 99/107 [05:59<00:33,  4.15s/it]\u001b[A\u001b[A\u001b[A\n",
            "\n",
            "\n",
            " 93%|██████████████████████████████████████████████████████████████████▎    | 100/107 [06:01<00:25,  3.66s/it]\u001b[A\u001b[A\u001b[A\n",
            "\n",
            "\n",
            " 94%|███████████████████████████████████████████████████████████████████    | 101/107 [06:06<00:24,  4.03s/it]\u001b[A\u001b[A\u001b[A\n",
            "\n",
            "\n",
            " 95%|███████████████████████████████████████████████████████████████████▋   | 102/107 [06:12<00:22,  4.45s/it]\u001b[A\u001b[A\u001b[A\n",
            "\n",
            "\n",
            " 96%|████████████████████████████████████████████████████████████████████▎  | 103/107 [06:16<00:17,  4.49s/it]\u001b[A\u001b[A\u001b[A\n",
            "\n",
            "\n",
            " 97%|█████████████████████████████████████████████████████████████████████  | 104/107 [06:21<00:13,  4.54s/it]\u001b[A\u001b[A\u001b[A\n",
            "\n",
            "\n",
            " 98%|█████████████████████████████████████████████████████████████████████▋ | 105/107 [06:26<00:09,  4.80s/it]\u001b[A\u001b[A\u001b[A\n",
            "\n",
            "\n",
            " 99%|██████████████████████████████████████████████████████████████████████▎| 106/107 [06:30<00:04,  4.30s/it]\u001b[A\u001b[A\u001b[A\n",
            "\n",
            "\n",
            "100%|███████████████████████████████████████████████████████████████████████| 107/107 [06:35<00:00,  3.69s/it]\u001b[A\u001b[A\u001b[A\n"
          ]
        },
        {
          "name": "stdout",
          "output_type": "stream",
          "text": [
            "Métricas: \n",
            "              precision    recall  f1-score   support\n",
            "\n",
            "           0      0.912     0.776     0.839        67\n",
            "           1      0.700     0.875     0.778        40\n",
            "\n",
            "    accuracy                          0.813       107\n",
            "   macro avg      0.806     0.826     0.808       107\n",
            "weighted avg      0.833     0.813     0.816       107\n",
            "\n",
            "********** MÉTRICAS **********\n",
            "AUC:  0.826\n",
            "True Positives:  35\n",
            "True Negatives:  52\n",
            "False Positives:  15\n",
            "False Negatives:  5\n",
            "Precisión:  0.7\n",
            "Recall / Sensibilidad:  0.875\n",
            "Accuracy / Exactitud:  0.813\n",
            "Especificidad:  0.776\n",
            "Tasa falsos negativos:  0.125\n",
            "Valor predictivo positivo:  0.7\n",
            "Valor predictivo negativo:  0.912\n",
            "F1-Score:  0.778\n",
            "******************************\n"
          ]
        },
        {
          "name": "stderr",
          "output_type": "stream",
          "text": [
            "\n",
            "  0%|                                                                                 | 0/107 [00:00<?, ?it/s]\u001b[A\n",
            "  1%|▋                                                                        | 1/107 [00:04<08:28,  4.80s/it]\u001b[A\n",
            "  2%|█▎                                                                       | 2/107 [00:08<07:17,  4.16s/it]\u001b[A\n",
            "  3%|██                                                                       | 3/107 [00:09<04:42,  2.72s/it]\u001b[A\n",
            "  4%|██▋                                                                      | 4/107 [00:10<03:48,  2.21s/it]\u001b[A\n",
            "  5%|███▍                                                                     | 5/107 [00:16<05:37,  3.31s/it]\u001b[A\n",
            "  6%|████                                                                     | 6/107 [00:19<05:22,  3.19s/it]\u001b[A\n",
            "  7%|████▊                                                                    | 7/107 [00:21<04:50,  2.90s/it]\u001b[A\n",
            "  7%|█████▍                                                                   | 8/107 [00:26<05:59,  3.63s/it]\u001b[A\n",
            "  8%|██████▏                                                                  | 9/107 [00:32<06:51,  4.20s/it]\u001b[A\n",
            "  9%|██████▋                                                                 | 10/107 [00:35<06:25,  3.97s/it]\u001b[A\n",
            " 10%|███████▍                                                                | 11/107 [00:36<04:41,  2.93s/it]\u001b[A\n",
            " 11%|████████                                                                | 12/107 [00:37<04:00,  2.54s/it]\u001b[A\n",
            " 12%|████████▋                                                               | 13/107 [00:42<05:02,  3.22s/it]\u001b[A\n",
            " 13%|█████████▍                                                              | 14/107 [00:46<05:18,  3.42s/it]\u001b[A\n",
            " 14%|██████████                                                              | 15/107 [00:49<05:15,  3.43s/it]\u001b[A\n",
            " 15%|██████████▊                                                             | 16/107 [00:50<03:54,  2.58s/it]\u001b[A\n",
            " 16%|███████████▍                                                            | 17/107 [00:53<03:56,  2.63s/it]\u001b[A\n",
            " 17%|████████████                                                            | 18/107 [00:56<04:01,  2.71s/it]\u001b[A\n",
            " 18%|████████████▊                                                           | 19/107 [00:59<04:20,  2.96s/it]\u001b[A\n",
            " 19%|█████████████▍                                                          | 20/107 [01:05<05:24,  3.73s/it]\u001b[A\n",
            " 20%|██████████████▏                                                         | 21/107 [01:10<06:11,  4.32s/it]\u001b[A\n",
            " 21%|██████████████▊                                                         | 22/107 [01:16<06:37,  4.68s/it]\u001b[A\n",
            " 21%|███████████████▍                                                        | 23/107 [01:20<06:05,  4.35s/it]\u001b[A\n",
            " 22%|████████████████▏                                                       | 24/107 [01:24<06:15,  4.52s/it]\u001b[A\n",
            " 23%|████████████████▊                                                       | 25/107 [01:29<06:09,  4.50s/it]\u001b[A\n",
            " 24%|█████████████████▍                                                      | 26/107 [01:33<05:53,  4.36s/it]\u001b[A\n",
            " 25%|██████████████████▏                                                     | 27/107 [01:37<05:35,  4.19s/it]\u001b[A\n",
            " 26%|██████████████████▊                                                     | 28/107 [01:39<04:51,  3.69s/it]\u001b[A\n",
            " 27%|███████████████████▌                                                    | 29/107 [01:43<04:46,  3.68s/it]\u001b[A\n",
            " 28%|████████████████████▏                                                   | 30/107 [01:46<04:22,  3.41s/it]\u001b[A\n",
            " 29%|████████████████████▊                                                   | 31/107 [01:51<05:03,  3.99s/it]\u001b[A\n",
            " 30%|█████████████████████▌                                                  | 32/107 [01:55<04:50,  3.88s/it]\u001b[A\n",
            " 31%|██████████████████████▏                                                 | 33/107 [02:00<05:14,  4.25s/it]\u001b[A\n",
            " 32%|██████████████████████▉                                                 | 34/107 [02:05<05:37,  4.62s/it]\u001b[A\n",
            " 33%|███████████████████████▌                                                | 35/107 [02:10<05:33,  4.64s/it]\u001b[A\n",
            " 34%|████████████████████████▏                                               | 36/107 [02:15<05:37,  4.75s/it]\u001b[A\n",
            " 35%|████████████████████████▉                                               | 37/107 [02:19<05:20,  4.58s/it]\u001b[A\n",
            " 36%|█████████████████████████▌                                              | 38/107 [02:21<04:26,  3.86s/it]\u001b[A\n",
            " 36%|██████████████████████████▏                                             | 39/107 [02:27<04:55,  4.34s/it]\u001b[A\n",
            " 37%|██████████████████████████▉                                             | 40/107 [02:32<05:06,  4.57s/it]\u001b[A\n",
            " 38%|███████████████████████████▌                                            | 41/107 [02:35<04:30,  4.09s/it]\u001b[A\n",
            " 39%|████████████████████████████▎                                           | 42/107 [02:38<04:14,  3.91s/it]\u001b[A\n",
            " 40%|████████████████████████████▉                                           | 43/107 [02:44<04:43,  4.44s/it]\u001b[A\n",
            " 41%|█████████████████████████████▌                                          | 44/107 [02:48<04:37,  4.41s/it]\u001b[A\n",
            " 42%|██████████████████████████████▎                                         | 45/107 [02:52<04:15,  4.12s/it]\u001b[A\n",
            " 43%|██████████████████████████████▉                                         | 46/107 [02:56<04:09,  4.08s/it]\u001b[A\n",
            " 44%|███████████████████████████████▋                                        | 47/107 [03:00<04:10,  4.18s/it]\u001b[A\n",
            " 45%|████████████████████████████████▎                                       | 48/107 [03:05<04:19,  4.39s/it]\u001b[A\n",
            " 46%|████████████████████████████████▉                                       | 49/107 [03:09<03:59,  4.13s/it]\u001b[A\n",
            " 47%|█████████████████████████████████▋                                      | 50/107 [03:13<03:59,  4.21s/it]\u001b[A\n",
            " 48%|██████████████████████████████████▎                                     | 51/107 [03:17<04:00,  4.29s/it]\u001b[A\n",
            " 49%|██████████████████████████████████▉                                     | 52/107 [03:22<03:55,  4.28s/it]\u001b[A\n",
            " 50%|███████████████████████████████████▋                                    | 53/107 [03:27<04:09,  4.63s/it]\u001b[A\n",
            " 50%|████████████████████████████████████▎                                   | 54/107 [03:32<04:11,  4.74s/it]\u001b[A\n",
            " 51%|█████████████████████████████████████                                   | 55/107 [03:37<04:06,  4.75s/it]\u001b[A\n",
            " 52%|█████████████████████████████████████▋                                  | 56/107 [03:41<03:48,  4.48s/it]\u001b[A\n",
            " 53%|██████████████████████████████████████▎                                 | 57/107 [03:42<02:55,  3.50s/it]\u001b[A\n",
            " 54%|███████████████████████████████████████                                 | 58/107 [03:46<03:05,  3.79s/it]\u001b[A\n",
            " 55%|███████████████████████████████████████▋                                | 59/107 [03:50<02:56,  3.67s/it]\u001b[A\n",
            " 56%|████████████████████████████████████████▎                               | 60/107 [03:54<03:03,  3.90s/it]\u001b[A\n",
            " 57%|█████████████████████████████████████████                               | 61/107 [03:59<03:10,  4.13s/it]\u001b[A\n",
            " 58%|█████████████████████████████████████████▋                              | 62/107 [04:05<03:26,  4.58s/it]\u001b[A\n",
            " 59%|██████████████████████████████████████████▍                             | 63/107 [04:08<03:08,  4.29s/it]\u001b[A\n",
            " 60%|███████████████████████████████████████████                             | 64/107 [04:11<02:42,  3.77s/it]\u001b[A\n",
            " 61%|███████████████████████████████████████████▋                            | 65/107 [04:13<02:19,  3.32s/it]\u001b[A\n",
            " 62%|████████████████████████████████████████████▍                           | 66/107 [04:18<02:41,  3.94s/it]\u001b[A\n",
            " 63%|█████████████████████████████████████████████                           | 67/107 [04:23<02:45,  4.13s/it]\u001b[A\n",
            " 64%|█████████████████████████████████████████████▊                          | 68/107 [04:28<02:51,  4.41s/it]\u001b[A\n",
            " 64%|██████████████████████████████████████████████▍                         | 69/107 [04:33<02:50,  4.50s/it]\u001b[A\n",
            " 65%|███████████████████████████████████████████████                         | 70/107 [04:37<02:38,  4.29s/it]\u001b[A\n",
            " 66%|███████████████████████████████████████████████▊                        | 71/107 [04:40<02:20,  3.91s/it]\u001b[A\n",
            " 67%|████████████████████████████████████████████████▍                       | 72/107 [04:42<01:58,  3.38s/it]\u001b[A\n",
            " 68%|█████████████████████████████████████████████████                       | 73/107 [04:46<02:08,  3.79s/it]\u001b[A\n",
            " 69%|█████████████████████████████████████████████████▊                      | 74/107 [04:52<02:23,  4.34s/it]\u001b[A\n",
            " 70%|██████████████████████████████████████████████████▍                     | 75/107 [04:57<02:22,  4.46s/it]\u001b[A\n",
            " 71%|███████████████████████████████████████████████████▏                    | 76/107 [04:59<02:00,  3.90s/it]\u001b[A\n",
            " 72%|███████████████████████████████████████████████████▊                    | 77/107 [05:05<02:10,  4.34s/it]\u001b[A\n",
            " 73%|████████████████████████████████████████████████████▍                   | 78/107 [05:07<01:45,  3.64s/it]\u001b[A\n",
            " 74%|█████████████████████████████████████████████████████▏                  | 79/107 [05:08<01:17,  2.76s/it]\u001b[A\n",
            " 75%|█████████████████████████████████████████████████████▊                  | 80/107 [05:08<00:57,  2.12s/it]\u001b[A\n",
            " 76%|██████████████████████████████████████████████████████▌                 | 81/107 [05:09<00:43,  1.67s/it]\u001b[A\n",
            " 77%|███████████████████████████████████████████████████████▏                | 82/107 [05:11<00:42,  1.71s/it]\u001b[A\n",
            " 78%|███████████████████████████████████████████████████████▊                | 83/107 [05:13<00:45,  1.90s/it]\u001b[A\n",
            " 79%|████████████████████████████████████████████████████████▌               | 84/107 [05:14<00:36,  1.57s/it]\u001b[A\n",
            " 79%|█████████████████████████████████████████████████████████▏              | 85/107 [05:15<00:29,  1.34s/it]\u001b[A\n",
            " 80%|█████████████████████████████████████████████████████████▊              | 86/107 [05:17<00:35,  1.68s/it]\u001b[A\n",
            " 81%|██████████████████████████████████████████████████████████▌             | 87/107 [05:22<00:51,  2.60s/it]\u001b[A\n",
            " 82%|███████████████████████████████████████████████████████████▏            | 88/107 [05:27<01:06,  3.51s/it]\u001b[A\n",
            " 83%|███████████████████████████████████████████████████████████▉            | 89/107 [05:32<01:10,  3.93s/it]\u001b[A\n",
            " 84%|████████████████████████████████████████████████████████████▌           | 90/107 [05:36<01:07,  3.98s/it]\u001b[A\n",
            " 85%|█████████████████████████████████████████████████████████████▏          | 91/107 [05:41<01:05,  4.09s/it]\u001b[A\n",
            " 86%|█████████████████████████████████████████████████████████████▉          | 92/107 [05:46<01:04,  4.31s/it]\u001b[A\n",
            " 87%|██████████████████████████████████████████████████████████████▌         | 93/107 [05:50<00:59,  4.26s/it]\u001b[A\n",
            " 88%|███████████████████████████████████████████████████████████████▎        | 94/107 [05:55<01:00,  4.63s/it]\u001b[A\n",
            " 89%|███████████████████████████████████████████████████████████████▉        | 95/107 [05:58<00:49,  4.11s/it]\u001b[A\n",
            " 90%|████████████████████████████████████████████████████████████████▌       | 96/107 [06:00<00:37,  3.38s/it]\u001b[A\n",
            " 91%|█████████████████████████████████████████████████████████████████▎      | 97/107 [06:03<00:33,  3.34s/it]\u001b[A\n",
            " 92%|█████████████████████████████████████████████████████████████████▉      | 98/107 [06:04<00:23,  2.64s/it]\u001b[A\n",
            " 93%|██████████████████████████████████████████████████████████████████▌     | 99/107 [06:10<00:28,  3.55s/it]\u001b[A\n",
            " 93%|██████████████████████████████████████████████████████████████████▎    | 100/107 [06:13<00:24,  3.55s/it]\u001b[A\n",
            " 94%|███████████████████████████████████████████████████████████████████    | 101/107 [06:15<00:18,  3.09s/it]\u001b[A\n",
            " 95%|███████████████████████████████████████████████████████████████████▋   | 102/107 [06:19<00:16,  3.38s/it]\u001b[A\n",
            " 96%|████████████████████████████████████████████████████████████████████▎  | 103/107 [06:24<00:14,  3.71s/it]\u001b[A\n",
            " 97%|█████████████████████████████████████████████████████████████████████  | 104/107 [06:30<00:13,  4.38s/it]\u001b[A\n",
            " 98%|█████████████████████████████████████████████████████████████████████▋ | 105/107 [06:36<00:09,  4.89s/it]\u001b[A\n",
            " 99%|██████████████████████████████████████████████████████████████████████▎| 106/107 [06:42<00:05,  5.12s/it]\u001b[A\n",
            "100%|███████████████████████████████████████████████████████████████████████| 107/107 [06:46<00:00,  3.80s/it]\u001b[A"
          ]
        },
        {
          "name": "stdout",
          "output_type": "stream",
          "text": [
            "Métricas: \n",
            "00008C\n",
            "00063C\n",
            "00015C\n",
            "00159\n",
            "00027\n",
            "00135\n",
            "00047\n",
            "00109\n",
            "00004\n",
            "00181\n",
            "00065\n",
            "00050\n",
            "00101\n",
            "00118C\n",
            "00144\n",
            "00112\n",
            "00002\n",
            "00072C\n",
            "00143\n",
            "00061\n"
          ]
        },
        {
          "name": "stderr",
          "output_type": "stream",
          "text": [
            "\n"
          ]
        },
        {
          "data": {
            "image/png": "[encoded data removed]",
            "text/plain": [
              "<Figure size 216x216 with 1 Axes>"
            ]
          },
          "metadata": {
            "needs_background": "light"
          },
          "output_type": "display_data"
        },
        {
          "data": {
            "image/png": "[encoded data removed]",
            "text/plain": [
              "<Figure size 216x216 with 1 Axes>"
            ]
          },
          "metadata": {
            "needs_background": "light"
          },
          "output_type": "display_data"
        }
      ],
      "source": [
        "#DETR BB prediction\n",
        "images = detr_dict['test']['image']\n",
        "true_labels = detr_dict['test']['labels']\n",
        "prediccion_final(images,true_labels)\n",
        "get_failed(images,true_labels)"
      ]
    },
    {
      "cell_type": "code",
      "execution_count": null,
      "id": "d4860e20-362e-42a1-8bbd-6a8e58a916b3",
      "metadata": {
        "id": "d4860e20-362e-42a1-8bbd-6a8e58a916b3",
        "outputId": "c337d44b-0faa-4d62-a498-5f572fc2dec6"
      },
      "outputs": [
        {
          "name": "stderr",
          "output_type": "stream",
          "text": [
            "100%|███████████████████████████████████████████████████████████████████████| 107/107 [01:32<00:00,  1.16it/s]\n"
          ]
        },
        {
          "name": "stdout",
          "output_type": "stream",
          "text": [
            "Métricas: \n",
            "              precision    recall  f1-score   support\n",
            "\n",
            "           0      0.912     0.776     0.839        67\n",
            "           1      0.700     0.875     0.778        40\n",
            "\n",
            "    accuracy                          0.813       107\n",
            "   macro avg      0.806     0.826     0.808       107\n",
            "weighted avg      0.833     0.813     0.816       107\n",
            "\n",
            "********** MÉTRICAS **********\n",
            "AUC:  0.826\n",
            "True Positives:  35\n",
            "True Negatives:  52\n",
            "False Positives:  15\n",
            "False Negatives:  5\n",
            "Precisión:  0.7\n",
            "Recall / Sensibilidad:  0.875\n",
            "Accuracy / Exactitud:  0.813\n",
            "Especificidad:  0.776\n",
            "Tasa falsos negativos:  0.125\n",
            "Valor predictivo positivo:  0.7\n",
            "Valor predictivo negativo:  0.912\n",
            "F1-Score:  0.778\n",
            "******************************\n"
          ]
        },
        {
          "data": {
            "image/png": "[encoded data removed]",
            "text/plain": [
              "<Figure size 216x216 with 1 Axes>"
            ]
          },
          "metadata": {
            "needs_background": "light"
          },
          "output_type": "display_data"
        }
      ],
      "source": [
        "#Test Prediction- DETR bbox\n",
        "images = detr_dict['test']['image']\n",
        "true_labels = detr_dict['test']['labels']\n",
        "prediccion_final(images,true_labels)"
      ]
    },
    {
      "cell_type": "code",
      "execution_count": null,
      "id": "4bd8358a-b2e9-463c-8695-bb59077839d4",
      "metadata": {
        "colab": {
          "referenced_widgets": [
            "4d8504b6b3ed4e62b6f501e3b61cc920",
            "0e361e601e7e42d9b9f7258abb6ba5fc",
            "92cbdb2a9bb84f94875ef60903a2705a"
          ]
        },
        "id": "4bd8358a-b2e9-463c-8695-bb59077839d4",
        "outputId": "aaa1a8db-ec4c-4a7c-c1c0-f7927e0e54eb"
      },
      "outputs": [
        {
          "data": {
            "application/vnd.jupyter.widget-view+json": {
              "model_id": "4d8504b6b3ed4e62b6f501e3b61cc920",
              "version_major": 2,
              "version_minor": 0
            },
            "text/plain": [
              "Procesando conjunto DETR_test:   0%|          | 0/107 [00:00<?, ?it/s]"
            ]
          },
          "metadata": {},
          "output_type": "display_data"
        },
        {
          "data": {
            "application/vnd.jupyter.widget-view+json": {
              "model_id": "0e361e601e7e42d9b9f7258abb6ba5fc",
              "version_major": 2,
              "version_minor": 0
            },
            "text/plain": [
              "Procesando conjunto DETR_valid:   0%|          | 0/810 [00:00<?, ?it/s]"
            ]
          },
          "metadata": {},
          "output_type": "display_data"
        },
        {
          "data": {
            "application/vnd.jupyter.widget-view+json": {
              "model_id": "92cbdb2a9bb84f94875ef60903a2705a",
              "version_major": 2,
              "version_minor": 0
            },
            "text/plain": [
              "Procesando conjunto DETR_train:   0%|          | 0/1605 [00:00<?, ?it/s]"
            ]
          },
          "metadata": {},
          "output_type": "display_data"
        }
      ],
      "source": [
        "#get_attentions_maps(detr_dict,prefijo='DETR_')\n",
        "prefijo='DETR_'\n",
        "sets = ['test','valid','train']\n",
        "for s in sets:\n",
        "    data = detr_dict[s]\n",
        "    try:\n",
        "        os.makedirs('./data_Balanced/ViT_Attention_Maps/'+prefijo+s)\n",
        "        os.makedirs('./data_Balanced/ViT_Attention_Maps/'+prefijo+s+'/Cáncer')\n",
        "        os.makedirs('./data_Balanced/ViT_Attention_Maps/'+prefijo+s+'/Control')\n",
        "    except OSError as e:\n",
        "        if e.errno != errno.EEXIST:\n",
        "            raise\n",
        "\n",
        "    for i in trange(len(data),desc=\"Procesando conjunto \"+prefijo+s):\n",
        "        image = data['image'][i]\n",
        "        name = data['image'][i].split('/')[-1].split('.')[0]\n",
        "\n",
        "        if 'C' in name:\n",
        "            dir = './data_Balanced/ViT_Attention_Maps/'+prefijo+s+'/Cáncer/'+name\n",
        "        else:\n",
        "            dir = './data_Balanced/ViT_Attention_Maps/'+prefijo+s+'/Control/'+name\n",
        "\n",
        "        input = feature_extractor([PIL.Image.open(image).convert(\"RGB\")], return_tensors='pt')['pixel_values']\n",
        "        with torch.no_grad():\n",
        "            pred = model(input, output_attentions=True,interpolate_pos_encoding=True)\n",
        "            save_attention(pred,input,dir)"
      ]
    },
    {
      "cell_type": "code",
      "execution_count": null,
      "id": "12f15a04",
      "metadata": {
        "id": "12f15a04"
      },
      "outputs": [],
      "source": [
        "#DETR  prediction files\n",
        "output_file_path='probs_ViT_DETR.csv'\n",
        "sets = ['test','valid','train']\n",
        "for s in sets:\n",
        "    data=[]\n",
        "    images = detr_dict[s]['image']\n",
        "    true_labels = detr_dict[s]['labels']\n",
        "\n",
        "    get_probabilities(images,true_labels,s)\n",
        "\n",
        "    columns = ['conjunto','name_imagen','true_class','pred_class','prob_class0','prob_class1']\n",
        "    df = pd.DataFrame(data,columns=columns)\n",
        "\n",
        "    if os.path.exists(output_file_path):\n",
        "        existing_df = pd.read_csv(output_file_path)\n",
        "        # Concatenar el DataFrame existente y el nuevo DataFrame\n",
        "        final_df = pd.concat([existing_df, df], ignore_index=True)\n",
        "    else:\n",
        "        final_df = df\n",
        "\n",
        "    # Guardar el DataFrame actualizado en el mismo archivo CSV\n",
        "    final_df.to_csv(output_file_path, index=False)"
      ]
    },
    {
      "cell_type": "markdown",
      "id": "8d2f9b05-bd95-4bc9-b3af-1fdc2a019166",
      "metadata": {
        "jp-MarkdownHeadingCollapsed": true,
        "id": "8d2f9b05-bd95-4bc9-b3af-1fdc2a019166"
      },
      "source": [
        "#### About train & valid data"
      ]
    },
    {
      "cell_type": "code",
      "execution_count": null,
      "id": "33834e81-7e8c-4c7a-8a30-2e4ddf9702b3",
      "metadata": {
        "id": "33834e81-7e8c-4c7a-8a30-2e4ddf9702b3",
        "outputId": "37ce8d89-90c7-483b-d17b-e261bbc9ea9e"
      },
      "outputs": [
        {
          "name": "stderr",
          "output_type": "stream",
          "text": [
            "100%|█████████████████████████████████████████████████████████████████████| 1605/1605 [03:18<00:00,  8.07it/s]\n"
          ]
        },
        {
          "name": "stdout",
          "output_type": "stream",
          "text": [
            "Métricas: \n",
            "              precision    recall  f1-score   support\n",
            "\n",
            "           0      1.000     1.000     1.000       810\n",
            "           1      1.000     1.000     1.000       795\n",
            "\n",
            "    accuracy                          1.000      1605\n",
            "   macro avg      1.000     1.000     1.000      1605\n",
            "weighted avg      1.000     1.000     1.000      1605\n",
            "\n"
          ]
        },
        {
          "data": {
            "image/png": "[encoded data removed]",
            "text/plain": [
              "<Figure size 300x300 with 1 Axes>"
            ]
          },
          "metadata": {},
          "output_type": "display_data"
        }
      ],
      "source": [
        "#TRAIN - GOLD Det - Prediction\n",
        "images = Ddata_dict['train']['image']\n",
        "true_labels = Ddata_dict['train']['labels']\n",
        "predicted=[]\n",
        "\n",
        "for ruta in tqdm(images):\n",
        "    preprocessed_test_image = feature_extractor([PIL.Image.open(ruta).convert(\"RGB\")], return_tensors='pt')['pixel_values']\n",
        "    with torch.no_grad():\n",
        "        preds = model(preprocessed_test_image, output_attentions=True)\n",
        "        predicted.append(preds)\n",
        "\n",
        "my_preds=[pred.logits.argmax().cpu().numpy().tolist() for pred in predicted]\n",
        "\n",
        "print(\"Métricas: \")\n",
        "matc=confusion_matrix(true_labels,\n",
        "                      my_preds)\n",
        "# Crear una figura y un eje\n",
        "fig, ax = plt.subplots(figsize=(3,3))\n",
        "# Mostrar la matriz de confusión con etiquetas personalizadas\n",
        "ax.imshow(matc, interpolation='nearest',cmap=cm.Blues)\n",
        "\n",
        "# Configurar etiquetas en los ejes\n",
        "ax.set_xticks(np.arange(len(labels)))\n",
        "ax.set_yticks(np.arange(len(labels)))\n",
        "ax.set_xticklabels(labels)\n",
        "ax.set_yticklabels(labels,rotation=90)\n",
        "\n",
        "ax.set_xlabel('Predicciones')\n",
        "ax.set_ylabel('Etiquetas Verdaderas')\n",
        "# Agregar etiquetas a cada celda\n",
        "thresh = matc.max() / 2.0\n",
        "for i in range(matc.shape[0]):\n",
        "    for j in range(matc.shape[1]):\n",
        "        ax.text(j, i, format(matc[i, j], 'd'),\n",
        "                ha=\"center\", va=\"center\",\n",
        "                color=\"white\" if matc[i, j] > thresh else \"black\")\n",
        "plt.tight_layout()\n",
        "\n",
        "from sklearn import metrics as pred_metrics\n",
        "print(pred_metrics.classification_report(true_labels, my_preds, digits = 3))"
      ]
    },
    {
      "cell_type": "code",
      "execution_count": null,
      "id": "9f20202b-596c-43ed-86cf-06708fe2cafa",
      "metadata": {
        "id": "9f20202b-596c-43ed-86cf-06708fe2cafa",
        "outputId": "b25303d4-374f-4ee1-ba6b-eee6e398c371"
      },
      "outputs": [
        {
          "name": "stderr",
          "output_type": "stream",
          "text": [
            "100%|███████████████████████████████████████████████████████████████████████| 810/810 [01:38<00:00,  8.21it/s]\n"
          ]
        },
        {
          "name": "stdout",
          "output_type": "stream",
          "text": [
            "Métricas: \n",
            "              precision    recall  f1-score   support\n",
            "\n",
            "           0      0.963     0.953     0.958       405\n",
            "           1      0.954     0.963     0.958       405\n",
            "\n",
            "    accuracy                          0.958       810\n",
            "   macro avg      0.958     0.958     0.958       810\n",
            "weighted avg      0.958     0.958     0.958       810\n",
            "\n"
          ]
        },
        {
          "data": {
            "image/png": "[encoded data removed]",
            "text/plain": [
              "<Figure size 300x300 with 1 Axes>"
            ]
          },
          "metadata": {},
          "output_type": "display_data"
        }
      ],
      "source": [
        "#VALID - GOLD Det - Prediction\n",
        "images = Ddata_dict['valid']['image']\n",
        "true_labels = Ddata_dict['valid']['labels']\n",
        "predicted=[]\n",
        "\n",
        "for ruta in tqdm(images):\n",
        "    preprocessed_test_image = feature_extractor([PIL.Image.open(ruta).convert(\"RGB\")], return_tensors='pt')['pixel_values']\n",
        "    with torch.no_grad():\n",
        "        preds = model(preprocessed_test_image, output_attentions=True)\n",
        "        predicted.append(preds)\n",
        "\n",
        "my_preds=[pred.logits.argmax().cpu().numpy().tolist() for pred in predicted]\n",
        "\n",
        "print(\"Métricas: \")\n",
        "matc=confusion_matrix(true_labels,\n",
        "                      my_preds)\n",
        "# Crear una figura y un eje\n",
        "fig, ax = plt.subplots(figsize=(3,3))\n",
        "# Mostrar la matriz de confusión con etiquetas personalizadas\n",
        "ax.imshow(matc, interpolation='nearest',cmap=cm.Blues)\n",
        "\n",
        "# Configurar etiquetas en los ejes\n",
        "ax.set_xticks(np.arange(len(labels)))\n",
        "ax.set_yticks(np.arange(len(labels)))\n",
        "ax.set_xticklabels(labels)\n",
        "ax.set_yticklabels(labels,rotation=90)\n",
        "\n",
        "ax.set_xlabel('Predicciones')\n",
        "ax.set_ylabel('Etiquetas Verdaderas')\n",
        "# Agregar etiquetas a cada celda\n",
        "thresh = matc.max() / 2.0\n",
        "for i in range(matc.shape[0]):\n",
        "    for j in range(matc.shape[1]):\n",
        "        ax.text(j, i, format(matc[i, j], 'd'),\n",
        "                ha=\"center\", va=\"center\",\n",
        "                color=\"white\" if matc[i, j] > thresh else \"black\")\n",
        "plt.tight_layout()\n",
        "\n",
        "from sklearn import metrics as pred_metrics\n",
        "print(pred_metrics.classification_report(true_labels, my_preds, digits = 3))"
      ]
    },
    {
      "cell_type": "code",
      "execution_count": null,
      "id": "b88ae6bf-2dad-4eee-9d39-bfc2919e7eca",
      "metadata": {
        "id": "b88ae6bf-2dad-4eee-9d39-bfc2919e7eca",
        "outputId": "acdecc26-a3dc-4674-f4c0-22aceaca5d18"
      },
      "outputs": [
        {
          "name": "stderr",
          "output_type": "stream",
          "text": [
            "100%|█████████████████████████████████████████████████████████████████████| 1605/1605 [03:19<00:00,  8.03it/s]\n"
          ]
        },
        {
          "name": "stdout",
          "output_type": "stream",
          "text": [
            "Métricas: \n",
            "              precision    recall  f1-score   support\n",
            "\n",
            "           0      0.998     0.642     0.781       810\n",
            "           1      0.732     0.999     0.845       795\n",
            "\n",
            "    accuracy                          0.819      1605\n",
            "   macro avg      0.865     0.820     0.813      1605\n",
            "weighted avg      0.867     0.819     0.813      1605\n",
            "\n"
          ]
        },
        {
          "data": {
            "image/png": "[encoded data removed]",
            "text/plain": [
              "<Figure size 300x300 with 1 Axes>"
            ]
          },
          "metadata": {},
          "output_type": "display_data"
        }
      ],
      "source": [
        "#TRAIN - DETR - Prediction\n",
        "images = detr_dict['train']['image']\n",
        "true_labels = detr_dict['train']['labels']\n",
        "predicted=[]\n",
        "\n",
        "for ruta in tqdm(images):\n",
        "    preprocessed_test_image = feature_extractor([PIL.Image.open(ruta).convert(\"RGB\")], return_tensors='pt')['pixel_values']\n",
        "    with torch.no_grad():\n",
        "        preds = model(preprocessed_test_image, output_attentions=True)\n",
        "        predicted.append(preds)\n",
        "\n",
        "my_preds=[pred.logits.argmax().cpu().numpy().tolist() for pred in predicted]\n",
        "\n",
        "print(\"Métricas: \")\n",
        "matc=confusion_matrix(true_labels,\n",
        "                      my_preds)\n",
        "# Crear una figura y un eje\n",
        "fig, ax = plt.subplots(figsize=(3,3))\n",
        "# Mostrar la matriz de confusión con etiquetas personalizadas\n",
        "ax.imshow(matc, interpolation='nearest',cmap=cm.Blues)\n",
        "\n",
        "# Configurar etiquetas en los ejes\n",
        "ax.set_xticks(np.arange(len(labels)))\n",
        "ax.set_yticks(np.arange(len(labels)))\n",
        "ax.set_xticklabels(labels)\n",
        "ax.set_yticklabels(labels,rotation=90)\n",
        "\n",
        "ax.set_xlabel('Predicciones')\n",
        "ax.set_ylabel('Etiquetas Verdaderas')\n",
        "# Agregar etiquetas a cada celda\n",
        "thresh = matc.max() / 2.0\n",
        "for i in range(matc.shape[0]):\n",
        "    for j in range(matc.shape[1]):\n",
        "        ax.text(j, i, format(matc[i, j], 'd'),\n",
        "                ha=\"center\", va=\"center\",\n",
        "                color=\"white\" if matc[i, j] > thresh else \"black\")\n",
        "plt.tight_layout()\n",
        "\n",
        "from sklearn import metrics as pred_metrics\n",
        "print(pred_metrics.classification_report(true_labels, my_preds, digits = 3))"
      ]
    },
    {
      "cell_type": "code",
      "execution_count": null,
      "id": "f7b7fc47-ad4a-4960-b113-7ba6496ce3fb",
      "metadata": {
        "id": "f7b7fc47-ad4a-4960-b113-7ba6496ce3fb",
        "outputId": "e9ae7657-1fc6-4df9-d293-a49ce12c9609"
      },
      "outputs": [
        {
          "name": "stderr",
          "output_type": "stream",
          "text": [
            "100%|███████████████████████████████████████████████████████████████████████| 810/810 [01:47<00:00,  7.56it/s]\n"
          ]
        },
        {
          "name": "stdout",
          "output_type": "stream",
          "text": [
            "Métricas: \n",
            "              precision    recall  f1-score   support\n",
            "\n",
            "           0      0.897     0.667     0.765       405\n",
            "           1      0.735     0.923     0.818       405\n",
            "\n",
            "    accuracy                          0.795       810\n",
            "   macro avg      0.816     0.795     0.792       810\n",
            "weighted avg      0.816     0.795     0.792       810\n",
            "\n"
          ]
        },
        {
          "data": {
            "image/png": "[encoded data removed]",
            "text/plain": [
              "<Figure size 300x300 with 1 Axes>"
            ]
          },
          "metadata": {},
          "output_type": "display_data"
        }
      ],
      "source": [
        "#VALID - DETR - Prediction\n",
        "images = detr_dict['valid']['image']\n",
        "true_labels = detr_dict['valid']['labels']\n",
        "predicted=[]\n",
        "\n",
        "for ruta in tqdm(images):\n",
        "    preprocessed_test_image = feature_extractor([PIL.Image.open(ruta).convert(\"RGB\")], return_tensors='pt')['pixel_values']\n",
        "    with torch.no_grad():\n",
        "        preds = model(preprocessed_test_image, output_attentions=True)\n",
        "        predicted.append(preds)\n",
        "\n",
        "my_preds=[pred.logits.argmax().cpu().numpy().tolist() for pred in predicted]\n",
        "\n",
        "print(\"Métricas: \")\n",
        "matc=confusion_matrix(true_labels,\n",
        "                      my_preds)\n",
        "# Crear una figura y un eje\n",
        "fig, ax = plt.subplots(figsize=(3,3))\n",
        "# Mostrar la matriz de confusión con etiquetas personalizadas\n",
        "ax.imshow(matc, interpolation='nearest',cmap=cm.Blues)\n",
        "\n",
        "# Configurar etiquetas en los ejes\n",
        "ax.set_xticks(np.arange(len(labels)))\n",
        "ax.set_yticks(np.arange(len(labels)))\n",
        "ax.set_xticklabels(labels)\n",
        "ax.set_yticklabels(labels,rotation=90)\n",
        "\n",
        "ax.set_xlabel('Predicciones')\n",
        "ax.set_ylabel('Etiquetas Verdaderas')\n",
        "# Agregar etiquetas a cada celda\n",
        "thresh = matc.max() / 2.0\n",
        "for i in range(matc.shape[0]):\n",
        "    for j in range(matc.shape[1]):\n",
        "        ax.text(j, i, format(matc[i, j], 'd'),\n",
        "                ha=\"center\", va=\"center\",\n",
        "                color=\"white\" if matc[i, j] > thresh else \"black\")\n",
        "plt.tight_layout()\n",
        "\n",
        "from sklearn import metrics as pred_metrics\n",
        "print(pred_metrics.classification_report(true_labels, my_preds, digits = 3))"
      ]
    },
    {
      "cell_type": "markdown",
      "id": "5f8d842e-f159-423a-8dd7-d0c9d0523e81",
      "metadata": {
        "id": "5f8d842e-f159-423a-8dd7-d0c9d0523e81"
      },
      "source": [
        "### SAM"
      ]
    },
    {
      "cell_type": "code",
      "execution_count": null,
      "id": "b5c4e04e-09d6-41f0-adf9-812a5b876724",
      "metadata": {
        "id": "b5c4e04e-09d6-41f0-adf9-812a5b876724",
        "outputId": "b0433f45-a2d6-4f94-c00d-326ff46ce46d"
      },
      "outputs": [
        {
          "name": "stderr",
          "output_type": "stream",
          "text": [
            "Some weights of ViTForImageClassification were not initialized from the model checkpoint at google/vit-base-patch16-224-in21k and are newly initialized: ['classifier.bias', 'classifier.weight']\n",
            "You should probably TRAIN this model on a down-stream task to be able to use it for predictions and inference.\n"
          ]
        },
        {
          "data": {
            "text/plain": [
              "ViTForImageClassification(\n",
              "  (vit): ViTModel(\n",
              "    (embeddings): ViTEmbeddings(\n",
              "      (patch_embeddings): ViTPatchEmbeddings(\n",
              "        (projection): Conv2d(3, 768, kernel_size=(16, 16), stride=(16, 16))\n",
              "      )\n",
              "      (dropout): Dropout(p=0.0, inplace=False)\n",
              "    )\n",
              "    (encoder): ViTEncoder(\n",
              "      (layer): ModuleList(\n",
              "        (0-11): 12 x ViTLayer(\n",
              "          (attention): ViTAttention(\n",
              "            (attention): ViTSelfAttention(\n",
              "              (query): Linear(in_features=768, out_features=768, bias=True)\n",
              "              (key): Linear(in_features=768, out_features=768, bias=True)\n",
              "              (value): Linear(in_features=768, out_features=768, bias=True)\n",
              "              (dropout): Dropout(p=0.0, inplace=False)\n",
              "            )\n",
              "            (output): ViTSelfOutput(\n",
              "              (dense): Linear(in_features=768, out_features=768, bias=True)\n",
              "              (dropout): Dropout(p=0.0, inplace=False)\n",
              "            )\n",
              "          )\n",
              "          (intermediate): ViTIntermediate(\n",
              "            (dense): Linear(in_features=768, out_features=3072, bias=True)\n",
              "            (intermediate_act_fn): GELUActivation()\n",
              "          )\n",
              "          (output): ViTOutput(\n",
              "            (dense): Linear(in_features=3072, out_features=768, bias=True)\n",
              "            (dropout): Dropout(p=0.0, inplace=False)\n",
              "          )\n",
              "          (layernorm_before): LayerNorm((768,), eps=1e-12, elementwise_affine=True)\n",
              "          (layernorm_after): LayerNorm((768,), eps=1e-12, elementwise_affine=True)\n",
              "        )\n",
              "      )\n",
              "    )\n",
              "    (layernorm): LayerNorm((768,), eps=1e-12, elementwise_affine=True)\n",
              "  )\n",
              "  (classifier): Linear(in_features=768, out_features=2, bias=True)\n",
              ")"
            ]
          },
          "execution_count": 49,
          "metadata": {},
          "output_type": "execute_result"
        }
      ],
      "source": [
        "model = ViTForImageClassification.from_pretrained(model_checkpoint,\n",
        "                                                  num_labels=len(labels),\n",
        "                                                  id2label=id2label,\n",
        "                                                  label2id=label2id)\n",
        "model.load_state_dict(torch.load(\"./ViTresults/segmentation_Balanced/SViT.pth\"))\n",
        "model.eval()"
      ]
    },
    {
      "cell_type": "code",
      "execution_count": null,
      "id": "96081836-c7e0-4cdf-ac95-63417673ebf6",
      "metadata": {
        "id": "96081836-c7e0-4cdf-ac95-63417673ebf6",
        "outputId": "8991eee8-a0b5-4b7d-de6b-5c295b100ce8"
      },
      "outputs": [
        {
          "name": "stderr",
          "output_type": "stream",
          "text": [
            "100%|███████████████████████████████████████████████████████████████████████| 107/107 [04:02<00:00,  2.27s/it]"
          ]
        },
        {
          "name": "stdout",
          "output_type": "stream",
          "text": [
            "Métricas: \n",
            "              precision    recall  f1-score   support\n",
            "\n",
            "           0      0.970     0.970     0.970        67\n",
            "           1      0.950     0.950     0.950        40\n",
            "\n",
            "    accuracy                          0.963       107\n",
            "   macro avg      0.960     0.960     0.960       107\n",
            "weighted avg      0.963     0.963     0.963       107\n",
            "\n",
            "********** MÉTRICAS **********\n",
            "AUC:  0.96\n",
            "True Positives:  38\n",
            "True Negatives:  65\n",
            "False Positives:  2\n",
            "False Negatives:  2\n",
            "Precisión:  0.95\n",
            "Recall / Sensibilidad:  0.95\n",
            "Accuracy / Exactitud:  0.963\n",
            "Especificidad:  0.97\n",
            "Tasa falsos negativos:  0.05\n",
            "Valor predictivo positivo:  0.95\n",
            "Valor predictivo negativo:  0.97\n",
            "F1-Score:  0.95\n",
            "******************************\n"
          ]
        },
        {
          "name": "stderr",
          "output_type": "stream",
          "text": [
            "\n"
          ]
        },
        {
          "data": {
            "image/png": "[encoded data removed]",
            "text/plain": [
              "<Figure size 216x216 with 1 Axes>"
            ]
          },
          "metadata": {
            "needs_background": "light"
          },
          "output_type": "display_data"
        }
      ],
      "source": [
        "#Gold Mask - Prediction\n",
        "images = Sdata_dict['test']['image']\n",
        "true_labels = Sdata_dict['test']['labels']\n",
        "prediccion_final(images,true_labels)"
      ]
    },
    {
      "cell_type": "code",
      "execution_count": null,
      "id": "e9d1dd43",
      "metadata": {
        "id": "e9d1dd43",
        "outputId": "4a3e9a46-973a-4232-9669-4484e9a7d0b2"
      },
      "outputs": [
        {
          "name": "stderr",
          "output_type": "stream",
          "text": [
            "\n",
            "  0%|                                                                                 | 0/107 [00:00<?, ?it/s]\u001b[A\n",
            "  1%|▋                                                                        | 1/107 [00:05<09:43,  5.50s/it]\u001b[A\n",
            "  2%|█▎                                                                       | 2/107 [00:10<08:51,  5.06s/it]\u001b[A\n",
            "  3%|██                                                                       | 3/107 [00:15<08:51,  5.11s/it]\u001b[A\n",
            "  4%|██▋                                                                      | 4/107 [00:21<09:26,  5.50s/it]\u001b[A\n",
            "  5%|███▍                                                                     | 5/107 [00:26<08:54,  5.24s/it]\u001b[A\n",
            "  6%|████                                                                     | 6/107 [00:31<08:41,  5.16s/it]\u001b[A\n",
            "  7%|████▊                                                                    | 7/107 [00:36<08:20,  5.01s/it]\u001b[A\n",
            "  7%|█████▍                                                                   | 8/107 [00:39<07:40,  4.65s/it]\u001b[A\n",
            "  8%|██████▏                                                                  | 9/107 [00:41<06:15,  3.83s/it]\u001b[A\n",
            "  9%|██████▋                                                                 | 10/107 [00:46<06:42,  4.15s/it]\u001b[A\n",
            " 10%|███████▍                                                                | 11/107 [00:52<07:23,  4.62s/it]\u001b[A\n",
            " 11%|████████                                                                | 12/107 [00:57<07:32,  4.76s/it]\u001b[A\n",
            " 12%|████████▋                                                               | 13/107 [01:01<07:15,  4.64s/it]\u001b[A\n",
            " 13%|█████████▍                                                              | 14/107 [01:06<07:08,  4.61s/it]\u001b[A\n",
            " 14%|██████████                                                              | 15/107 [01:11<07:18,  4.76s/it]\u001b[A\n",
            " 15%|██████████▊                                                             | 16/107 [01:15<06:48,  4.49s/it]\u001b[A\n",
            " 16%|███████████▍                                                            | 17/107 [01:19<06:40,  4.45s/it]\u001b[A\n",
            " 17%|████████████                                                            | 18/107 [01:23<06:26,  4.35s/it]\u001b[A\n",
            " 18%|████████████▊                                                           | 19/107 [01:29<06:50,  4.67s/it]\u001b[A\n",
            " 19%|█████████████▍                                                          | 20/107 [01:33<06:26,  4.45s/it]\u001b[A\n",
            " 20%|██████████████▏                                                         | 21/107 [01:37<06:08,  4.28s/it]\u001b[A\n",
            " 21%|██████████████▊                                                         | 22/107 [01:42<06:31,  4.60s/it]\u001b[A\n",
            " 21%|███████████████▍                                                        | 23/107 [01:46<06:24,  4.57s/it]\u001b[A\n",
            " 22%|████████████████▏                                                       | 24/107 [01:52<06:30,  4.71s/it]\u001b[A\n",
            " 23%|████████████████▊                                                       | 25/107 [01:52<04:49,  3.53s/it]\u001b[A\n",
            " 24%|█████████████████▍                                                      | 26/107 [01:53<03:44,  2.77s/it]\u001b[A\n",
            " 25%|██████████████████▏                                                     | 27/107 [01:59<04:51,  3.64s/it]\u001b[A\n",
            " 26%|██████████████████▊                                                     | 28/107 [02:05<05:37,  4.27s/it]\u001b[A\n",
            " 27%|███████████████████▌                                                    | 29/107 [02:10<05:49,  4.48s/it]\u001b[A\n",
            " 28%|████████████████████▏                                                   | 30/107 [02:13<05:16,  4.12s/it]\u001b[A\n",
            " 29%|████████████████████▊                                                   | 31/107 [02:17<05:04,  4.00s/it]\u001b[A\n",
            " 30%|█████████████████████▌                                                  | 32/107 [02:22<05:39,  4.52s/it]\u001b[A\n",
            " 31%|██████████████████████▏                                                 | 33/107 [02:28<06:03,  4.91s/it]\u001b[A\n",
            " 32%|██████████████████████▉                                                 | 34/107 [02:31<05:12,  4.28s/it]\u001b[A\n",
            " 33%|███████████████████████▌                                                | 35/107 [02:34<04:45,  3.96s/it]\u001b[A\n",
            " 34%|████████████████████████▏                                               | 36/107 [02:35<03:42,  3.13s/it]\u001b[A\n",
            " 35%|████████████████████████▉                                               | 37/107 [02:40<04:04,  3.49s/it]\u001b[A\n",
            " 36%|█████████████████████████▌                                              | 38/107 [02:43<03:50,  3.35s/it]\u001b[A\n",
            " 36%|██████████████████████████▏                                             | 39/107 [02:48<04:24,  3.90s/it]\u001b[A\n",
            " 37%|██████████████████████████▉                                             | 40/107 [02:53<04:50,  4.34s/it]\u001b[A\n",
            " 38%|███████████████████████████▌                                            | 41/107 [02:57<04:32,  4.12s/it]\u001b[A\n",
            " 39%|████████████████████████████▎                                           | 42/107 [03:02<04:48,  4.44s/it]\u001b[A\n",
            " 40%|████████████████████████████▉                                           | 43/107 [03:06<04:37,  4.34s/it]\u001b[A\n",
            " 41%|█████████████████████████████▌                                          | 44/107 [03:11<04:37,  4.40s/it]\u001b[A\n",
            " 42%|██████████████████████████████▎                                         | 45/107 [03:16<04:53,  4.74s/it]\u001b[A\n",
            " 43%|██████████████████████████████▉                                         | 46/107 [03:22<05:09,  5.07s/it]\u001b[A\n",
            " 44%|███████████████████████████████▋                                        | 47/107 [03:27<05:09,  5.15s/it]\u001b[A\n",
            " 45%|████████████████████████████████▎                                       | 48/107 [03:32<04:59,  5.07s/it]\u001b[A\n",
            " 46%|████████████████████████████████▉                                       | 49/107 [03:38<05:06,  5.28s/it]\u001b[A\n",
            " 47%|█████████████████████████████████▋                                      | 50/107 [03:44<05:11,  5.46s/it]\u001b[A\n",
            " 48%|██████████████████████████████████▎                                     | 51/107 [03:49<05:05,  5.45s/it]\u001b[A\n",
            " 49%|██████████████████████████████████▉                                     | 52/107 [03:55<05:07,  5.59s/it]\u001b[A\n",
            " 50%|███████████████████████████████████▋                                    | 53/107 [04:00<04:48,  5.34s/it]\u001b[A\n",
            " 50%|████████████████████████████████████▎                                   | 54/107 [04:05<04:36,  5.21s/it]\u001b[A\n",
            " 51%|█████████████████████████████████████                                   | 55/107 [04:10<04:23,  5.07s/it]\u001b[A\n",
            " 52%|█████████████████████████████████████▋                                  | 56/107 [04:15<04:26,  5.22s/it]\u001b[A\n",
            " 53%|██████████████████████████████████████▎                                 | 57/107 [04:19<03:59,  4.80s/it]\u001b[A\n",
            " 54%|███████████████████████████████████████                                 | 58/107 [04:24<04:00,  4.90s/it]\u001b[A\n",
            " 55%|███████████████████████████████████████▋                                | 59/107 [04:30<04:00,  5.01s/it]\u001b[A\n",
            " 56%|████████████████████████████████████████▎                               | 60/107 [04:35<04:02,  5.16s/it]\u001b[A\n",
            " 57%|█████████████████████████████████████████                               | 61/107 [04:40<03:57,  5.16s/it]\u001b[A\n",
            " 58%|█████████████████████████████████████████▋                              | 62/107 [04:45<03:44,  4.98s/it]\u001b[A\n",
            " 59%|██████████████████████████████████████████▍                             | 63/107 [04:50<03:48,  5.19s/it]\u001b[A\n",
            " 60%|███████████████████████████████████████████                             | 64/107 [04:56<03:50,  5.37s/it]\u001b[A\n",
            " 61%|███████████████████████████████████████████▋                            | 65/107 [05:01<03:32,  5.07s/it]\u001b[A\n",
            " 62%|████████████████████████████████████████████▍                           | 66/107 [05:04<03:09,  4.63s/it]\u001b[A\n",
            " 63%|█████████████████████████████████████████████                           | 67/107 [05:10<03:19,  4.98s/it]\u001b[A\n",
            " 64%|█████████████████████████████████████████████▊                          | 68/107 [05:14<02:58,  4.58s/it]\u001b[A\n",
            " 64%|██████████████████████████████████████████████▍                         | 69/107 [05:17<02:40,  4.22s/it]\u001b[A\n",
            " 65%|███████████████████████████████████████████████                         | 70/107 [05:21<02:31,  4.10s/it]\u001b[A\n",
            " 66%|███████████████████████████████████████████████▊                        | 71/107 [05:26<02:33,  4.27s/it]\u001b[A\n",
            " 67%|████████████████████████████████████████████████▍                       | 72/107 [05:31<02:43,  4.66s/it]\u001b[A\n",
            " 68%|█████████████████████████████████████████████████                       | 73/107 [05:36<02:41,  4.76s/it]\u001b[A\n",
            " 69%|█████████████████████████████████████████████████▊                      | 74/107 [05:42<02:44,  4.97s/it]\u001b[A\n",
            " 70%|██████████████████████████████████████████████████▍                     | 75/107 [05:46<02:29,  4.67s/it]\u001b[A\n",
            " 71%|███████████████████████████████████████████████████▏                    | 76/107 [05:51<02:27,  4.77s/it]\u001b[A\n",
            " 72%|███████████████████████████████████████████████████▊                    | 77/107 [05:53<02:04,  4.16s/it]\u001b[A\n",
            " 73%|████████████████████████████████████████████████████▍                   | 78/107 [05:58<02:09,  4.46s/it]\u001b[A\n",
            " 74%|█████████████████████████████████████████████████████▏                  | 79/107 [06:04<02:12,  4.74s/it]\u001b[A\n",
            " 75%|█████████████████████████████████████████████████████▊                  | 80/107 [06:09<02:11,  4.86s/it]\u001b[A\n",
            " 76%|██████████████████████████████████████████████████████▌                 | 81/107 [06:14<02:10,  5.03s/it]\u001b[A\n",
            " 77%|███████████████████████████████████████████████████████▏                | 82/107 [06:19<02:02,  4.89s/it]\u001b[A\n",
            " 78%|███████████████████████████████████████████████████████▊                | 83/107 [06:24<02:00,  5.04s/it]\u001b[A\n",
            " 79%|████████████████████████████████████████████████████████▌               | 84/107 [06:31<02:06,  5.50s/it]\u001b[A\n",
            " 79%|█████████████████████████████████████████████████████████▏              | 85/107 [06:36<01:55,  5.24s/it]\u001b[A\n",
            " 80%|█████████████████████████████████████████████████████████▊              | 86/107 [06:42<01:55,  5.52s/it]\u001b[A\n",
            " 81%|██████████████████████████████████████████████████████████▌             | 87/107 [06:46<01:42,  5.14s/it]\u001b[A\n",
            " 82%|███████████████████████████████████████████████████████████▏            | 88/107 [06:52<01:43,  5.44s/it]\u001b[A\n",
            " 83%|███████████████████████████████████████████████████████████▉            | 89/107 [06:58<01:39,  5.50s/it]\u001b[A\n",
            " 84%|████████████████████████████████████████████████████████████▌           | 90/107 [07:02<01:29,  5.24s/it]\u001b[A\n",
            " 85%|█████████████████████████████████████████████████████████████▏          | 91/107 [07:07<01:20,  5.03s/it]\u001b[A\n",
            " 86%|█████████████████████████████████████████████████████████████▉          | 92/107 [07:13<01:20,  5.34s/it]\u001b[A\n",
            " 87%|██████████████████████████████████████████████████████████████▌         | 93/107 [07:19<01:15,  5.41s/it]\u001b[A\n",
            " 88%|███████████████████████████████████████████████████████████████▎        | 94/107 [07:24<01:12,  5.54s/it]\u001b[A\n",
            " 89%|███████████████████████████████████████████████████████████████▉        | 95/107 [07:30<01:08,  5.67s/it]\u001b[A\n",
            " 90%|████████████████████████████████████████████████████████████████▌       | 96/107 [07:35<00:57,  5.26s/it]\u001b[A\n",
            " 91%|█████████████████████████████████████████████████████████████████▎      | 97/107 [07:39<00:48,  4.90s/it]\u001b[A\n",
            " 92%|█████████████████████████████████████████████████████████████████▉      | 98/107 [07:44<00:46,  5.13s/it]\u001b[A\n",
            " 93%|██████████████████████████████████████████████████████████████████▌     | 99/107 [07:50<00:41,  5.24s/it]\u001b[A\n",
            " 93%|██████████████████████████████████████████████████████████████████▎    | 100/107 [07:54<00:35,  5.01s/it]\u001b[A\n",
            " 94%|███████████████████████████████████████████████████████████████████    | 101/107 [08:00<00:31,  5.22s/it]\u001b[A\n",
            " 95%|███████████████████████████████████████████████████████████████████▋   | 102/107 [08:06<00:26,  5.38s/it]\u001b[A\n",
            " 96%|████████████████████████████████████████████████████████████████████▎  | 103/107 [08:12<00:21,  5.49s/it]\u001b[A\n",
            " 97%|█████████████████████████████████████████████████████████████████████  | 104/107 [08:17<00:16,  5.34s/it]\u001b[A\n",
            " 98%|█████████████████████████████████████████████████████████████████████▋ | 105/107 [08:22<00:10,  5.42s/it]\u001b[A\n",
            " 99%|██████████████████████████████████████████████████████████████████████▎| 106/107 [08:28<00:05,  5.56s/it]\u001b[A\n",
            "100%|███████████████████████████████████████████████████████████████████████| 107/107 [08:34<00:00,  4.81s/it]\u001b[A\n"
          ]
        },
        {
          "name": "stdout",
          "output_type": "stream",
          "text": [
            "Métricas: \n",
            "              precision    recall  f1-score   support\n",
            "\n",
            "           0      0.970     0.970     0.970        67\n",
            "           1      0.950     0.950     0.950        40\n",
            "\n",
            "    accuracy                          0.963       107\n",
            "   macro avg      0.960     0.960     0.960       107\n",
            "weighted avg      0.963     0.963     0.963       107\n",
            "\n",
            "********** MÉTRICAS **********\n",
            "AUC:  0.96\n",
            "True Positives:  38\n",
            "True Negatives:  65\n",
            "False Positives:  2\n",
            "False Negatives:  2\n",
            "Precisión:  0.95\n",
            "Recall / Sensibilidad:  0.95\n",
            "Accuracy / Exactitud:  0.963\n",
            "Especificidad:  0.97\n",
            "Tasa falsos negativos:  0.05\n",
            "Valor predictivo positivo:  0.95\n",
            "Valor predictivo negativo:  0.97\n",
            "F1-Score:  0.95\n",
            "******************************\n"
          ]
        },
        {
          "name": "stderr",
          "output_type": "stream",
          "text": [
            "\n",
            "  0%|                                                                                 | 0/107 [00:00<?, ?it/s]\u001b[A\n",
            "  1%|▋                                                                        | 1/107 [00:05<10:22,  5.87s/it]\u001b[A\n",
            "  2%|█▎                                                                       | 2/107 [00:11<09:53,  5.65s/it]\u001b[A\n",
            "  3%|██                                                                       | 3/107 [00:17<09:51,  5.69s/it]\u001b[A\n",
            "  4%|██▋                                                                      | 4/107 [00:21<08:40,  5.05s/it]\u001b[A\n",
            "  5%|███▍                                                                     | 5/107 [00:26<08:57,  5.27s/it]\u001b[A\n",
            "  6%|████                                                                     | 6/107 [00:31<08:33,  5.08s/it]\u001b[A\n",
            "  7%|████▊                                                                    | 7/107 [00:36<08:33,  5.14s/it]\u001b[A\n",
            "  7%|█████▍                                                                   | 8/107 [00:42<08:43,  5.28s/it]\u001b[A\n",
            "  8%|██████▏                                                                  | 9/107 [00:46<08:04,  4.95s/it]\u001b[A\n",
            "  9%|██████▋                                                                 | 10/107 [00:50<07:17,  4.51s/it]\u001b[A\n",
            " 10%|███████▍                                                                | 11/107 [00:55<07:44,  4.83s/it]\u001b[A\n",
            " 11%|████████                                                                | 12/107 [00:59<07:14,  4.57s/it]\u001b[A\n",
            " 12%|████████▋                                                               | 13/107 [01:04<07:19,  4.68s/it]\u001b[A\n",
            " 13%|█████████▍                                                              | 14/107 [01:09<07:23,  4.77s/it]\u001b[A\n",
            " 14%|██████████                                                              | 15/107 [01:14<07:10,  4.68s/it]\u001b[A\n",
            " 15%|██████████▊                                                             | 16/107 [01:17<06:37,  4.37s/it]\u001b[A\n",
            " 16%|███████████▍                                                            | 17/107 [01:22<06:58,  4.65s/it]\u001b[A\n",
            " 17%|████████████                                                            | 18/107 [01:27<06:52,  4.64s/it]\u001b[A\n",
            " 18%|████████████▊                                                           | 19/107 [01:32<06:53,  4.70s/it]\u001b[A\n",
            " 19%|█████████████▍                                                          | 20/107 [01:37<06:49,  4.71s/it]\u001b[A\n",
            " 20%|██████████████▏                                                         | 21/107 [01:42<06:56,  4.85s/it]\u001b[A\n",
            " 21%|██████████████▊                                                         | 22/107 [01:47<06:55,  4.88s/it]\u001b[A\n",
            " 21%|███████████████▍                                                        | 23/107 [01:52<07:00,  5.00s/it]\u001b[A\n",
            " 22%|████████████████▏                                                       | 24/107 [01:58<07:09,  5.18s/it]\u001b[A\n",
            " 23%|████████████████▊                                                       | 25/107 [02:02<06:44,  4.93s/it]\u001b[A\n",
            " 24%|█████████████████▍                                                      | 26/107 [02:06<06:19,  4.69s/it]\u001b[A\n",
            " 25%|██████████████████▏                                                     | 27/107 [02:10<05:57,  4.46s/it]\u001b[A\n",
            " 26%|██████████████████▊                                                     | 28/107 [02:15<06:06,  4.64s/it]\u001b[A\n",
            " 27%|███████████████████▌                                                    | 29/107 [02:21<06:27,  4.97s/it]\u001b[A\n",
            " 28%|████████████████████▏                                                   | 30/107 [02:26<06:28,  5.04s/it]\u001b[A\n",
            " 29%|████████████████████▊                                                   | 31/107 [02:31<06:10,  4.88s/it]\u001b[A\n",
            " 30%|█████████████████████▌                                                  | 32/107 [02:36<06:17,  5.03s/it]\u001b[A\n",
            " 31%|██████████████████████▏                                                 | 33/107 [02:40<05:57,  4.84s/it]\u001b[A\n",
            " 32%|██████████████████████▉                                                 | 34/107 [02:44<05:24,  4.45s/it]\u001b[A\n",
            " 33%|███████████████████████▌                                                | 35/107 [02:50<05:46,  4.81s/it]\u001b[A\n",
            " 34%|████████████████████████▏                                               | 36/107 [02:51<04:20,  3.67s/it]\u001b[A\n",
            " 35%|████████████████████████▉                                               | 37/107 [02:53<03:42,  3.18s/it]\u001b[A\n",
            " 36%|█████████████████████████▌                                              | 38/107 [02:57<03:57,  3.44s/it]\u001b[A\n",
            " 36%|██████████████████████████▏                                             | 39/107 [03:02<04:28,  3.95s/it]\u001b[A\n",
            " 37%|██████████████████████████▉                                             | 40/107 [03:06<04:27,  3.99s/it]\u001b[A\n",
            " 38%|███████████████████████████▌                                            | 41/107 [03:11<04:36,  4.19s/it]\u001b[A\n",
            " 39%|████████████████████████████▎                                           | 42/107 [03:14<04:16,  3.95s/it]\u001b[A\n",
            " 40%|████████████████████████████▉                                           | 43/107 [03:18<04:09,  3.90s/it]\u001b[A\n",
            " 41%|█████████████████████████████▌                                          | 44/107 [03:20<03:37,  3.45s/it]\u001b[A\n",
            " 42%|██████████████████████████████▎                                         | 45/107 [03:23<03:27,  3.34s/it]\u001b[A\n",
            " 43%|██████████████████████████████▉                                         | 46/107 [03:26<03:08,  3.08s/it]\u001b[A\n",
            " 44%|███████████████████████████████▋                                        | 47/107 [03:28<02:52,  2.88s/it]\u001b[A\n",
            " 45%|████████████████████████████████▎                                       | 48/107 [03:31<02:42,  2.76s/it]\u001b[A\n",
            " 46%|████████████████████████████████▉                                       | 49/107 [03:33<02:26,  2.52s/it]\u001b[A\n",
            " 47%|█████████████████████████████████▋                                      | 50/107 [03:33<01:50,  1.93s/it]\u001b[A\n",
            " 48%|██████████████████████████████████▎                                     | 51/107 [03:39<02:47,  2.99s/it]\u001b[A\n",
            " 49%|██████████████████████████████████▉                                     | 52/107 [03:42<02:49,  3.08s/it]\u001b[A\n",
            " 50%|███████████████████████████████████▋                                    | 53/107 [03:47<03:20,  3.71s/it]\u001b[A\n",
            " 50%|████████████████████████████████████▎                                   | 54/107 [03:50<03:11,  3.61s/it]\u001b[A\n",
            " 51%|█████████████████████████████████████                                   | 55/107 [03:55<03:28,  4.00s/it]\u001b[A\n",
            " 52%|█████████████████████████████████████▋                                  | 56/107 [04:01<03:46,  4.45s/it]\u001b[A\n",
            " 53%|██████████████████████████████████████▎                                 | 57/107 [04:06<03:53,  4.68s/it]\u001b[A\n",
            " 54%|███████████████████████████████████████                                 | 58/107 [04:11<04:00,  4.90s/it]\u001b[A\n",
            " 55%|███████████████████████████████████████▋                                | 59/107 [04:17<04:00,  5.01s/it]\u001b[A\n",
            " 56%|████████████████████████████████████████▎                               | 60/107 [04:21<03:40,  4.70s/it]\u001b[A\n",
            " 57%|█████████████████████████████████████████                               | 61/107 [04:24<03:16,  4.27s/it]\u001b[A\n",
            " 58%|█████████████████████████████████████████▋                              | 62/107 [04:26<02:40,  3.57s/it]\u001b[A\n",
            " 59%|██████████████████████████████████████████▍                             | 63/107 [04:27<01:59,  2.72s/it]\u001b[A\n",
            " 60%|███████████████████████████████████████████                             | 64/107 [04:29<01:57,  2.74s/it]\u001b[A\n",
            " 61%|███████████████████████████████████████████▋                            | 65/107 [04:31<01:36,  2.30s/it]\u001b[A\n",
            " 62%|████████████████████████████████████████████▍                           | 66/107 [04:35<02:05,  3.05s/it]\u001b[A\n",
            " 63%|█████████████████████████████████████████████                           | 67/107 [04:41<02:32,  3.80s/it]\u001b[A\n",
            " 64%|█████████████████████████████████████████████▊                          | 68/107 [04:44<02:20,  3.60s/it]\u001b[A\n",
            " 64%|██████████████████████████████████████████████▍                         | 69/107 [04:48<02:19,  3.66s/it]\u001b[A\n",
            " 65%|███████████████████████████████████████████████                         | 70/107 [04:51<02:06,  3.41s/it]\u001b[A\n",
            " 66%|███████████████████████████████████████████████▊                        | 71/107 [04:54<01:58,  3.30s/it]\u001b[A\n",
            " 67%|████████████████████████████████████████████████▍                       | 72/107 [04:58<02:04,  3.57s/it]\u001b[A\n",
            " 68%|█████████████████████████████████████████████████                       | 73/107 [05:01<01:56,  3.43s/it]\u001b[A\n",
            " 69%|█████████████████████████████████████████████████▊                      | 74/107 [05:05<01:58,  3.58s/it]\u001b[A\n",
            " 70%|██████████████████████████████████████████████████▍                     | 75/107 [05:09<02:00,  3.76s/it]\u001b[A\n",
            " 71%|███████████████████████████████████████████████████▏                    | 76/107 [05:14<02:03,  3.97s/it]\u001b[A\n",
            " 72%|███████████████████████████████████████████████████▊                    | 77/107 [05:18<01:59,  3.99s/it]\u001b[A\n",
            " 73%|████████████████████████████████████████████████████▍                   | 78/107 [05:23<02:04,  4.28s/it]\u001b[A\n",
            " 74%|█████████████████████████████████████████████████████▏                  | 79/107 [05:25<01:46,  3.79s/it]\u001b[A\n",
            " 75%|█████████████████████████████████████████████████████▊                  | 80/107 [05:26<01:19,  2.95s/it]\u001b[A\n",
            " 76%|██████████████████████████████████████████████████████▌                 | 81/107 [05:30<01:22,  3.18s/it]\u001b[A\n",
            " 77%|███████████████████████████████████████████████████████▏                | 82/107 [05:35<01:34,  3.77s/it]\u001b[A\n",
            " 78%|███████████████████████████████████████████████████████▊                | 83/107 [05:41<01:46,  4.42s/it]\u001b[A\n",
            " 79%|████████████████████████████████████████████████████████▌               | 84/107 [05:48<01:56,  5.08s/it]\u001b[A\n",
            " 79%|█████████████████████████████████████████████████████████▏              | 85/107 [05:54<02:02,  5.57s/it]\u001b[A\n",
            " 80%|█████████████████████████████████████████████████████████▊              | 86/107 [06:01<02:03,  5.86s/it]\u001b[A\n",
            " 81%|██████████████████████████████████████████████████████████▌             | 87/107 [06:07<01:59,  5.95s/it]\u001b[A\n",
            " 82%|███████████████████████████████████████████████████████████▏            | 88/107 [06:12<01:48,  5.69s/it]\u001b[A\n",
            " 83%|███████████████████████████████████████████████████████████▉            | 89/107 [06:18<01:43,  5.75s/it]\u001b[A\n",
            " 84%|████████████████████████████████████████████████████████████▌           | 90/107 [06:25<01:41,  5.98s/it]\u001b[A\n",
            " 85%|█████████████████████████████████████████████████████████████▏          | 91/107 [06:29<01:26,  5.40s/it]\u001b[A\n",
            " 86%|█████████████████████████████████████████████████████████████▉          | 92/107 [06:35<01:24,  5.62s/it]\u001b[A\n",
            " 87%|██████████████████████████████████████████████████████████████▌         | 93/107 [06:41<01:19,  5.67s/it]\u001b[A\n",
            " 88%|███████████████████████████████████████████████████████████████▎        | 94/107 [06:47<01:17,  5.98s/it]\u001b[A\n",
            " 89%|███████████████████████████████████████████████████████████████▉        | 95/107 [06:54<01:12,  6.03s/it]\u001b[A\n",
            " 90%|████████████████████████████████████████████████████████████████▌       | 96/107 [06:59<01:05,  5.98s/it]\u001b[A\n",
            " 91%|█████████████████████████████████████████████████████████████████▎      | 97/107 [07:06<01:01,  6.12s/it]\u001b[A\n",
            " 92%|█████████████████████████████████████████████████████████████████▉      | 98/107 [07:12<00:56,  6.24s/it]\u001b[A\n",
            " 93%|██████████████████████████████████████████████████████████████████▌     | 99/107 [07:19<00:50,  6.28s/it]\u001b[A\n",
            " 93%|██████████████████████████████████████████████████████████████████▎    | 100/107 [07:23<00:40,  5.80s/it]\u001b[A\n",
            " 94%|███████████████████████████████████████████████████████████████████    | 101/107 [07:29<00:34,  5.82s/it]\u001b[A\n",
            " 95%|███████████████████████████████████████████████████████████████████▋   | 102/107 [07:34<00:28,  5.62s/it]\u001b[A\n",
            " 96%|████████████████████████████████████████████████████████████████████▎  | 103/107 [07:41<00:23,  5.76s/it]\u001b[A\n",
            " 97%|█████████████████████████████████████████████████████████████████████  | 104/107 [07:47<00:17,  5.84s/it]\u001b[A\n",
            " 98%|█████████████████████████████████████████████████████████████████████▋ | 105/107 [07:50<00:10,  5.15s/it]\u001b[A\n",
            " 99%|██████████████████████████████████████████████████████████████████████▎| 106/107 [07:55<00:04,  4.95s/it]\u001b[A\n",
            "100%|███████████████████████████████████████████████████████████████████████| 107/107 [08:00<00:00,  4.49s/it]\u001b[A"
          ]
        },
        {
          "name": "stdout",
          "output_type": "stream",
          "text": [
            "Métricas: \n",
            "00114C(1)\n",
            "00102(1)\n",
            "00089C(1)\n",
            "00061(1)\n"
          ]
        },
        {
          "name": "stderr",
          "output_type": "stream",
          "text": [
            "\n"
          ]
        },
        {
          "data": {
            "image/png": "[encoded data removed]",
            "text/plain": [
              "<Figure size 216x216 with 1 Axes>"
            ]
          },
          "metadata": {
            "needs_background": "light"
          },
          "output_type": "display_data"
        },
        {
          "data": {
            "image/png": "[encoded data removed]",
            "text/plain": [
              "<Figure size 216x216 with 1 Axes>"
            ]
          },
          "metadata": {
            "needs_background": "light"
          },
          "output_type": "display_data"
        }
      ],
      "source": [
        "images = Sdata_dict['test']['image']\n",
        "true_labels = Sdata_dict['test']['labels']\n",
        "prediccion_final(images,true_labels)\n",
        "get_failed(images,true_labels)"
      ]
    },
    {
      "cell_type": "code",
      "execution_count": null,
      "id": "2308c1b9",
      "metadata": {
        "id": "2308c1b9"
      },
      "outputs": [],
      "source": [
        "#Gold Segmentation predictions files\n",
        "output_file_path='probs_ViT_Segmentacion.csv'\n",
        "sets = ['test','valid','train']\n",
        "for s in sets:\n",
        "    data=[]\n",
        "    images = Sdata_dict[s]['image']\n",
        "    true_labels = Sdata_dict[s]['labels']\n",
        "\n",
        "    get_probabilities(images,true_labels,s)\n",
        "\n",
        "    columns = ['conjunto','name_imagen','true_class','pred_class','prob_class0','prob_class1']\n",
        "    df = pd.DataFrame(data,columns=columns)\n",
        "\n",
        "    if os.path.exists(output_file_path):\n",
        "        existing_df = pd.read_csv(output_file_path)\n",
        "        final_df = pd.concat([existing_df, df], ignore_index=True)\n",
        "    else:\n",
        "        final_df = df\n",
        "\n",
        "    final_df.to_csv(output_file_path, index=False)"
      ]
    },
    {
      "cell_type": "code",
      "execution_count": null,
      "id": "176d0148",
      "metadata": {
        "id": "176d0148",
        "outputId": "7a209c38-d3c5-431e-b3d7-6dc058ccf777"
      },
      "outputs": [
        {
          "name": "stderr",
          "output_type": "stream",
          "text": [
            "100%|███████████████████████████████████████████████████████████████████████| 107/107 [00:14<00:00,  7.49it/s]\n"
          ]
        },
        {
          "name": "stdout",
          "output_type": "stream",
          "text": [
            "Métricas: \n",
            "              precision    recall  f1-score   support\n",
            "\n",
            "           0      0.868     0.985     0.923        67\n",
            "           1      0.968     0.750     0.845        40\n",
            "\n",
            "    accuracy                          0.897       107\n",
            "   macro avg      0.918     0.868     0.884       107\n",
            "weighted avg      0.906     0.897     0.894       107\n",
            "\n",
            "********** MÉTRICAS **********\n",
            "AUC:  0.868\n",
            "True Positives:  30\n",
            "True Negatives:  66\n",
            "False Positives:  1\n",
            "False Negatives:  10\n",
            "Precisión:  0.968\n",
            "Recall / Sensibilidad:  0.75\n",
            "Accuracy / Exactitud:  0.897\n",
            "Especificidad:  0.985\n",
            "Tasa falsos negativos:  0.25\n",
            "Valor predictivo positivo:  0.968\n",
            "Valor predictivo negativo:  0.868\n",
            "F1-Score:  0.845\n",
            "******************************\n"
          ]
        },
        {
          "name": "stderr",
          "output_type": "stream",
          "text": [
            "100%|███████████████████████████████████████████████████████████████████████| 107/107 [00:14<00:00,  7.43it/s]"
          ]
        },
        {
          "name": "stdout",
          "output_type": "stream",
          "text": [
            "Métricas: \n",
            "00080C\n",
            "00031C\n",
            "00007C\n",
            "00092\n",
            "00072C\n",
            "00068C\n",
            "00120C\n",
            "00049C\n",
            "00109C\n",
            "00009C\n",
            "00115C\n"
          ]
        },
        {
          "name": "stderr",
          "output_type": "stream",
          "text": [
            "\n"
          ]
        },
        {
          "data": {
            "image/png": "[encoded data removed]",
            "text/plain": [
              "<Figure size 216x216 with 1 Axes>"
            ]
          },
          "metadata": {
            "needs_background": "light"
          },
          "output_type": "display_data"
        },
        {
          "data": {
            "image/png": "[encoded data removed]",
            "text/plain": [
              "<Figure size 216x216 with 1 Axes>"
            ]
          },
          "metadata": {
            "needs_background": "light"
          },
          "output_type": "display_data"
        }
      ],
      "source": [
        "#SAM with gold bboxes - Predictions\n",
        "images = sam_dict2['test']['image']\n",
        "true_labels = sam_dict2['test']['labels']\n",
        "prediccion_final(images,true_labels)\n",
        "get_failed(images,true_labels)"
      ]
    },
    {
      "cell_type": "code",
      "execution_count": null,
      "id": "fca43958",
      "metadata": {
        "id": "fca43958"
      },
      "outputs": [],
      "source": [
        "#SAM with GOLD BBox prediction files\n",
        "output_file_path='probs_ViT_SAM_goldBB.csv'\n",
        "sets = ['test','valid','train']\n",
        "for s in sets:\n",
        "    data=[]\n",
        "    images = sam_dict2[s]['image']\n",
        "    true_labels = sam_dict2[s]['labels']\n",
        "\n",
        "    get_probabilities(images,true_labels,s)\n",
        "\n",
        "    columns = ['conjunto','name_imagen','true_class','pred_class','prob_class0','prob_class1']\n",
        "    df = pd.DataFrame(data,columns=columns)\n",
        "\n",
        "    if os.path.exists(output_file_path):\n",
        "        existing_df = pd.read_csv(output_file_path)\n",
        "        final_df = pd.concat([existing_df, df], ignore_index=True)\n",
        "    else:\n",
        "        final_df = df\n",
        "\n",
        "    final_df.to_csv(output_file_path, index=False)"
      ]
    },
    {
      "cell_type": "code",
      "execution_count": null,
      "id": "93f9c093",
      "metadata": {
        "id": "93f9c093",
        "outputId": "270d3e5b-8b16-4e38-ee00-2d47962565cf"
      },
      "outputs": [
        {
          "name": "stderr",
          "output_type": "stream",
          "text": [
            "100%|███████████████████████████████████████████████████████████████████████| 107/107 [00:15<00:00,  7.08it/s]\n"
          ]
        },
        {
          "name": "stdout",
          "output_type": "stream",
          "text": [
            "Métricas: \n",
            "              precision    recall  f1-score   support\n",
            "\n",
            "           0      0.815     0.985     0.892        67\n",
            "           1      0.962     0.625     0.758        40\n",
            "\n",
            "    accuracy                          0.850       107\n",
            "   macro avg      0.888     0.805     0.825       107\n",
            "weighted avg      0.870     0.850     0.842       107\n",
            "\n",
            "********** MÉTRICAS **********\n",
            "AUC:  0.805\n",
            "True Positives:  25\n",
            "True Negatives:  66\n",
            "False Positives:  1\n",
            "False Negatives:  15\n",
            "Precisión:  0.962\n",
            "Recall / Sensibilidad:  0.625\n",
            "Accuracy / Exactitud:  0.85\n",
            "Especificidad:  0.985\n",
            "Tasa falsos negativos:  0.375\n",
            "Valor predictivo positivo:  0.962\n",
            "Valor predictivo negativo:  0.815\n",
            "F1-Score:  0.758\n",
            "******************************\n"
          ]
        },
        {
          "name": "stderr",
          "output_type": "stream",
          "text": [
            "100%|███████████████████████████████████████████████████████████████████████| 107/107 [00:14<00:00,  7.17it/s]\n"
          ]
        },
        {
          "name": "stdout",
          "output_type": "stream",
          "text": [
            "Métricas: \n",
            "00080C\n",
            "00031C\n",
            "00015C\n",
            "00008C\n",
            "00007C\n",
            "00114C\n",
            "00107C\n",
            "00072C\n",
            "00063C\n",
            "00143\n",
            "00068C\n",
            "00120C\n",
            "00049C\n",
            "00027C\n",
            "00109C\n",
            "00115C\n"
          ]
        },
        {
          "data": {
            "image/png": "[encoded data removed]",
            "text/plain": [
              "<Figure size 216x216 with 1 Axes>"
            ]
          },
          "metadata": {
            "needs_background": "light"
          },
          "output_type": "display_data"
        },
        {
          "data": {
            "image/png": "[encoded data removed]",
            "text/plain": [
              "<Figure size 216x216 with 1 Axes>"
            ]
          },
          "metadata": {
            "needs_background": "light"
          },
          "output_type": "display_data"
        }
      ],
      "source": [
        "#SAM with DETR Bboxes - Prediction\n",
        "images = sam_dict['test']['image']\n",
        "true_labels = sam_dict['test']['labels']\n",
        "prediccion_final(images,true_labels)\n",
        "get_failed(images,true_labels)"
      ]
    },
    {
      "cell_type": "code",
      "execution_count": null,
      "id": "00f5804f",
      "metadata": {
        "id": "00f5804f"
      },
      "outputs": [],
      "source": [
        "#SAM+DETR Bbox prediction files\n",
        "output_file_path='probs_ViT_SAM+DETR.csv'\n",
        "sets = ['test','valid','train']\n",
        "for s in sets:\n",
        "    data=[]\n",
        "    images = sam_dict[s]['image']\n",
        "    true_labels = sam_dict[s]['labels']\n",
        "\n",
        "    get_probabilities(images,true_labels,s)\n",
        "\n",
        "    columns = ['conjunto','name_imagen','true_class','pred_class','prob_class0','prob_class1']\n",
        "    df = pd.DataFrame(data,columns=columns)\n",
        "\n",
        "    if os.path.exists(output_file_path):\n",
        "        existing_df = pd.read_csv(output_file_path)\n",
        "        final_df = pd.concat([existing_df, df], ignore_index=True)\n",
        "    else:\n",
        "        final_df = df\n",
        "\n",
        "    final_df.to_csv(output_file_path, index=False)"
      ]
    },
    {
      "cell_type": "code",
      "execution_count": null,
      "id": "9abe6cd3-9e3f-4df9-877c-d2bd17702795",
      "metadata": {
        "colab": {
          "referenced_widgets": [
            "0946cd6c6350470dbbf0c4473cfe8555",
            "c6f3c203d3154fe1875e3b6744286fc8",
            "a552795bfe2e47358eeac6530c2bb5b5"
          ]
        },
        "id": "9abe6cd3-9e3f-4df9-877c-d2bd17702795",
        "outputId": "6030204f-ce3e-4e88-9539-0df042c04324"
      },
      "outputs": [
        {
          "data": {
            "application/vnd.jupyter.widget-view+json": {
              "model_id": "0946cd6c6350470dbbf0c4473cfe8555",
              "version_major": 2,
              "version_minor": 0
            },
            "text/plain": [
              "Procesando conjunto SAM_test:   0%|          | 0/107 [00:00<?, ?it/s]"
            ]
          },
          "metadata": {},
          "output_type": "display_data"
        },
        {
          "data": {
            "application/vnd.jupyter.widget-view+json": {
              "model_id": "c6f3c203d3154fe1875e3b6744286fc8",
              "version_major": 2,
              "version_minor": 0
            },
            "text/plain": [
              "Procesando conjunto SAM_valid:   0%|          | 0/810 [00:00<?, ?it/s]"
            ]
          },
          "metadata": {},
          "output_type": "display_data"
        },
        {
          "data": {
            "application/vnd.jupyter.widget-view+json": {
              "model_id": "a552795bfe2e47358eeac6530c2bb5b5",
              "version_major": 2,
              "version_minor": 0
            },
            "text/plain": [
              "Procesando conjunto SAM_train:   0%|          | 0/1605 [00:00<?, ?it/s]"
            ]
          },
          "metadata": {},
          "output_type": "display_data"
        }
      ],
      "source": [
        "#get_attentions_maps(sam_dict2,prefijo='SAM_')\n",
        "prefijo='SAM_'\n",
        "sets = ['test','valid','train']\n",
        "for s in sets:\n",
        "    data = sam_dict2[s]\n",
        "    try:\n",
        "        os.makedirs('./data_Balanced/ViT_Attention_Maps/'+prefijo+s)\n",
        "        os.makedirs('./data_Balanced/ViT_Attention_Maps/'+prefijo+s+'/Cáncer')\n",
        "        os.makedirs('./data_Balanced/ViT_Attention_Maps/'+prefijo+s+'/Control')\n",
        "    except OSError as e:\n",
        "        if e.errno != errno.EEXIST:\n",
        "            raise\n",
        "\n",
        "    for i in trange(len(data),desc=\"Procesando conjunto \"+prefijo+s):\n",
        "        image = data['image'][i]\n",
        "        name = data['image'][i].split('/')[-1].split('.')[0]\n",
        "\n",
        "        if 'C' in name:\n",
        "            dir = './data_Balanced/ViT_Attention_Maps/'+prefijo+s+'/Cáncer/'+name\n",
        "        else:\n",
        "            dir = './data_Balanced/ViT_Attention_Maps/'+prefijo+s+'/Control/'+name\n",
        "\n",
        "        input = feature_extractor([PIL.Image.open(image).convert(\"RGB\")], return_tensors='pt')['pixel_values']\n",
        "        with torch.no_grad():\n",
        "            pred = model(input, output_attentions=True,interpolate_pos_encoding=True)\n",
        "            save_attention(pred,input,dir)"
      ]
    },
    {
      "cell_type": "code",
      "execution_count": null,
      "id": "16325326-b09e-4ab2-8b58-d115a4517bc8",
      "metadata": {
        "colab": {
          "referenced_widgets": [
            "eb3c24b82be0472d8fe5a5e7899ac265",
            "46bf61d13d5c45d883b750157dc2deea",
            "48e67c7428274b2d95ad2a494e74ac27"
          ]
        },
        "id": "16325326-b09e-4ab2-8b58-d115a4517bc8",
        "outputId": "930e4ed9-5885-4195-b2dc-557488bc408e"
      },
      "outputs": [
        {
          "data": {
            "application/vnd.jupyter.widget-view+json": {
              "model_id": "eb3c24b82be0472d8fe5a5e7899ac265",
              "version_major": 2,
              "version_minor": 0
            },
            "text/plain": [
              "Procesando conjunto SAM+DETR_test:   0%|          | 0/107 [00:00<?, ?it/s]"
            ]
          },
          "metadata": {},
          "output_type": "display_data"
        },
        {
          "data": {
            "application/vnd.jupyter.widget-view+json": {
              "model_id": "46bf61d13d5c45d883b750157dc2deea",
              "version_major": 2,
              "version_minor": 0
            },
            "text/plain": [
              "Procesando conjunto SAM+DETR_valid:   0%|          | 0/810 [00:00<?, ?it/s]"
            ]
          },
          "metadata": {},
          "output_type": "display_data"
        },
        {
          "data": {
            "application/vnd.jupyter.widget-view+json": {
              "model_id": "48e67c7428274b2d95ad2a494e74ac27",
              "version_major": 2,
              "version_minor": 0
            },
            "text/plain": [
              "Procesando conjunto SAM+DETR_train:   0%|          | 0/1605 [00:00<?, ?it/s]"
            ]
          },
          "metadata": {},
          "output_type": "display_data"
        }
      ],
      "source": [
        "#get_attentions_maps(sam_dict,prefijo='SAM+DETR_')\n",
        "prefijo='SAM+DETR_'\n",
        "sets = ['test','valid','train']\n",
        "for s in sets:\n",
        "    data = sam_dict[s]\n",
        "    try:\n",
        "        os.makedirs('./data_Balanced/ViT_Attention_Maps/'+prefijo+s)\n",
        "        os.makedirs('./data_Balanced/ViT_Attention_Maps/'+prefijo+s+'/Cáncer')\n",
        "        os.makedirs('./data_Balanced/ViT_Attention_Maps/'+prefijo+s+'/Control')\n",
        "    except OSError as e:\n",
        "        if e.errno != errno.EEXIST:\n",
        "            raise\n",
        "\n",
        "    for i in trange(len(data),desc=\"Procesando conjunto \"+prefijo+s):\n",
        "        image = data['image'][i]\n",
        "        name = data['image'][i].split('/')[-1].split('.')[0]\n",
        "\n",
        "        if 'C' in name:\n",
        "            dir = './data_Balanced/ViT_Attention_Maps/'+prefijo+s+'/Cáncer/'+name\n",
        "        else:\n",
        "            dir = './data_Balanced/ViT_Attention_Maps/'+prefijo+s+'/Control/'+name\n",
        "\n",
        "        input = feature_extractor([PIL.Image.open(image).convert(\"RGB\")], return_tensors='pt')['pixel_values']\n",
        "        with torch.no_grad():\n",
        "            pred = model(input, output_attentions=True,interpolate_pos_encoding=True)\n",
        "            save_attention(pred,input,dir)"
      ]
    },
    {
      "cell_type": "markdown",
      "id": "9759837e-0b7c-4622-8ef4-0c9de5b5df9f",
      "metadata": {
        "jp-MarkdownHeadingCollapsed": true,
        "id": "9759837e-0b7c-4622-8ef4-0c9de5b5df9f"
      },
      "source": [
        "#### About train & valid"
      ]
    },
    {
      "cell_type": "code",
      "execution_count": null,
      "id": "f22695dc-0bf1-4d23-8dcb-8e5631c1f481",
      "metadata": {
        "id": "f22695dc-0bf1-4d23-8dcb-8e5631c1f481"
      },
      "outputs": [],
      "source": [
        "Strainer = Trainer(model=model,\n",
        "                  args=Straining_args,\n",
        "                  data_collator=collate_fn,\n",
        "                  compute_metrics=compute_metrics,\n",
        "                  train_dataset=Strain_dataset,\n",
        "                  eval_dataset=Sval_dataset,\n",
        "                  tokenizer=feature_extractor)"
      ]
    },
    {
      "cell_type": "code",
      "execution_count": null,
      "id": "801f65d5-1c9f-40d5-b017-4801c289f65f",
      "metadata": {
        "id": "801f65d5-1c9f-40d5-b017-4801c289f65f",
        "outputId": "e2f2ffaa-9c47-4501-bf24-5d6806393c0a"
      },
      "outputs": [
        {
          "data": {
            "text/html": [
              "\n",
              "    <div>\n",
              "      \n",
              "      <progress value='1208' max='803' style='width:300px; height:20px; vertical-align: middle;'></progress>\n",
              "      [803/803 02:01]\n",
              "    </div>\n",
              "    "
            ],
            "text/plain": [
              "<IPython.core.display.HTML object>"
            ]
          },
          "metadata": {},
          "output_type": "display_data"
        },
        {
          "data": {
            "text/plain": [
              "{'eval_loss': 0.0038987279403954744,\n",
              " 'eval_f1': 1.0,\n",
              " 'eval_accuracy': 1.0,\n",
              " 'eval_runtime': 27.8238,\n",
              " 'eval_samples_per_second': 57.684,\n",
              " 'eval_steps_per_second': 28.86}"
            ]
          },
          "execution_count": 18,
          "metadata": {},
          "output_type": "execute_result"
        }
      ],
      "source": [
        "#TRAIN - GOLD Seg  - Trained\n",
        "Strainer.evaluate(Strain_dataset)"
      ]
    },
    {
      "cell_type": "code",
      "execution_count": null,
      "id": "0ade73c5-e667-4a10-9fc2-d54de16a04ed",
      "metadata": {
        "id": "0ade73c5-e667-4a10-9fc2-d54de16a04ed",
        "outputId": "af5a56a0-3dd3-4108-aad2-d8517514afda"
      },
      "outputs": [
        {
          "data": {
            "text/plain": [
              "{'eval_loss': 0.005191456060856581,\n",
              " 'eval_f1': 1.0,\n",
              " 'eval_accuracy': 1.0,\n",
              " 'eval_runtime': 16.8536,\n",
              " 'eval_samples_per_second': 48.061,\n",
              " 'eval_steps_per_second': 24.031}"
            ]
          },
          "execution_count": 19,
          "metadata": {},
          "output_type": "execute_result"
        }
      ],
      "source": [
        "#VALID - GOLD Seg  - Trained\n",
        "Strainer.evaluate(Sval_dataset)"
      ]
    },
    {
      "cell_type": "code",
      "execution_count": null,
      "id": "428959c9-158c-41eb-a08f-bf6581919f79",
      "metadata": {
        "id": "428959c9-158c-41eb-a08f-bf6581919f79",
        "outputId": "1c07c27e-fcfd-4840-a12e-a2c7f7e0008c"
      },
      "outputs": [
        {
          "name": "stderr",
          "output_type": "stream",
          "text": [
            "100%|█████████████████████████████████████████████████████████████████████| 1605/1605 [03:12<00:00,  8.34it/s]\n"
          ]
        },
        {
          "name": "stdout",
          "output_type": "stream",
          "text": [
            "Métricas: \n",
            "              precision    recall  f1-score   support\n",
            "\n",
            "           0      1.000     1.000     1.000       810\n",
            "           1      1.000     1.000     1.000       795\n",
            "\n",
            "    accuracy                          1.000      1605\n",
            "   macro avg      1.000     1.000     1.000      1605\n",
            "weighted avg      1.000     1.000     1.000      1605\n",
            "\n"
          ]
        },
        {
          "data": {
            "image/png": "[encoded data removed]",
            "text/plain": [
              "<Figure size 300x300 with 1 Axes>"
            ]
          },
          "metadata": {},
          "output_type": "display_data"
        }
      ],
      "source": [
        "#TRAIN - GOLD Seg - Predicted\n",
        "images = Sdata_dict['train']['image']\n",
        "true_labels = Sdata_dict['train']['labels']\n",
        "predicted=[]\n",
        "\n",
        "for ruta in tqdm(images):\n",
        "    preprocessed_test_image = feature_extractor([PIL.Image.open(ruta).convert(\"RGB\")], return_tensors='pt')['pixel_values']\n",
        "    with torch.no_grad():\n",
        "        preds = model(preprocessed_test_image, output_attentions=True)\n",
        "        predicted.append(preds)\n",
        "\n",
        "my_preds=[pred.logits.argmax().cpu().numpy().tolist() for pred in predicted]\n",
        "\n",
        "print(\"Métricas: \")\n",
        "matc=confusion_matrix(true_labels,\n",
        "                      my_preds)\n",
        "\n",
        "fig, ax = plt.subplots(figsize=(3,3))\n",
        "ax.imshow(matc, interpolation='nearest',cmap=cm.Blues)\n",
        "\n",
        "ax.set_xticks(np.arange(len(labels)))\n",
        "ax.set_yticks(np.arange(len(labels)))\n",
        "ax.set_xticklabels(labels)\n",
        "ax.set_yticklabels(labels,rotation=90)\n",
        "\n",
        "ax.set_xlabel('Predicciones')\n",
        "ax.set_ylabel('Etiquetas Verdaderas')\n",
        "\n",
        "thresh = matc.max() / 2.0\n",
        "for i in range(matc.shape[0]):\n",
        "    for j in range(matc.shape[1]):\n",
        "        ax.text(j, i, format(matc[i, j], 'd'),\n",
        "                ha=\"center\", va=\"center\",\n",
        "                color=\"white\" if matc[i, j] > thresh else \"black\")\n",
        "plt.tight_layout()\n",
        "\n",
        "from sklearn import metrics as pred_metrics\n",
        "print(pred_metrics.classification_report(true_labels, my_preds, digits = 3))"
      ]
    },
    {
      "cell_type": "code",
      "execution_count": null,
      "id": "8233414d-13b8-4477-8573-5fe2cfd103ae",
      "metadata": {
        "id": "8233414d-13b8-4477-8573-5fe2cfd103ae",
        "outputId": "0af70ea6-fd1d-405c-a3f6-e6234d0b8f97"
      },
      "outputs": [
        {
          "name": "stderr",
          "output_type": "stream",
          "text": [
            "100%|███████████████████████████████████████████████████████████████████████| 810/810 [01:42<00:00,  7.92it/s]\n"
          ]
        },
        {
          "name": "stdout",
          "output_type": "stream",
          "text": [
            "Métricas: \n",
            "              precision    recall  f1-score   support\n",
            "\n",
            "           0      1.000     1.000     1.000       405\n",
            "           1      1.000     1.000     1.000       405\n",
            "\n",
            "    accuracy                          1.000       810\n",
            "   macro avg      1.000     1.000     1.000       810\n",
            "weighted avg      1.000     1.000     1.000       810\n",
            "\n"
          ]
        },
        {
          "data": {
            "image/png": "[encoded data removed]",
            "text/plain": [
              "<Figure size 300x300 with 1 Axes>"
            ]
          },
          "metadata": {},
          "output_type": "display_data"
        }
      ],
      "source": [
        "#VALID - GOLD Seg - Predicted\n",
        "images = Sdata_dict['valid']['image']\n",
        "true_labels = Sdata_dict['valid']['labels']\n",
        "predicted=[]\n",
        "\n",
        "for ruta in tqdm(images):\n",
        "    preprocessed_test_image = feature_extractor([PIL.Image.open(ruta).convert(\"RGB\")], return_tensors='pt')['pixel_values']\n",
        "    with torch.no_grad():\n",
        "        preds = model(preprocessed_test_image, output_attentions=True)\n",
        "        predicted.append(preds)\n",
        "\n",
        "my_preds=[pred.logits.argmax().cpu().numpy().tolist() for pred in predicted]\n",
        "\n",
        "print(\"Métricas: \")\n",
        "matc=confusion_matrix(true_labels,\n",
        "                      my_preds)\n",
        "\n",
        "fig, ax = plt.subplots(figsize=(3,3))\n",
        "\n",
        "ax.imshow(matc, interpolation='nearest',cmap=cm.Blues)\n",
        "\n",
        "ax.set_xticks(np.arange(len(labels)))\n",
        "ax.set_yticks(np.arange(len(labels)))\n",
        "ax.set_xticklabels(labels)\n",
        "ax.set_yticklabels(labels,rotation=90)\n",
        "\n",
        "ax.set_xlabel('Predicciones')\n",
        "ax.set_ylabel('Etiquetas Verdaderas')\n",
        "\n",
        "thresh = matc.max() / 2.0\n",
        "for i in range(matc.shape[0]):\n",
        "    for j in range(matc.shape[1]):\n",
        "        ax.text(j, i, format(matc[i, j], 'd'),\n",
        "                ha=\"center\", va=\"center\",\n",
        "                color=\"white\" if matc[i, j] > thresh else \"black\")\n",
        "plt.tight_layout()\n",
        "\n",
        "from sklearn import metrics as pred_metrics\n",
        "print(pred_metrics.classification_report(true_labels, my_preds, digits = 3))"
      ]
    },
    {
      "cell_type": "code",
      "execution_count": null,
      "id": "c275242c-a0b0-4c7f-a0fa-f4b6ee6c3e90",
      "metadata": {
        "id": "c275242c-a0b0-4c7f-a0fa-f4b6ee6c3e90",
        "outputId": "ffa29082-124d-44da-98bd-0518270d0da7"
      },
      "outputs": [
        {
          "name": "stderr",
          "output_type": "stream",
          "text": [
            "100%|█████████████████████████████████████████████████████████████████████| 1605/1605 [03:27<00:00,  7.73it/s]\n"
          ]
        },
        {
          "name": "stdout",
          "output_type": "stream",
          "text": [
            "Métricas: \n",
            "              precision    recall  f1-score   support\n",
            "\n",
            "           0      0.800     0.951     0.869       810\n",
            "           1      0.938     0.757     0.838       795\n",
            "\n",
            "    accuracy                          0.855      1605\n",
            "   macro avg      0.869     0.854     0.853      1605\n",
            "weighted avg      0.868     0.855     0.853      1605\n",
            "\n"
          ]
        },
        {
          "data": {
            "image/png": "[encoded data removed]",
            "text/plain": [
              "<Figure size 300x300 with 1 Axes>"
            ]
          },
          "metadata": {},
          "output_type": "display_data"
        }
      ],
      "source": [
        "#TRAIN - SAM GOLD - Predicted\n",
        "images = sam_dict2['train']['image']\n",
        "true_labels = sam_dict2['train']['labels']\n",
        "prediccion_final(images,true_labels)"
      ]
    },
    {
      "cell_type": "code",
      "execution_count": null,
      "id": "49608f69-c29d-4d33-865e-9d5627abc3c6",
      "metadata": {
        "id": "49608f69-c29d-4d33-865e-9d5627abc3c6",
        "outputId": "aeb615d3-0d00-4fbd-8f13-15c8917e9dda"
      },
      "outputs": [
        {
          "name": "stderr",
          "output_type": "stream",
          "text": [
            "100%|███████████████████████████████████████████████████████████████████████| 810/810 [01:50<00:00,  7.35it/s]\n"
          ]
        },
        {
          "name": "stdout",
          "output_type": "stream",
          "text": [
            "Métricas: \n",
            "              precision    recall  f1-score   support\n",
            "\n",
            "           0      0.762     0.958     0.849       405\n",
            "           1      0.944     0.701     0.805       405\n",
            "\n",
            "    accuracy                          0.830       810\n",
            "   macro avg      0.853     0.830     0.827       810\n",
            "weighted avg      0.853     0.830     0.827       810\n",
            "\n"
          ]
        },
        {
          "data": {
            "image/png": "[encoded data removed]",
            "text/plain": [
              "<Figure size 300x300 with 1 Axes>"
            ]
          },
          "metadata": {},
          "output_type": "display_data"
        }
      ],
      "source": [
        "#VALID - SAM GOLD - Predicted\n",
        "images = sam_dict2['valid']['image']\n",
        "true_labels = sam_dict2['valid']['labels']\n",
        "prediccion_final(images,true_labels)"
      ]
    },
    {
      "cell_type": "code",
      "execution_count": null,
      "id": "7fc94d8c-a53f-4410-ac1f-14fbe7c56728",
      "metadata": {
        "id": "7fc94d8c-a53f-4410-ac1f-14fbe7c56728",
        "outputId": "66eddff3-0dc5-4f5e-d7d3-9767c289a254"
      },
      "outputs": [
        {
          "name": "stderr",
          "output_type": "stream",
          "text": [
            "100%|█████████████████████████████████████████████████████████████████████| 1605/1605 [03:17<00:00,  8.11it/s]\n"
          ]
        },
        {
          "name": "stdout",
          "output_type": "stream",
          "text": [
            "Métricas: \n",
            "              precision    recall  f1-score   support\n",
            "\n",
            "           0      0.745     0.994     0.852       810\n",
            "           1      0.990     0.654     0.788       795\n",
            "\n",
            "    accuracy                          0.826      1605\n",
            "   macro avg      0.868     0.824     0.820      1605\n",
            "weighted avg      0.867     0.826     0.820      1605\n",
            "\n"
          ]
        },
        {
          "data": {
            "image/png": "[encoded data removed]",
            "text/plain": [
              "<Figure size 300x300 with 1 Axes>"
            ]
          },
          "metadata": {},
          "output_type": "display_data"
        }
      ],
      "source": [
        "#TRAIN - DETR+SAM - Predicted\n",
        "images = sam_dict['train']['image']\n",
        "true_labels = sam_dict['train']['labels']\n",
        "prediccion_final(images,true_labels)"
      ]
    },
    {
      "cell_type": "code",
      "execution_count": null,
      "id": "c0ae1b7c-05f7-4790-98a9-033b0569cf22",
      "metadata": {
        "id": "c0ae1b7c-05f7-4790-98a9-033b0569cf22",
        "outputId": "2fc137ef-d9f4-4609-c5fe-f3e71b0cc562"
      },
      "outputs": [
        {
          "name": "stderr",
          "output_type": "stream",
          "text": [
            "100%|███████████████████████████████████████████████████████████████████████| 810/810 [01:41<00:00,  7.97it/s]\n"
          ]
        },
        {
          "name": "stdout",
          "output_type": "stream",
          "text": [
            "Métricas: \n",
            "              precision    recall  f1-score   support\n",
            "\n",
            "           0      0.679     0.985     0.804       405\n",
            "           1      0.973     0.533     0.689       405\n",
            "\n",
            "    accuracy                          0.759       810\n",
            "   macro avg      0.826     0.759     0.746       810\n",
            "weighted avg      0.826     0.759     0.746       810\n",
            "\n"
          ]
        },
        {
          "data": {
            "image/png": "[encoded data removed]",
            "text/plain": [
              "<Figure size 300x300 with 1 Axes>"
            ]
          },
          "metadata": {},
          "output_type": "display_data"
        }
      ],
      "source": [
        "#VALID - DETR+SAM - Predicted\n",
        "images = sam_dict['valid']['image']\n",
        "true_labels = sam_dict['valid']['labels']\n",
        "prediccion_final(images,true_labels)"
      ]
    }
  ],
  "metadata": {
    "kernelspec": {
      "display_name": "Python 3 (ipykernel)",
      "language": "python",
      "name": "python3"
    },
    "language_info": {
      "codemirror_mode": {
        "name": "ipython",
        "version": 3
      },
      "file_extension": ".py",
      "mimetype": "text/x-python",
      "name": "python",
      "nbconvert_exporter": "python",
      "pygments_lexer": "ipython3",
      "version": "3.10.12"
    },
    "colab": {
      "provenance": [],
      "collapsed_sections": [
        "1e82a9ab-66dd-4582-b14f-afe2cee08766",
        "11a803a7-1713-4d7d-92ef-5b1e0363d3e3",
        "8ef09435",
        "387c05a2-83c2-4788-a4e5-81491818e0a9",
        "7da3ef44-d343-4dc5-a682-fb357323f185",
        "5c01dde2",
        "1b7bd724-ab5e-488c-808b-49fdae347aa6",
        "26f1cd06-c1fe-4d9f-9688-ec7f1eee440e",
        "1a423ea5-3837-4260-ad32-37cb3b84e730",
        "b5702142-3267-43c8-9e9c-657da472cc5c",
        "3869f072-5f9d-4292-94bd-68ee60e31ac4",
        "078cc64c-fccd-4400-882b-52349d4ba0f3",
        "e2895ab8-b4dc-4943-863c-1053ff216aab",
        "8d2f9b05-bd95-4bc9-b3af-1fdc2a019166",
        "5f8d842e-f159-423a-8dd7-d0c9d0523e81",
        "9759837e-0b7c-4622-8ef4-0c9de5b5df9f"
      ]
    }
  },
  "nbformat": 4,
  "nbformat_minor": 5
}